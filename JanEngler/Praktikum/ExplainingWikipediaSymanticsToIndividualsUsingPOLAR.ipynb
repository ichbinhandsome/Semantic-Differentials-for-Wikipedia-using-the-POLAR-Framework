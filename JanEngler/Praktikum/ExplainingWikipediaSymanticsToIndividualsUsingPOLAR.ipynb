{
 "cells": [
  {
   "cell_type": "markdown",
   "metadata": {},
   "source": [
    "# Forschungspraktikum SS20 \n",
    "# Semantic Differentials for Wikipedia using the POLAR Framework\n",
    "\n",
    "\n",
    "The POLAR Framework is a method that enables Interpretability for pre-trained word embeddings. The goal of this project is to produce word embeddings from a Wikipedia dataset, and deploy the POLAR framework to different categories of words (e.g. Countries, Politicians, Music, etc) in order to explain the semantic associations behind concepts on Wikipedia. An evaluation setup should assess the quality of the semantic differentials produced."
   ]
  },
  {
   "cell_type": "code",
   "execution_count": 1,
   "metadata": {},
   "outputs": [],
   "source": [
    "import gensim\n",
    "import pathlib\n",
    "import matplotlib.pyplot as plt\n",
    "import pandas as pd\n",
    "import numpy as np\n",
    "import multiprocessing\n",
    "from gensim.corpora.wikicorpus import WikiCorpus #https://radimrehurek.com/gensim/corpora/wikicorpus.html\n",
    "from gensim.models.word2vec import Word2Vec\n",
    "# for 2d visalization (def display_closestwords_tsnescatterplot):\n",
    "from sklearn.manifold import TSNE\n",
    "\n",
    "#From Polar\n",
    "import gensim\n",
    "from numpy import linalg\n",
    "\n",
    "from sklearn.metrics.pairwise import cosine_similarity\n",
    "# progress bar for .ipyth \n",
    "from tqdm import tqdm_notebook as tqdm\n",
    "import time\n",
    "from random import shuffle\n",
    "import sys\n",
    "import nltk \n",
    "from nltk.corpus import wordnet \n",
    "import gc\n",
    "from collections import defaultdict\n",
    "import random\n",
    "import json\n",
    "import os\n",
    "\n",
    "from gensim.scripts.glove2word2vec import glove2word2vec\n",
    "from gensim.test.utils import datapath, get_tmpfile\n",
    "\n",
    "from gensim.test.utils import datapath\n",
    "#%load_ext autotime\n",
    "\n",
    "import subprocess\n",
    "#for saving and loading vectors/lists on disk\n",
    "import pickle"
   ]
  },
  {
   "cell_type": "markdown",
   "metadata": {},
   "source": [
    "# Function for 2d display of vector distances"
   ]
  },
  {
   "cell_type": "code",
   "execution_count": 2,
   "metadata": {},
   "outputs": [],
   "source": [
    "def display_closestwords_tsnescatterplot(model, word, size):\n",
    "    \n",
    "    arr = np.empty((0,size), dtype='f')\n",
    "    word_labels = [word]\n",
    "    close_words = model.wv.similar_by_word(word)\n",
    "    #print(arr)\n",
    "    #print(np.array([model[word]]))\n",
    "    arr = np.append(arr, np.array([model.wv[word]]), axis=0)\n",
    "    \n",
    "    for wrd_score in close_words:\n",
    "        wrd_vector = model.wv[wrd_score[0]]\n",
    "        word_labels.append(wrd_score[0])\n",
    "        arr = np.append(arr, np.array([wrd_vector]), axis=0)\n",
    "        \n",
    "    tsne = TSNE(n_components=2, random_state=0)\n",
    "    np.set_printoptions(suppress=True)\n",
    "    Y = tsne.fit_transform(arr)\n",
    "    x_coords = Y[:, 0]\n",
    "    y_coords = Y[:, 1]\n",
    "    plt.scatter(x_coords, y_coords)\n",
    "    for label, x, y in zip(word_labels, x_coords, y_coords):\n",
    "        plt.annotate(label, xy=(x, y), xytext=(0, 0), textcoords='offset points')\n",
    "        plt.xlim(x_coords.min()+0.00005, x_coords.max()+0.00005)\n",
    "        plt.ylim(y_coords.min()+0.00005, y_coords.max()+0.00005)\n",
    "    plt.show()\n",
    "\n",
    "    \n",
    "#display_closestwords_tsnescatterplot(word2vec, 'trump', 300) "
   ]
  },
  {
   "cell_type": "markdown",
   "metadata": {},
   "source": [
    "# Load the Antonyms into memory"
   ]
  },
  {
   "cell_type": "code",
   "execution_count": 3,
   "metadata": {},
   "outputs": [],
   "source": [
    "def loadAntonyms(model,loadMusicAntonyms, loadCountryAntonyms,loadStandardAntonyms,loadFoodAntonyms): \n",
    "    current_model=model #= word2vec\n",
    "    list_antonym = []\n",
    "    if loadFoodAntonyms== True:    \n",
    "        with open(r'Antonym_sets/food50.txt') as fp:\n",
    "            for line in fp:\n",
    "                parts = line.split()\n",
    "                if parts[1]!=' ':\n",
    "                    word1 = parts[0]\n",
    "                    word2 = parts[1]\n",
    "                    if word1 in current_model and word2 in current_model:\n",
    "                        list_antonym.append((word1.strip().lower(), word2.strip().lower()))\n",
    "\n",
    "\n",
    "    if loadCountryAntonyms== True:    \n",
    "        with open(r'Antonym_sets/country50.txt') as fp:\n",
    "            for line in fp:\n",
    "                parts = line.split()\n",
    "                if parts[1]!=' ':\n",
    "                    word1 = parts[0]\n",
    "                    word2 = parts[1]\n",
    "                    if word1 in current_model and word2 in current_model:\n",
    "                        list_antonym.append((word1.strip().lower(), word2.strip().lower()))\n",
    "    if loadMusicAntonyms== True:\n",
    "        with open(r'Antonym_sets/music50.txt') as fp:\n",
    "            for line in fp:\n",
    "                parts = line.split()\n",
    "                if parts[0]!=' ':\n",
    "                    word1 = parts[0]\n",
    "                    word2 = parts[1]\n",
    "                    if word1 in current_model and word2 in current_model:\n",
    "                        list_antonym.append((word1.strip().lower(), word2.strip().lower()))\n",
    "\n",
    "#POLAR Framework code (https://github.com/Sandipan99/POLAR)\n",
    "    if loadStandardAntonyms==True:\n",
    "        with open(r'Antonym_sets/LenciBenotto.val') as fp:\n",
    "            for line in fp:\n",
    "                parts = line.split()\n",
    "                if parts[3]=='antonym':\n",
    "                    word1 = parts[0].split('-')[0]\n",
    "                    word2 = parts[1].split('-')[0]\n",
    "                    if word1 in current_model and word2 in current_model:\n",
    "                        list_antonym.append((word1.strip().lower(), word2.strip().lower()))\n",
    "\n",
    "\n",
    "        with open(r'Antonym_sets/LenciBenotto.test') as fp:\n",
    "            for line in fp:\n",
    "                parts = line.split()\n",
    "                if parts[3]=='antonym':\n",
    "                    word1 = parts[0].split('-')[0]\n",
    "                    word2 = parts[1].split('-')[0]\n",
    "                    if word1 in current_model and word2 in current_model:\n",
    "                        list_antonym.append((word1.strip().lower(), word2.strip().lower()))\n",
    "\n",
    "        with open(r'Antonym_sets/EVALution.val') as fp:\n",
    "            for line in fp:\n",
    "                parts = line.split()\n",
    "                if parts[3]=='antonym':\n",
    "                    word1 = parts[0].split('-')[0]\n",
    "                    word2 = parts[1].split('-')[0]\n",
    "                    if word1 in current_model and word2 in current_model:\n",
    "                        list_antonym.append((word1.strip().lower(), word2.strip().lower()))\n",
    "\n",
    "        with open(r'Antonym_sets/EVALution.test') as fp:\n",
    "            for line in fp:\n",
    "                parts = line.split()\n",
    "                if parts[3]=='antonym':\n",
    "                    word1 = parts[0].split('-')[0]\n",
    "                    word2 = parts[1].split('-')[0]\n",
    "                    if word1 in current_model and word2 in current_model:\n",
    "                        list_antonym.append((word1.strip().lower(), word2.strip().lower()))\n",
    "\n",
    "\n",
    "    list_antonym = list(dict.fromkeys(list_antonym).keys())\n",
    "    return list_antonym"
   ]
  },
  {
   "cell_type": "markdown",
   "metadata": {},
   "source": [
    "# Computing similarty between Antonyms"
   ]
  },
  {
   "cell_type": "code",
   "execution_count": 4,
   "metadata": {},
   "outputs": [],
   "source": [
    "#POLAR Framework code (https://github.com/Sandipan99/POLAR) :\n",
    "def computeFinalAntonymsSimilariy(list_antonym): \n",
    "    similarity_matrix = defaultdict(list)\n",
    "    #pre processing of antonyms\n",
    "    for each_pair in tqdm(list_antonym):\n",
    "        word1 = each_pair[0]\n",
    "        word2 = each_pair[1]\n",
    "        if word1 < word2: ## welches wort länger ist\n",
    "            similarity_matrix[word1].append(word2)                  #defaultdict(<class 'list'>, {'exclude': ['inscribe']})\n",
    "            #print(similarity_matrix)\n",
    "        else:\n",
    "            similarity_matrix[word2].append(word1)\n",
    "\n",
    "    # computing similarity of antonyms:\n",
    "    all_similarity = defaultdict(dict)\n",
    "    for each_key in tqdm(similarity_matrix):\n",
    "        for each_value in similarity_matrix[each_key]:\n",
    "    #       cosine_similarity\n",
    "            all_similarity[each_key][each_value] = abs(cosine_similarity([current_model.wv[each_key]],[current_model.wv[each_value]])[0][0])\n",
    "\n",
    "    \n",
    "    final_antonym_list = []\n",
    "    for index_counter, each_key in enumerate(tqdm(all_similarity)):\n",
    "        listofTuples = sorted(all_similarity[each_key].items() ,  key=lambda x: x[1])\n",
    "        final_antonym_list.append((each_key, listofTuples[0][0]))\n",
    "\n",
    "    list_antonym = final_antonym_list\n",
    "    return list_antonym, all_similarity"
   ]
  },
  {
   "cell_type": "markdown",
   "metadata": {},
   "source": [
    "# Generate the ORTHOGONAL DIMENSION Order\n",
    "# Subspace selection function"
   ]
  },
  {
   "cell_type": "code",
   "execution_count": 5,
   "metadata": {},
   "outputs": [],
   "source": [
    "import random\n",
    "\n",
    "from scipy.spatial.distance import cosine as scipy_cosine\n",
    "random.seed(42)\n",
    "\n",
    "def computedimension_similarity_matrix(antonymy_vector):\n",
    "    t1 = np.array(antonymy_vector)\n",
    "    dimension_similarity_matrix = defaultdict(dict)\n",
    "    for index_1, each_dim1 in enumerate(tqdm(t1)):\n",
    "        for index_2, each_dim2 in enumerate(t1):\n",
    "            dimension_similarity_matrix[index_1][index_2] = abs(1-scipy_cosine(each_dim1, each_dim2))\n",
    "    return dimension_similarity_matrix\n",
    "        \n",
    "def get_set_score(final_list, each_dim,antonymy_vector,similaityMatrix):\n",
    "    final_output = 0.0\n",
    "    dimension_similarity_matrix=similaityMatrix\n",
    "    for each_vec in final_list:\n",
    "        final_output += dimension_similarity_matrix[each_vec][each_dim]\n",
    "    return final_output/(len(final_list))\n",
    "        \n",
    "def select_subset_dimension(dim_vector, num_dim):\n",
    "    working_list = np.array(dim_vector)\n",
    "    \n",
    "    working_position_index = [i for i in range(working_list.shape[0])]\n",
    "    final_position_index = []\n",
    "    similaityMatrix=computedimension_similarity_matrix(dim_vector)\n",
    "\n",
    "    print('working list is ready, shape', working_list.shape)\n",
    "    sel_dim = random.randrange(0, working_list.shape[0])\n",
    "\n",
    "    final_position_index.append(sel_dim)\n",
    "    \n",
    "    working_position_index.remove(sel_dim)\n",
    "\n",
    "    \n",
    "    for test_count in tqdm(range(num_dim-1)):\n",
    "        min_dim = None\n",
    "        min_score = 1000\n",
    "        for temp_index, each_dim in enumerate(working_position_index):\n",
    "#             print(each_dim)\n",
    "            temp_score = get_set_score(final_position_index, each_dim,dim_vector,similaityMatrix)\n",
    "            if temp_score< min_score:\n",
    "                min_score= temp_score\n",
    "                min_dim = each_dim\n",
    "        #print(test_count,min_dim)\n",
    "        final_position_index.append(min_dim)\n",
    "        working_position_index.remove(min_dim)\n",
    "#         print(working_list.shape, len(final_list))\n",
    "    return final_position_index"
   ]
  },
  {
   "cell_type": "markdown",
   "metadata": {},
   "source": [
    "# Transform into Polar space function"
   ]
  },
  {
   "cell_type": "code",
   "execution_count": 6,
   "metadata": {},
   "outputs": [],
   "source": [
    "def transform_to_antonym_space(current_model, output_file_path, binary, current_antonymy_vector_inverse):\n",
    "    embedding_size = orthogonal_antonymy_vector.shape[0] #current_antonymy_vector_inverse.shape[0]   ##CHANGE THIS ACCORDINGLY!!!\n",
    "    print('New model size is',len(current_model.wv.vocab), embedding_size)\n",
    "\n",
    "    temp_file = None\n",
    "    \n",
    "    if binary:\n",
    "        temp_file = open(output_file_path,'wb')\n",
    "        temp_file.write(str.encode(str(len(current_model.wv.vocab))+' '+str(embedding_size)+'\\n'))\n",
    "    else:\n",
    "        temp_file = open(output_file_path,'w')\n",
    "        temp_file.write(str(len(current_model.wv.vocab))+' '+str(embedding_size)+'\\n')\n",
    "\n",
    "    total_words = 0\n",
    "    for each_word in tqdm(current_model.wv.vocab):\n",
    "        total_words += 1\n",
    "        if binary:\n",
    "            temp_file.write(str.encode(each_word+' '))\n",
    "        else:\n",
    "            temp_file.write(each_word+' ')\n",
    "\n",
    "        new_vector = np.matmul(current_antonymy_vector_inverse,current_model[each_word])\n",
    "\n",
    "        new_vector = new_vector/linalg.norm(new_vector)\n",
    "\n",
    "        \n",
    "        \n",
    "        if binary:\n",
    "            temp_file.write(new_vector)\n",
    "            temp_file.write(str.encode('\\n'))\n",
    "        else:\n",
    "            temp_file.write(str(new_vector))\n",
    "            temp_file.write('\\n')\n",
    "\n",
    "\n",
    "    temp_file.close()\n",
    "\n"
   ]
  },
  {
   "cell_type": "markdown",
   "metadata": {},
   "source": [
    "# Standard Normal transform"
   ]
  },
  {
   "cell_type": "code",
   "execution_count": 7,
   "metadata": {},
   "outputs": [],
   "source": [
    "def standard_normal_dist_model(model, new_filename):\n",
    "    embedding_matrix = []\n",
    "    embedding_vocab = []\n",
    "\n",
    "    temp_file = open(new_filename,'wb')\n",
    "    temp_file.write(str.encode(str(model.vectors.shape[0])+' '+str(model.vectors.shape[1])+'\\n'))\n",
    "    \n",
    "    for each_word in tqdm(model.wv.vocab):\n",
    "        embedding_matrix.append(model[each_word])\n",
    "        embedding_vocab.append(each_word)\n",
    "    \n",
    "    embedding_matrix = np.array(embedding_matrix)\n",
    "    \n",
    "    print('The shape of embedding matrix is {}'.format(embedding_matrix.shape))\n",
    "    \n",
    "    norm_embedding_matrix = (embedding_matrix - embedding_matrix.mean(0))/ embedding_matrix.std(0)\n",
    "    \n",
    "    for word_counter, each_word in enumerate(tqdm(embedding_vocab)):\n",
    "#         assert each_word==embedding_vocab[word_counter],'Not matching!!!'\n",
    "        \n",
    "        temp_file.write(str.encode(each_word+' '))\n",
    "        new_vector = norm_embedding_matrix[word_counter]\n",
    "        temp_file.write(new_vector)\n",
    "        temp_file.write(str.encode('\\n'))\n",
    "        \n",
    "    del embedding_matrix\n",
    "    del embedding_vocab\n",
    "    temp_file.close()"
   ]
  },
  {
   "cell_type": "code",
   "execution_count": null,
   "metadata": {},
   "outputs": [],
   "source": []
  },
  {
   "cell_type": "markdown",
   "metadata": {},
   "source": [
    "# Visulizing polar dimensions"
   ]
  },
  {
   "cell_type": "code",
   "execution_count": 8,
   "metadata": {},
   "outputs": [],
   "source": [
    "# this function plots the value of a word on a polar dimension in 2d\n",
    "def plotPolar(left, right, value):\n",
    "    fig, ax1 = plt.subplots()\n",
    "    fig.set_figheight(1)\n",
    "    \n",
    "\n",
    "    if abs(value)>10:\n",
    "        fig.set_figwidth(20)\n",
    "        ar = np.arange(-20,21)   \n",
    "    else:\n",
    "        fig.set_figwidth(10)\n",
    "        ar = np.arange(-10,11)\n",
    "    ax1.plot(ar, np.zeros_like(ar) + 0, '.')\n",
    "    ax1.plot(value, 0, 'd', linewidth=2, markersize=20, color='r')\n",
    "    ax1.set_ylabel(left, color='b',rotation=0, size=20, labelpad=50)\n",
    "    ax1.set_yticks([])\n",
    "    ax1.set_xticks(ar)\n",
    "    ax1.spines['right'].set_visible(False)\n",
    "    ax1.spines['top'].set_visible(False)\n",
    "    ax1.spines['left'].set_visible(False)\n",
    "    ax1.spines['bottom'].set_visible(False)\n",
    "\n",
    "    ax2 = ax1.twinx()\n",
    "    ax2.set_ylabel(right, color='r',rotation=0, size=20, labelpad=50)\n",
    "    ax2.set_yticks([])\n",
    "    ax1.grid(False)\n",
    "    ax2.grid(False)\n",
    "    ax2.spines['right'].set_visible(False)\n",
    "    ax2.spines['top'].set_visible(False)\n",
    "    ax2.spines['left'].set_visible(False)\n",
    "    ax2.spines['bottom'].set_visible(False)\n",
    "    \n",
    "    \n",
    "    \n",
    "    fig.tight_layout()\n",
    "    plt.show()"
   ]
  },
  {
   "cell_type": "code",
   "execution_count": 9,
   "metadata": {},
   "outputs": [],
   "source": [
    "# This function Plots the value for the top 'numberPolar' dimensions of a word\n",
    "import matplotlib.pyplot as pp\n",
    "def getMeaningOfWord(strWord,antonymy_vector, model, numberPolar ):\n",
    "    #print(antonymy_vector)\n",
    "    word=model[strWord]\n",
    "    thisdict = {}\n",
    "    for count, value in enumerate(word):\n",
    "        thisdict[count]= value\n",
    "    sortedDic=sorted(thisdict.items(), key=lambda item: abs(item[1]))\n",
    "    sortedDic.reverse()\n",
    "   \n",
    "    for i in range(0,numberPolar):\n",
    "        cur_Index=sortedDic[i][0]\n",
    "        originalAntonymIndex=antonymy_vector[cur_Index]\n",
    "        print(sortedDic[i][1])\n",
    "        if cur_Index<50:\n",
    "            print(\"Original\")\n",
    "        else:\n",
    "            print(\"Extended\")\n",
    "        cur_value =sortedDic[i][1]\n",
    "        leftPolar=list_antonym[originalAntonymIndex][0]\n",
    "        rightPolar=list_antonym[originalAntonymIndex][1]\n",
    "        plotPolar(rightPolar, leftPolar, cur_value)\n",
    "    "
   ]
  },
  {
   "cell_type": "markdown",
   "metadata": {},
   "source": [
    "# Use wordnet to generate more antonyms"
   ]
  },
  {
   "cell_type": "code",
   "execution_count": 10,
   "metadata": {},
   "outputs": [
    {
     "name": "stderr",
     "output_type": "stream",
     "text": [
      "[nltk_data] Downloading package wordnet to\n",
      "[nltk_data]     C:\\Users\\Jan\\AppData\\Roaming\\nltk_data...\n",
      "[nltk_data]   Package wordnet is already up-to-date!\n"
     ]
    }
   ],
   "source": [
    "import nltk\n",
    "nltk.download('wordnet')\n",
    " \n",
    "\n",
    "from nltk.stem import PorterStemmer\n",
    "from nltk.corpus import wordnet \n",
    "def addAntonyms(list_antonym, n):  \n",
    "    porter = PorterStemmer()\n",
    "    #Add n synonyms of the already existing pairs to the list\n",
    "    potentialPair=[]\n",
    "    for curAnto in list(sum(list_antonym, ())): #flatten the list of tuples\n",
    "        counter=0# only add maximal n synonyms\n",
    "        for syn in wordnet.synsets(curAnto): #access wordnet \n",
    "            for l in syn.lemmas(): \n",
    "                curName=l.name()\n",
    "                if counter>n-1:\n",
    "                    break       \n",
    "                if curName!=str(curAnto) and curName not in potentialPair: #check if its not the same word/ same word stem porter.stem(l.name())\n",
    "                    if curName in word2vec.wv.vocab:\n",
    "                        potentialPair.append(curName)\n",
    "                        counter+=1   \n",
    "\n",
    "  \n",
    "    newAnto=[]\n",
    "    for leftPair in potentialPair:\n",
    "        for syn in wordnet.synsets(leftPair): \n",
    "            for l in syn.lemmas(): \n",
    "                if l.antonyms(): \n",
    "                    rightPair=l.antonyms()[0].name()\n",
    "                    curSet=(leftPair,rightPair)\n",
    "                    curSetStemmed=(leftPair,porter.stem(rightPair))\n",
    "                    if curSet not in newAnto and curSetStemmed not in curSetStemmed: #don't add already added pairs or their stemms\n",
    "                        if rightPair in word2vec.wv.vocab:\n",
    "                            newAnto.append(curSet)\n",
    "    print(\"The following antonym pairs have been added:\")\n",
    "    print(newAnto)\n",
    "    finalAnto=list_antonym\n",
    "    finalAnto.extend(newAnto)\n",
    "    return finalAnto\n",
    "#testlist_antonym=list_antonym.copy()\n",
    "#finalAnto=addAntonyms(testlist_antonym, 2)\n"
   ]
  },
  {
   "cell_type": "markdown",
   "metadata": {},
   "source": [
    "# Use https://www.synonyms.com/ to get more antonym pairs"
   ]
  },
  {
   "cell_type": "code",
   "execution_count": 11,
   "metadata": {},
   "outputs": [],
   "source": [
    "import requests\n",
    "from bs4 import BeautifulSoup\n",
    "def getAntonymsForWordSynonymsCom(word, model, n):\n",
    "    curWord=word\n",
    "    webSite=\"https://www.synonyms.com/antonyms/\"\n",
    "    response = requests.get(webSite+curWord)\n",
    "    #print(response)\n",
    "    antonyms=[]\n",
    "    counter=0\n",
    "    if response.status_code== 200:\n",
    "        soup = BeautifulSoup(response.text, 'html.parser')\n",
    "        section = soup.findAll('p', {'class': 'ants'})#All\n",
    "        #print(section)\n",
    "        for sec in section:\n",
    "            for li in sec.findAll('a'):\n",
    "                if li.text in model.wv.vocab:   \n",
    "                    antonyms.append(li.text)\n",
    "                    counter+=1\n",
    "                    if counter==2:                       \n",
    "                        return antonyms\n",
    "    return antonyms    \n",
    "        \n",
    "#getAntonymsForWordSynonymsCom(\"dark\", word2vec, 2)"
   ]
  },
  {
   "cell_type": "code",
   "execution_count": 13,
   "metadata": {},
   "outputs": [],
   "source": [
    "\n",
    "\n",
    "def generateNewPairs(model, originalPairs,n):\n",
    "    curVocab=list(sum(originalPairs, ())) #flatten the list of tupels \n",
    "    newPairs=originalPairs\n",
    "    for word in curVocab:\n",
    "        similarWords=model.most_similar(word)[0:5]\n",
    "        for simWord in similarWords:\n",
    "            wordText=simWord[0]\n",
    "            antonyms=getAntonymsForWordSynonymsCom(wordText, model, 2)\n",
    "            for ant in antonyms:\n",
    "                pair=(wordText,ant)\n",
    "                pair2=(ant,wordText) #\n",
    "                if pair not in newPairs and pair2 not in newPairs:\n",
    "                    newPairs.append(pair)\n",
    "                    \n",
    "    return newPairs\n",
    "#generateNewPairs(word2vec, list_antonym,2)    "
   ]
  },
  {
   "cell_type": "code",
   "execution_count": null,
   "metadata": {},
   "outputs": [],
   "source": []
  },
  {
   "cell_type": "code",
   "execution_count": 14,
   "metadata": {},
   "outputs": [],
   "source": [
    "def addSimilarWords(model, originalPairs):\n",
    "    curVocab=list(sum(originalPairs, ())) #flatten the list of tupels \n",
    "    newPairs=originalPairs\n",
    "    for word in curVocab:\n",
    "        similarWords=model.most_similar(word)[0:5]\n",
    "        for simWord in similarWords:\n",
    "            simWord=simWord[0]\n",
    "            for syn in wordnet.synsets(simWord): \n",
    "                for l in syn.lemmas():\n",
    "                    counter=0\n",
    "                    if l.antonyms(): \n",
    "                        rightPair=l.antonyms()[0].name()\n",
    "                        curSet=(simWord,rightPair)\n",
    "                        curSetBackwards=(rightPair,simWord)\n",
    "                        if curSet not in newPairs and curSetBackwards not in newPairs: #don't add already added pairs or their stemms\n",
    "                            if rightPair in word2vec.wv.vocab:\n",
    "                                newPairs.append(curSet)\n",
    "                                counter+=1\n",
    "                                if counter==5:\n",
    "                                    break\n",
    "    return newPairs"
   ]
  },
  {
   "cell_type": "code",
   "execution_count": null,
   "metadata": {},
   "outputs": [],
   "source": []
  },
  {
   "cell_type": "code",
   "execution_count": null,
   "metadata": {},
   "outputs": [],
   "source": []
  },
  {
   "cell_type": "code",
   "execution_count": null,
   "metadata": {},
   "outputs": [],
   "source": []
  },
  {
   "cell_type": "code",
   "execution_count": null,
   "metadata": {},
   "outputs": [],
   "source": []
  },
  {
   "cell_type": "code",
   "execution_count": null,
   "metadata": {},
   "outputs": [],
   "source": []
  },
  {
   "cell_type": "code",
   "execution_count": null,
   "metadata": {},
   "outputs": [],
   "source": []
  },
  {
   "cell_type": "code",
   "execution_count": null,
   "metadata": {},
   "outputs": [],
   "source": []
  },
  {
   "cell_type": "code",
   "execution_count": null,
   "metadata": {},
   "outputs": [],
   "source": []
  },
  {
   "cell_type": "code",
   "execution_count": null,
   "metadata": {},
   "outputs": [],
   "source": []
  },
  {
   "cell_type": "code",
   "execution_count": null,
   "metadata": {},
   "outputs": [],
   "source": []
  },
  {
   "cell_type": "markdown",
   "metadata": {},
   "source": [
    "# Real code starts here"
   ]
  },
  {
   "cell_type": "markdown",
   "metadata": {},
   "source": [
    "# Only run next cell if a new Wikipedia dataset is loaded"
   ]
  },
  {
   "cell_type": "code",
   "execution_count": 15,
   "metadata": {},
   "outputs": [
    {
     "name": "stdout",
     "output_type": "stream",
     "text": [
      "Check if its your first time running this NodeBook\n"
     ]
    },
    {
     "data": {
      "application/vnd.jupyter.widget-view+json": {
       "model_id": "dfc24f5aaa6445e6b31303f6378f3b9d",
       "version_major": 2,
       "version_minor": 0
      },
      "text/plain": [
       "interactive(children=(Checkbox(value=True, description='trainNewModel'), Output()), _dom_classes=('widget-inte…"
      ]
     },
     "metadata": {},
     "output_type": "display_data"
    }
   ],
   "source": [
    "from ipywidgets import interact, interactive, fixed, interact_manual\n",
    "\n",
    "def myFunction(trainNewModel):\n",
    "    return trainNewModel\n",
    "print(\"Check if its your first time running this NodeBook\")\n",
    "trainNewModel=interact(myFunction, trainNewModel=True);"
   ]
  },
  {
   "cell_type": "code",
   "execution_count": 16,
   "metadata": {},
   "outputs": [],
   "source": [
    "trainNewModel=False\n",
    "if trainNewModel==True:\n",
    "    wiki = WikiCorpus(r\"DataSets/enwiki-20200601-pages-articles-multistream1.xml-p1p30303.bz2\", \n",
    "                  lemmatize=False, dictionary={})\n",
    "    #stores the preprocessed dataset, which reduces runtime for the future\n",
    "    wiki.save('SavedWord2Vec/wiki.corpus')\n",
    "    \n",
    "    sentences = list(wiki.get_texts()) #Iterate over the dump, yielding a list of tokens for each article that passed the length and namespace filtering.\n",
    "\n"
   ]
  },
  {
   "cell_type": "markdown",
   "metadata": {},
   "source": [
    "size: The number of dimensions of the embeddings and the default is 100.\n",
    "\n",
    "window: The maximum distance between a target word and words around the target word. The default window is 5.\n",
    "\n",
    "min_count: The minimum count of words to consider when training the model; words with occurrence less than this \n",
    "count will be ignored. The default for min_count is 5.\n",
    "\n",
    "workers: The number of partitions during training and the default workers is 3.\n",
    "\n",
    "sg: The training algorithm, either CBOW(0) or skip gram(1). The default training algorithm is CBOW."
   ]
  },
  {
   "cell_type": "code",
   "execution_count": 17,
   "metadata": {},
   "outputs": [
    {
     "name": "stdout",
     "output_type": "stream",
     "text": [
      "Loading Word2Vec model from file...\n",
      "Finished Loading\n"
     ]
    }
   ],
   "source": [
    "### Compute the Word2Vec model usint following parameters#\n",
    "# Currently using CBOW for testing because of performance issues of skip gram on my laptop #\n",
    "if trainNewModel==True:\n",
    "    print(\"Training Word2Vec model ...\")\n",
    "    params = {'size': 300, 'window': 5, 'min_count': 5, \n",
    "          'workers': max(1, multiprocessing.cpu_count() - 1), 'sample': 1E-3,'sg' : 1}\n",
    "    word2vec = Word2Vec(sentences, **params)\n",
    "    ### Save Word2Vec model to file ###\n",
    "    word2vec.save('SavedWord2Vec/wiki.word2vec.model')\n",
    "    print(\"Finished Training\")\n",
    "else:\n",
    "    ### Loading finished Word2Vec model to memory from file ###\n",
    "    print(\"Loading Word2Vec model from file...\")\n",
    "    word2vec = Word2Vec.load('SavedWord2Vec/wiki.word2vec.model')\n",
    "    print(\"Finished Loading\")\n"
   ]
  },
  {
   "cell_type": "markdown",
   "metadata": {},
   "source": [
    "## King- Man + Woman = Queen?"
   ]
  },
  {
   "cell_type": "code",
   "execution_count": 18,
   "metadata": {},
   "outputs": [
    {
     "name": "stdout",
     "output_type": "stream",
     "text": [
      "Smiliarity of king and queen: 0.62048626\n",
      "Smiliarity of transformed king and queen: 0.59351194\n",
      "The most similar words to out transformation of King to Queen are:\n"
     ]
    },
    {
     "data": {
      "text/plain": [
       "[('king', 0.7447922229766846),\n",
       " ('queen', 0.5935120582580566),\n",
       " ('regnant', 0.5319673418998718),\n",
       " ('woman', 0.5265816450119019),\n",
       " ('consort', 0.5225052237510681),\n",
       " ('berengaria', 0.5126684308052063),\n",
       " ('urraca', 0.5116742253303528),\n",
       " ('kings', 0.5031053423881531),\n",
       " ('isabeau', 0.5030635595321655),\n",
       " ('monarch', 0.4930773079395294)]"
      ]
     },
     "metadata": {},
     "output_type": "display_data"
    },
    {
     "name": "stdout",
     "output_type": "stream",
     "text": [
      "The most similar words to out transformation of France to Japan are:\n"
     ]
    },
    {
     "data": {
      "text/plain": [
       "[('tokyo', 0.7923076152801514),\n",
       " ('japan', 0.7168467044830322),\n",
       " ('osaka', 0.5796914100646973),\n",
       " ('kyushu', 0.5486371517181396),\n",
       " ('ehime', 0.5427321195602417),\n",
       " ('fukuoka', 0.5382509231567383),\n",
       " ('miyagi', 0.5322080850601196),\n",
       " ('ōita', 0.5318936705589294),\n",
       " ('chiba', 0.5310077667236328),\n",
       " ('hachiōji', 0.5294787287712097)]"
      ]
     },
     "metadata": {},
     "output_type": "display_data"
    }
   ],
   "source": [
    "def similarityNameVector(vec, name, model):\n",
    "    cosineSimilarity = np.dot(vec, model.wv[name])/(np.linalg.norm(vec)* np.linalg.norm(model.wv[name]))\n",
    "    return cosineSimilarity\n",
    "\n",
    "print(\"Smiliarity of king and queen:\", word2vec.wv.similarity('king', 'queen'))\n",
    "ourQueen= word2vec.wv['king'] - word2vec.wv['man'] + word2vec.wv['woman']\n",
    "print(\"Smiliarity of transformed king and queen:\", similarityNameVector(ourQueen,'queen',word2vec))\n",
    "\n",
    "print(\"The most similar words to out transformation of King to Queen are:\")\n",
    "display(word2vec.wv.most_similar(positive=[ourQueen], topn=10)) # cosine similarity\n",
    "#word2vec.wv.most_similar(positive=[\"king\"], topn=10)\n",
    "\n",
    "ourJapan= word2vec.wv['france'] - word2vec.wv['paris'] + word2vec.wv['tokyo']\n",
    "print(\"The most similar words to out transformation of France to Japan are:\")\n",
    "display(word2vec.wv.most_similar(positive=[ourJapan], topn=10)) # cosine similarity\n",
    "#word2vec.wv.most_similar(positive=[\"king\"], topn=10)"
   ]
  },
  {
   "cell_type": "markdown",
   "metadata": {},
   "source": [
    "## Usefull functions:\n",
    "\n",
    "word2vec.wv.similarity('star', 'hollywood')  \n",
    "word2vec.wv.most_similar('afghanistan')[:20]"
   ]
  },
  {
   "cell_type": "markdown",
   "metadata": {},
   "source": [
    "# Online training / Resuming training\n",
    "\n",
    "Advanced users can load a model and continue training it with more sentences and new vocabulary words:\n",
    "\n",
    "model = gensim.models.Word2Vec.load(temporary_filepath)\n",
    "more_sentences = [\n",
    "    ['Advanced', 'users', 'can', 'load', 'a', 'model',\n",
    "     'and', 'continue', 'training', 'it', 'with', 'more', 'sentences']\n",
    "]\n",
    "model.build_vocab(more_sentences, update=True)\n",
    "model.train(more_sentences, total_examples=model.corpus_count, epochs=model.iter)\n",
    "\n",
    "cleaning up temporary file\n",
    "import os\n",
    "os.remove(temporary_filepath)"
   ]
  },
  {
   "cell_type": "markdown",
   "metadata": {},
   "source": [
    "## POLAR Framework code (https://github.com/Sandipan99/POLAR) :"
   ]
  },
  {
   "cell_type": "markdown",
   "metadata": {},
   "source": [
    "# Transformation to polar space"
   ]
  },
  {
   "cell_type": "markdown",
   "metadata": {},
   "source": [
    "## Compute the task score for different dimension size"
   ]
  },
  {
   "cell_type": "code",
   "execution_count": 19,
   "metadata": {},
   "outputs": [],
   "source": [
    "def generate_embedding_path(current_model, embedding_path, binary, antonym_vector, curr_dim):\n",
    "    curr_antonym_vector = antonymy_vector[antonym_vector[:curr_dim]]\n",
    "    curr_antonymy_vector_inverse = np.linalg.pinv(np.transpose(curr_antonym_vector))\n",
    "    #transform to polar space and write3s to file\n",
    "    transform_to_antonym_space(current_model, embedding_path, binary,curr_antonymy_vector_inverse)"
   ]
  },
  {
   "cell_type": "code",
   "execution_count": 49,
   "metadata": {},
   "outputs": [
    {
     "name": "stderr",
     "output_type": "stream",
     "text": [
      "C:\\Users\\Jan\\anaconda3\\lib\\site-packages\\ipykernel_launcher.py:31: DeprecationWarning: Call to deprecated `__contains__` (Method will be removed in 4.0.0, use self.wv.__contains__() instead).\n",
      "C:\\Users\\Jan\\anaconda3\\lib\\site-packages\\ipykernel_launcher.py:5: DeprecationWarning: Call to deprecated `most_similar` (Method will be removed in 4.0.0, use self.wv.most_similar() instead).\n",
      "  \"\"\"\n"
     ]
    },
    {
     "name": "stdout",
     "output_type": "stream",
     "text": [
      "47\n",
      "[('silent', 'loud'), ('black', 'white'), ('woman', 'man'), ('recorded', 'live'), ('night', 'day'), ('king', 'queen'), ('young', 'old'), ('artificial', 'natural'), ('forte', 'piano'), ('international', 'domestic'), ('classic', 'modern'), ('medieval', 'future'), ('pop', 'classical'), ('monophonic', 'polyphonic'), ('vocal', 'instrumental'), ('harmony', 'dissonance'), ('fast', 'slow'), ('bass', 'high'), ('deep', 'high'), ('major', 'minor'), ('loud', 'piano'), ('western', 'eastern'), ('light', 'dark'), ('structure', 'unstructured'), ('rich', 'poor'), ('country', 'cultured'), ('progressive', 'regressive'), ('hip', 'uninformed'), ('dance', 'stand'), ('ambient', 'distant'), ('soul', 'body'), ('heavy', 'light'), ('electric', 'relaxed'), ('punk', 'superior'), ('loud', 'soft'), ('brassy', 'tasteful'), ('natural', 'electronic'), ('strong', 'weak'), ('deep', 'shallow'), ('full', 'empty'), ('piercing', 'dull'), ('harsh', 'pleasant'), ('resonant', 'flat'), ('pianissimo', 'fortissimo'), ('piano', 'forte'), ('energetic', 'gentle'), ('joyful', 'depressing'), ('shrill', 'pleading'), ('shrill', 'colourless'), ('deafening', 'soft'), ('white', 'blackness'), ('red', 'neutral'), ('red', 'uncolored'), ('yellow', 'new'), ('yellow', 'honourable'), ('black', 'whiteness'), ('blue', 'cheerful'), ('blue', 'clean'), ('girl', 'boy'), ('girl', 'son'), ('women', 'men'), ('voluptuous', 'strict'), ('person', 'generic'), ('person', 'common'), ('record', 'delete'), ('record', 'erase'), ('living', 'dead'), ('living', 'relative'), ('roam', 'hurry'), ('roam', 'speed'), ('morning', 'evening'), ('regnant', 'powerless'), ('preteen', 'old'), ('teenaged', 'old'), ('younger', 'senior'), ('younger', 'elder'), ('infirm', 'resolute'), ('infirm', 'robust'), ('balding', 'haired'), ('balding', 'hairy'), ('older', 'immature'), ('older', 'young'), ('artificially', 'naturally'), ('crude', 'skilled'), ('crude', 'late'), ('contemporary', 'asynchronous'), ('medieval', 'modern'), ('recognizably', 'unrecognisable'), ('mediaeval', 'modern'), ('ancient', 'young'), ('ancient', 'immature'), ('past', 'hereafter'), ('past', 'futurity'), ('foreseeable', 'unpredictable'), ('foretell', 'assure'), ('foretell', 'calculate'), ('present', 'awol'), ('present', 'absent'), ('sophistic', 'valid'), ('nonclassical', 'neoclassical'), ('nonclassical', 'classic'), ('polyphonic', 'monodic'), ('monophony', 'polyphony'), ('polyphony', 'monody'), ('monophonic', 'binaural'), ('monophonic', 'contrapuntal'), ('staccato', 'smooth'), ('staccato', 'legato'), ('falsetto', 'low'), ('tonality', 'atonality'), ('harmonious', 'dissonant'), ('harmonious', 'false'), ('consonance', 'discordance'), ('consonance', 'dissonance'), ('atonality', 'key'), ('slow', 'rapid'), ('slow', 'presto'), ('sluggish', 'active'), ('sluggish', 'fast'), ('fast', 'rough'), ('fast', 'moral'), ('low', 'high'), ('low', 'overlooking'), ('higher', 'low'), ('lower', 'lift'), ('lower', 'elevate'), ('shallow', 'sound'), ('shallow', 'unfathomable'), ('significant', 'inconsiderable'), ('significant', 'trivial'), ('minor', 'limitless'), ('main', 'unimportant'), ('main', 'mild'), ('principal', 'unimportant'), ('major', 'peanut'), ('eastern', 'occidental'), ('eastern', 'southwestern'), ('southern', 'northern'), ('southern', 'blue'), ('northern', 'gray'), ('northern', 'south'), ('west', 'eastern'), ('west', 'east'), ('southwestern', 'north'), ('western', 'northeastern'), ('east', 'westward'), ('east', 'westbound'), ('gleaming', 'dull'), ('bluish', 'achromatic'), ('bluish', 'neutral'), ('pale', 'colorful'), ('pale', 'colourful'), ('purplish', 'neutral'), ('purplish', 'achromatic'), ('reddish', 'neutral'), ('reddish', 'achromatic'), ('unpolluted', 'impure'), ('unpolluted', 'adulterated'), ('abundant', 'rare'), ('abundant', 'tight'), ('inadequate', 'equal'), ('inadequate', 'competent'), ('good', 'bad'), ('good', 'evil'), ('uneducated', 'lettered'), ('uneducated', 'literate'), ('substandard', 'standard'), ('centrist', 'right'), ('centrist', 'left'), ('conservative', 'liberal'), ('conservative', 'progressive'), ('deflationary', 'inflationary'), ('unsystematic', 'systematic'), ('untruthful', 'honest'), ('untruthful', 'truthful'), ('unproved', 'proved'), ('unproved', 'tried'), ('standing', 'temporary'), ('standing', 'sitting'), ('sit', 'stand'), ('sit', 'lie'), ('fusiform', 'pointless'), ('metal', 'nonmetal'), ('loosened', 'tangled'), ('loosening', 'tightening'), ('discouraging', 'hortatory'), ('discouraging', 'persuasive'), ('hardcore', 'disloyal'), ('hardcore', 'implicit'), ('thrash', 'fail'), ('thrash', 'fall'), ('inferior', 'superior'), ('inferior', 'superordinate'), ('hard', 'palatalised'), ('hard', 'diffused'), ('chewy', 'tender'), ('chewy', 'inelastic'), ('snappy', 'hot'), ('snappy', 'lethargic'), ('streetwise', 'stupid'), ('unoriginal', 'groundbreaking'), ('unoriginal', 'germinal'), ('clichéd', 'original'), ('unsentimental', 'tender'), ('limpid', 'unclear'), ('limpid', 'opaque'), ('weak', 'powerful'), ('weak', 'imperceptible'), ('stronger', 'weaker'), ('strong', 'puny'), ('strong', 'pallid'), ('weakly', 'robust'), ('weakly', 'strongly'), ('fledged', 'immature'), ('complete', 'imperfect'), ('complete', 'incomplete'), ('pretentious', 'unpretentious'), ('pretentious', 'modest'), ('disheveled', 'tidy'), ('disagreeable', 'congenial'), ('disagreeable', 'agreeable'), ('wiry', 'hairless'), ('wiry', 'fat'), ('harshness', 'courtesy'), ('harshness', 'gentleness'), ('brutal', 'mild'), ('brutal', 'humane'), ('atrocious', 'good'), ('pleasantly', 'unpleasantly'), ('windy', 'slow'), ('windy', 'concise'), ('refreshing', 'old'), ('refreshing', 'debilitating'), ('foggy', 'clear'), ('foggy', 'distinct'), ('featureless', 'fancy'), ('sloping', 'steep'), ('sloping', 'horizontal'), ('sloped', 'perpendicular'), ('sloped', 'vertical'), ('bottomed', 'bottomless'), ('fortissimo', 'soft'), ('fortissimo', 'piano'), ('pianissimo', 'forte'), ('pianissimo', 'loud'), ('courteous', 'impolite'), ('courteous', 'abrupt'), ('amiable', 'unfriendly'), ('affable', 'unfriendly'), ('affable', 'adverse'), ('joyous', 'joyless'), ('joyous', 'funereal'), ('somber', 'colorful'), ('somber', 'cheerful'), ('anguished', 'joyful'), ('claustrophobic', 'fearless'), ('depressed', 'high'), ('depressed', 'elated')]\n"
     ]
    },
    {
     "name": "stderr",
     "output_type": "stream",
     "text": [
      "C:\\Users\\Jan\\anaconda3\\lib\\site-packages\\ipykernel_launcher.py:5: TqdmDeprecationWarning: This function will be removed in tqdm==5.0.0\n",
      "Please use `tqdm.notebook.tqdm` instead of `tqdm.tqdm_notebook`\n",
      "  \"\"\"\n"
     ]
    },
    {
     "data": {
      "application/vnd.jupyter.widget-view+json": {
       "model_id": "4a0e9471988c4324838cc0548ecd0b0e",
       "version_major": 2,
       "version_minor": 0
      },
      "text/plain": [
       "HBox(children=(FloatProgress(value=0.0, max=258.0), HTML(value='')))"
      ]
     },
     "metadata": {},
     "output_type": "display_data"
    },
    {
     "name": "stdout",
     "output_type": "stream",
     "text": [
      "\n"
     ]
    },
    {
     "name": "stderr",
     "output_type": "stream",
     "text": [
      "C:\\Users\\Jan\\anaconda3\\lib\\site-packages\\ipykernel_launcher.py:16: TqdmDeprecationWarning: This function will be removed in tqdm==5.0.0\n",
      "Please use `tqdm.notebook.tqdm` instead of `tqdm.tqdm_notebook`\n",
      "  app.launch_new_instance()\n"
     ]
    },
    {
     "data": {
      "application/vnd.jupyter.widget-view+json": {
       "model_id": "2f9c1ee7b6b2477b8ce7a0487f72b4af",
       "version_major": 2,
       "version_minor": 0
      },
      "text/plain": [
       "HBox(children=(FloatProgress(value=0.0, max=209.0), HTML(value='')))"
      ]
     },
     "metadata": {},
     "output_type": "display_data"
    },
    {
     "name": "stdout",
     "output_type": "stream",
     "text": [
      "\n"
     ]
    },
    {
     "name": "stderr",
     "output_type": "stream",
     "text": [
      "C:\\Users\\Jan\\anaconda3\\lib\\site-packages\\ipykernel_launcher.py:23: TqdmDeprecationWarning: This function will be removed in tqdm==5.0.0\n",
      "Please use `tqdm.notebook.tqdm` instead of `tqdm.tqdm_notebook`\n"
     ]
    },
    {
     "data": {
      "application/vnd.jupyter.widget-view+json": {
       "model_id": "64d2234ad1064c65a3f04d5537f7dd25",
       "version_major": 2,
       "version_minor": 0
      },
      "text/plain": [
       "HBox(children=(FloatProgress(value=0.0, max=209.0), HTML(value='')))"
      ]
     },
     "metadata": {},
     "output_type": "display_data"
    },
    {
     "name": "stdout",
     "output_type": "stream",
     "text": [
      "\n"
     ]
    }
   ],
   "source": [
    "#Put it all together\n",
    "\n",
    "loadMusicAntonyms=True\n",
    "loadCountryAntonyms=False\n",
    "loadStandardAntonyms=False\n",
    "loadFoodAntonyms=False\n",
    "current_model=word2vec\n",
    "\n",
    "list_antonym=loadAntonyms(model=word2vec,loadMusicAntonyms=loadMusicAntonyms, loadCountryAntonyms=loadCountryAntonyms,loadStandardAntonyms=loadStandardAntonyms,loadFoodAntonyms=loadFoodAntonyms)\n",
    "print(len(list_antonym))\n",
    "#return None\n",
    "#list_antonym=addAntonyms(list_antonym, 2)  \n",
    "#print(list_antonym)\n",
    "#add antonyms with synonyms.com and similarity\n",
    "\n",
    "list_antonym=generateNewPairs(word2vec, list_antonym,2) \n",
    "\n",
    "#list_antonym=addSimilarWords(word2vec, list_antonym)\n",
    "print(list_antonym)\n",
    "#list_antonym=creatAntonymsFromCategory(genreCorpus,word2vec)\n",
    "\n",
    "list_antonym, all_similarity=computeFinalAntonymsSimilariy(list_antonym)\n",
    "\n",
    "nameTag=\"MusicExtended\"\n",
    "#Standard\n",
    "#Food\n",
    "#Country\n",
    "#CountryExtended\n",
    "\n",
    "#Genre\n",
    "with open(\"SavedWord2Vec/AntonymVector\"+nameTag+\".txt\", \"wb\") as fp:   #Pickling\n",
    "    pickle.dump(list_antonym, fp)\n"
   ]
  },
  {
   "cell_type": "code",
   "execution_count": 50,
   "metadata": {},
   "outputs": [
    {
     "data": {
      "text/plain": [
       "209"
      ]
     },
     "execution_count": 50,
     "metadata": {},
     "output_type": "execute_result"
    }
   ],
   "source": [
    "len(list_antonym)"
   ]
  },
  {
   "cell_type": "code",
   "execution_count": 51,
   "metadata": {},
   "outputs": [
    {
     "name": "stdout",
     "output_type": "stream",
     "text": [
      "(209, 300)\n"
     ]
    }
   ],
   "source": [
    "\n",
    "## Find the antonym difference vectors\n",
    "antonymy_vector = []\n",
    "for each_word_pair in list_antonym:\n",
    "    antonymy_vector.append(current_model.wv[each_word_pair[0]]- current_model.wv[each_word_pair[1]])\n",
    "antonymy_vector = np.array(antonymy_vector)\n",
    "print(antonymy_vector.shape)\n",
    "\n",
    "\n",
    "\n",
    "# Get the orthogonal dimension order\n",
    "if len(list_antonym)>300:\n",
    "    num_antonym = 300#1468\n",
    "    orthogonal_antonymy_vector =np.array(select_subset_dimension(antonymy_vector, num_antonym))  \n",
    "else:\n",
    "    num_antonym=len(list_antonym)-1\n",
    "    orthogonal_antonymy_vector = np.array(range(num_antonym))\n",
    "\n",
    "\n",
    "\n",
    "antonym_vector_method = orthogonal_antonymy_vector # we used only the orthogonality method from the original paper\n",
    "with open(\"SavedWord2Vec/chosenAntonyms\"+nameTag+\".txt\", \"wb\") as fp:   #Pickling\n",
    "    pickle.dump(antonym_vector_method, fp)\n",
    "\n",
    "curr_dim = len(antonym_vector_method)#dim_size"
   ]
  },
  {
   "cell_type": "code",
   "execution_count": 52,
   "metadata": {},
   "outputs": [
    {
     "name": "stdout",
     "output_type": "stream",
     "text": [
      "New model size is 147989 208\n"
     ]
    },
    {
     "name": "stderr",
     "output_type": "stream",
     "text": [
      "C:\\Users\\Jan\\anaconda3\\lib\\site-packages\\ipykernel_launcher.py:15: TqdmDeprecationWarning: This function will be removed in tqdm==5.0.0\n",
      "Please use `tqdm.notebook.tqdm` instead of `tqdm.tqdm_notebook`\n",
      "  from ipykernel import kernelapp as app\n"
     ]
    },
    {
     "data": {
      "application/vnd.jupyter.widget-view+json": {
       "model_id": "4aa99cd5528f40ddad90f01997a297b3",
       "version_major": 2,
       "version_minor": 0
      },
      "text/plain": [
       "HBox(children=(FloatProgress(value=0.0, max=147989.0), HTML(value='')))"
      ]
     },
     "metadata": {},
     "output_type": "display_data"
    },
    {
     "name": "stderr",
     "output_type": "stream",
     "text": [
      "C:\\Users\\Jan\\anaconda3\\lib\\site-packages\\ipykernel_launcher.py:22: DeprecationWarning: Call to deprecated `__getitem__` (Method will be removed in 4.0.0, use self.wv.__getitem__() instead).\n"
     ]
    },
    {
     "name": "stdout",
     "output_type": "stream",
     "text": [
      "\n",
      "loading the model\n",
      "loading done..\n"
     ]
    },
    {
     "name": "stderr",
     "output_type": "stream",
     "text": [
      "C:\\Users\\Jan\\anaconda3\\lib\\site-packages\\ipykernel_launcher.py:8: DeprecationWarning: Call to deprecated `wv` (Attribute will be removed in 4.0.0, use self instead).\n",
      "  \n",
      "C:\\Users\\Jan\\anaconda3\\lib\\site-packages\\ipykernel_launcher.py:8: TqdmDeprecationWarning: This function will be removed in tqdm==5.0.0\n",
      "Please use `tqdm.notebook.tqdm` instead of `tqdm.tqdm_notebook`\n",
      "  \n"
     ]
    },
    {
     "data": {
      "application/vnd.jupyter.widget-view+json": {
       "model_id": "75a2894cd3e2499c9e3d2f15e9bf1519",
       "version_major": 2,
       "version_minor": 0
      },
      "text/plain": [
       "HBox(children=(FloatProgress(value=0.0, max=147989.0), HTML(value='')))"
      ]
     },
     "metadata": {},
     "output_type": "display_data"
    },
    {
     "name": "stdout",
     "output_type": "stream",
     "text": [
      "\n",
      "The shape of embedding matrix is (147989, 208)\n"
     ]
    },
    {
     "name": "stderr",
     "output_type": "stream",
     "text": [
      "C:\\Users\\Jan\\anaconda3\\lib\\site-packages\\ipykernel_launcher.py:18: TqdmDeprecationWarning: This function will be removed in tqdm==5.0.0\n",
      "Please use `tqdm.notebook.tqdm` instead of `tqdm.tqdm_notebook`\n"
     ]
    },
    {
     "data": {
      "application/vnd.jupyter.widget-view+json": {
       "model_id": "c638eb83542c4282b943ef14cbba9636",
       "version_major": 2,
       "version_minor": 0
      },
      "text/plain": [
       "HBox(children=(FloatProgress(value=0.0, max=147989.0), HTML(value='')))"
      ]
     },
     "metadata": {},
     "output_type": "display_data"
    },
    {
     "name": "stdout",
     "output_type": "stream",
     "text": [
      "\n"
     ]
    }
   ],
   "source": [
    "\n",
    "embedding_path = r'SavedWord2Vec/polarEmbedding'+nameTag+str(curr_dim)\n",
    "#embedding_path = r'polarEmbeddingFood265'   \n",
    "# model is transformed to polar space and stored as a file\n",
    "generate_embedding_path(current_model, embedding_path+'.bin',True,antonym_vector_method, curr_dim)\n",
    "\n",
    "# Model is loaded from file to memory\n",
    "print('loading the model')\n",
    "temp_model = gensim.models.KeyedVectors.load_word2vec_format(embedding_path+'.bin', binary=True)\n",
    "print('loading done..')\n",
    "\n",
    "\n",
    "#Model is tranformed to standard normal and stored to file\n",
    "  \n",
    "std_nrml_embedding_path =embedding_path+'_StdNrml.bin'\n",
    "\n",
    "standard_normal_dist_model(temp_model, std_nrml_embedding_path)\n",
    "\n",
    "del temp_model\n"
   ]
  },
  {
   "cell_type": "markdown",
   "metadata": {},
   "source": [
    "## Our Testing"
   ]
  },
  {
   "cell_type": "code",
   "execution_count": 53,
   "metadata": {},
   "outputs": [
    {
     "name": "stdout",
     "output_type": "stream",
     "text": [
      "Load Polar model into memory\n",
      "Finished Loading\n"
     ]
    }
   ],
   "source": [
    "curr_dim = num_antonym\n",
    "#embedding_path = r'SavedWord2Vec/polarEmbedding'+str(curr_dim)    \n",
    "nameTag=\"MusicExtended\"\n",
    "embedding_path = r'SavedWord2Vec/polarEmbedding'+nameTag+str(curr_dim)\n",
    "path=embedding_path+'_StdNrml.bin'\n",
    "# Load the normalized model in Polar dimensions into memory\n",
    "print(\"Load Polar model into memory\")\n",
    "word2vecPolar = gensim.models.KeyedVectors.load_word2vec_format(path, binary=True)\n",
    "print(\"Finished Loading\")"
   ]
  },
  {
   "cell_type": "code",
   "execution_count": 54,
   "metadata": {},
   "outputs": [],
   "source": [
    "\n",
    "with open(\"SavedWord2Vec/AntonymVector\"+nameTag+\".txt\", \"rb\") as fp:   # Unpickling\n",
    "    list_antonym = pickle.load(fp)\n",
    "with open(\"SavedWord2Vec/chosenAntonyms\"+nameTag+\".txt\", \"rb\") as fp:   # Unpickling\n",
    "    orthogonal_antonymy_vector = pickle.load(fp)\n"
   ]
  },
  {
   "cell_type": "code",
   "execution_count": 55,
   "metadata": {},
   "outputs": [
    {
     "data": {
      "text/plain": [
       "[('loud', 'silent'),\n",
       " ('black', 'whiteness'),\n",
       " ('man', 'woman'),\n",
       " ('live', 'recorded'),\n",
       " ('day', 'night'),\n",
       " ('king', 'queen'),\n",
       " ('old', 'refreshing'),\n",
       " ('artificial', 'natural'),\n",
       " ('forte', 'piano'),\n",
       " ('domestic', 'international'),\n",
       " ('classic', 'nonclassical'),\n",
       " ('future', 'medieval'),\n",
       " ('classical', 'pop'),\n",
       " ('monophonic', 'polyphonic'),\n",
       " ('instrumental', 'vocal'),\n",
       " ('dissonance', 'harmony'),\n",
       " ('fast', 'moral'),\n",
       " ('bass', 'high'),\n",
       " ('deep', 'high'),\n",
       " ('major', 'peanut'),\n",
       " ('eastern', 'occidental'),\n",
       " ('dark', 'light'),\n",
       " ('structure', 'unstructured'),\n",
       " ('poor', 'rich'),\n",
       " ('country', 'cultured'),\n",
       " ('progressive', 'regressive'),\n",
       " ('hip', 'uninformed'),\n",
       " ('dance', 'stand'),\n",
       " ('ambient', 'distant'),\n",
       " ('body', 'soul'),\n",
       " ('heavy', 'light'),\n",
       " ('electric', 'relaxed'),\n",
       " ('punk', 'superior'),\n",
       " ('brassy', 'tasteful'),\n",
       " ('electronic', 'natural'),\n",
       " ('strong', 'weak'),\n",
       " ('empty', 'full'),\n",
       " ('dull', 'piercing'),\n",
       " ('harsh', 'pleasant'),\n",
       " ('flat', 'resonant'),\n",
       " ('fortissimo', 'soft'),\n",
       " ('energetic', 'gentle'),\n",
       " ('depressing', 'joyful'),\n",
       " ('pleading', 'shrill'),\n",
       " ('colourless', 'shrill'),\n",
       " ('deafening', 'soft'),\n",
       " ('blackness', 'white'),\n",
       " ('neutral', 'red'),\n",
       " ('red', 'uncolored'),\n",
       " ('new', 'yellow'),\n",
       " ('honourable', 'yellow'),\n",
       " ('blue', 'clean'),\n",
       " ('boy', 'girl'),\n",
       " ('girl', 'son'),\n",
       " ('men', 'women'),\n",
       " ('strict', 'voluptuous'),\n",
       " ('generic', 'person'),\n",
       " ('common', 'person'),\n",
       " ('delete', 'record'),\n",
       " ('erase', 'record'),\n",
       " ('dead', 'living'),\n",
       " ('living', 'relative'),\n",
       " ('hurry', 'roam'),\n",
       " ('roam', 'speed'),\n",
       " ('evening', 'morning'),\n",
       " ('powerless', 'regnant'),\n",
       " ('senior', 'younger'),\n",
       " ('elder', 'younger'),\n",
       " ('infirm', 'robust'),\n",
       " ('balding', 'hairy'),\n",
       " ('immature', 'older'),\n",
       " ('older', 'young'),\n",
       " ('artificially', 'naturally'),\n",
       " ('crude', 'late'),\n",
       " ('asynchronous', 'contemporary'),\n",
       " ('medieval', 'modern'),\n",
       " ('recognizably', 'unrecognisable'),\n",
       " ('mediaeval', 'modern'),\n",
       " ('ancient', 'young'),\n",
       " ('hereafter', 'past'),\n",
       " ('futurity', 'past'),\n",
       " ('foreseeable', 'unpredictable'),\n",
       " ('assure', 'foretell'),\n",
       " ('calculate', 'foretell'),\n",
       " ('awol', 'present'),\n",
       " ('absent', 'present'),\n",
       " ('sophistic', 'valid'),\n",
       " ('neoclassical', 'nonclassical'),\n",
       " ('monodic', 'polyphonic'),\n",
       " ('monophony', 'polyphony'),\n",
       " ('monody', 'polyphony'),\n",
       " ('binaural', 'monophonic'),\n",
       " ('contrapuntal', 'monophonic'),\n",
       " ('smooth', 'staccato'),\n",
       " ('legato', 'staccato'),\n",
       " ('falsetto', 'low'),\n",
       " ('atonality', 'key'),\n",
       " ('dissonant', 'harmonious'),\n",
       " ('false', 'harmonious'),\n",
       " ('consonance', 'discordance'),\n",
       " ('rapid', 'slow'),\n",
       " ('presto', 'slow'),\n",
       " ('active', 'sluggish'),\n",
       " ('high', 'low'),\n",
       " ('low', 'overlooking'),\n",
       " ('higher', 'low'),\n",
       " ('lift', 'lower'),\n",
       " ('elevate', 'lower'),\n",
       " ('shallow', 'sound'),\n",
       " ('inconsiderable', 'significant'),\n",
       " ('significant', 'trivial'),\n",
       " ('limitless', 'minor'),\n",
       " ('main', 'mild'),\n",
       " ('principal', 'unimportant'),\n",
       " ('northern', 'south'),\n",
       " ('gray', 'northern'),\n",
       " ('east', 'westbound'),\n",
       " ('north', 'southwestern'),\n",
       " ('northeastern', 'western'),\n",
       " ('achromatic', 'reddish'),\n",
       " ('bluish', 'neutral'),\n",
       " ('colorful', 'pale'),\n",
       " ('colourful', 'pale'),\n",
       " ('impure', 'unpolluted'),\n",
       " ('adulterated', 'unpolluted'),\n",
       " ('abundant', 'tight'),\n",
       " ('equal', 'inadequate'),\n",
       " ('competent', 'inadequate'),\n",
       " ('bad', 'good'),\n",
       " ('evil', 'good'),\n",
       " ('lettered', 'uneducated'),\n",
       " ('literate', 'uneducated'),\n",
       " ('standard', 'substandard'),\n",
       " ('centrist', 'right'),\n",
       " ('conservative', 'progressive'),\n",
       " ('deflationary', 'inflationary'),\n",
       " ('systematic', 'unsystematic'),\n",
       " ('honest', 'untruthful'),\n",
       " ('truthful', 'untruthful'),\n",
       " ('proved', 'unproved'),\n",
       " ('tried', 'unproved'),\n",
       " ('standing', 'temporary'),\n",
       " ('sitting', 'standing'),\n",
       " ('sit', 'stand'),\n",
       " ('lie', 'sit'),\n",
       " ('fusiform', 'pointless'),\n",
       " ('metal', 'nonmetal'),\n",
       " ('loosened', 'tangled'),\n",
       " ('loosening', 'tightening'),\n",
       " ('discouraging', 'persuasive'),\n",
       " ('disloyal', 'hardcore'),\n",
       " ('hardcore', 'implicit'),\n",
       " ('fail', 'thrash'),\n",
       " ('fall', 'thrash'),\n",
       " ('inferior', 'superordinate'),\n",
       " ('hard', 'palatalised'),\n",
       " ('diffused', 'hard'),\n",
       " ('chewy', 'tender'),\n",
       " ('hot', 'snappy'),\n",
       " ('lethargic', 'snappy'),\n",
       " ('streetwise', 'stupid'),\n",
       " ('groundbreaking', 'unoriginal'),\n",
       " ('germinal', 'unoriginal'),\n",
       " ('clichéd', 'original'),\n",
       " ('tender', 'unsentimental'),\n",
       " ('limpid', 'unclear'),\n",
       " ('powerful', 'weak'),\n",
       " ('imperceptible', 'weak'),\n",
       " ('stronger', 'weaker'),\n",
       " ('puny', 'strong'),\n",
       " ('pallid', 'strong'),\n",
       " ('robust', 'weakly'),\n",
       " ('strongly', 'weakly'),\n",
       " ('fledged', 'immature'),\n",
       " ('complete', 'imperfect'),\n",
       " ('pretentious', 'unpretentious'),\n",
       " ('modest', 'pretentious'),\n",
       " ('disheveled', 'tidy'),\n",
       " ('congenial', 'disagreeable'),\n",
       " ('agreeable', 'disagreeable'),\n",
       " ('hairless', 'wiry'),\n",
       " ('fat', 'wiry'),\n",
       " ('courtesy', 'harshness'),\n",
       " ('gentleness', 'harshness'),\n",
       " ('brutal', 'mild'),\n",
       " ('atrocious', 'good'),\n",
       " ('pleasantly', 'unpleasantly'),\n",
       " ('slow', 'windy'),\n",
       " ('concise', 'windy'),\n",
       " ('debilitating', 'refreshing'),\n",
       " ('clear', 'foggy'),\n",
       " ('distinct', 'foggy'),\n",
       " ('fancy', 'featureless'),\n",
       " ('sloping', 'steep'),\n",
       " ('horizontal', 'sloping'),\n",
       " ('perpendicular', 'sloped'),\n",
       " ('sloped', 'vertical'),\n",
       " ('bottomed', 'bottomless'),\n",
       " ('courteous', 'impolite'),\n",
       " ('abrupt', 'courteous'),\n",
       " ('amiable', 'unfriendly'),\n",
       " ('affable', 'unfriendly'),\n",
       " ('adverse', 'affable'),\n",
       " ('joyless', 'joyous'),\n",
       " ('funereal', 'joyous'),\n",
       " ('cheerful', 'somber'),\n",
       " ('anguished', 'joyful'),\n",
       " ('claustrophobic', 'fearless'),\n",
       " ('depressed', 'high')]"
      ]
     },
     "execution_count": 55,
     "metadata": {},
     "output_type": "execute_result"
    }
   ],
   "source": [
    "list_antonym"
   ]
  },
  {
   "cell_type": "markdown",
   "metadata": {},
   "source": [
    "## word2vecPolar: Polar Model\n",
    "## word2vec: Original Model\n",
    "\n",
    "Testing"
   ]
  },
  {
   "cell_type": "code",
   "execution_count": 53,
   "metadata": {},
   "outputs": [
    {
     "name": "stderr",
     "output_type": "stream",
     "text": [
      "C:\\Users\\Jan\\anaconda3\\lib\\site-packages\\ipykernel_launcher.py:1: DeprecationWarning: Call to deprecated `most_similar` (Method will be removed in 4.0.0, use self.wv.most_similar() instead).\n",
      "  \"\"\"Entry point for launching an IPython kernel.\n"
     ]
    },
    {
     "data": {
      "text/plain": [
       "[('astringent', 0.5403270721435547),\n",
       " ('bitterness', 0.5316562056541443),\n",
       " ('aftertaste', 0.5275493860244751),\n",
       " ('mulled', 0.49427440762519836),\n",
       " ('umami', 0.4914352595806122),\n",
       " ('sour', 0.49141159653663635),\n",
       " ('simmered', 0.4858425259590149),\n",
       " ('tangy', 0.48192715644836426),\n",
       " ('soured', 0.4815868139266968),\n",
       " ('fractious', 0.48147469758987427)]"
      ]
     },
     "execution_count": 53,
     "metadata": {},
     "output_type": "execute_result"
    }
   ],
   "source": [
    "word2vec.most_similar(positive=[\"bitter\"], topn=10) # cosine similarity"
   ]
  },
  {
   "cell_type": "code",
   "execution_count": null,
   "metadata": {},
   "outputs": [],
   "source": [
    "for i in orthogonal_antonymy_vector:\n",
    "    print(list_antonym[i])"
   ]
  },
  {
   "cell_type": "code",
   "execution_count": 69,
   "metadata": {
    "scrolled": false
   },
   "outputs": [
    {
     "name": "stdout",
     "output_type": "stream",
     "text": [
      "-9.750478\n",
      "Original\n"
     ]
    },
    {
     "data": {
      "image/png": "[encoded data removed]",
      "text/plain": [
       "<Figure size 720x72 with 2 Axes>"
      ]
     },
     "metadata": {
      "needs_background": "light"
     },
     "output_type": "display_data"
    },
    {
     "name": "stdout",
     "output_type": "stream",
     "text": [
      "-3.0881672\n",
      "Extended\n"
     ]
    },
    {
     "data": {
      "image/png": "[encoded data removed]",
      "text/plain": [
       "<Figure size 720x72 with 2 Axes>"
      ]
     },
     "metadata": {
      "needs_background": "light"
     },
     "output_type": "display_data"
    },
    {
     "name": "stdout",
     "output_type": "stream",
     "text": [
      "-3.0669188\n",
      "Extended\n"
     ]
    },
    {
     "data": {
      "image/png": "[encoded data removed]",
      "text/plain": [
       "<Figure size 720x72 with 2 Axes>"
      ]
     },
     "metadata": {
      "needs_background": "light"
     },
     "output_type": "display_data"
    },
    {
     "name": "stdout",
     "output_type": "stream",
     "text": [
      "-2.4912317\n",
      "Extended\n"
     ]
    },
    {
     "data": {
      "image/png": "[encoded data removed]",
      "text/plain": [
       "<Figure size 720x72 with 2 Axes>"
      ]
     },
     "metadata": {
      "needs_background": "light"
     },
     "output_type": "display_data"
    },
    {
     "name": "stdout",
     "output_type": "stream",
     "text": [
      "2.4365559\n",
      "Extended\n"
     ]
    },
    {
     "data": {
      "image/png": "[encoded data removed]",
      "text/plain": [
       "<Figure size 720x72 with 2 Axes>"
      ]
     },
     "metadata": {
      "needs_background": "light"
     },
     "output_type": "display_data"
    },
    {
     "name": "stdout",
     "output_type": "stream",
     "text": [
      "-2.4307873\n",
      "Extended\n"
     ]
    },
    {
     "data": {
      "image/png": "[encoded data removed]",
      "text/plain": [
       "<Figure size 720x72 with 2 Axes>"
      ]
     },
     "metadata": {
      "needs_background": "light"
     },
     "output_type": "display_data"
    },
    {
     "name": "stdout",
     "output_type": "stream",
     "text": [
      "-2.3651886\n",
      "Extended\n"
     ]
    },
    {
     "data": {
      "image/png": "[encoded data removed]",
      "text/plain": [
       "<Figure size 720x72 with 2 Axes>"
      ]
     },
     "metadata": {
      "needs_background": "light"
     },
     "output_type": "display_data"
    },
    {
     "name": "stdout",
     "output_type": "stream",
     "text": [
      "2.339505\n",
      "Extended\n"
     ]
    },
    {
     "data": {
      "image/png": "[encoded data removed]",
      "text/plain": [
       "<Figure size 720x72 with 2 Axes>"
      ]
     },
     "metadata": {
      "needs_background": "light"
     },
     "output_type": "display_data"
    },
    {
     "name": "stdout",
     "output_type": "stream",
     "text": [
      "-2.3353422\n",
      "Original\n"
     ]
    },
    {
     "data": {
      "image/png": "[encoded data removed]",
      "text/plain": [
       "<Figure size 720x72 with 2 Axes>"
      ]
     },
     "metadata": {
      "needs_background": "light"
     },
     "output_type": "display_data"
    },
    {
     "name": "stdout",
     "output_type": "stream",
     "text": [
      "-2.2503352\n",
      "Extended\n"
     ]
    },
    {
     "data": {
      "image/png": "[encoded data removed]",
      "text/plain": [
       "<Figure size 720x72 with 2 Axes>"
      ]
     },
     "metadata": {
      "needs_background": "light"
     },
     "output_type": "display_data"
    },
    {
     "name": "stdout",
     "output_type": "stream",
     "text": [
      "2.2032032\n",
      "Extended\n"
     ]
    },
    {
     "data": {
      "image/png": "[encoded data removed]",
      "text/plain": [
       "<Figure size 720x72 with 2 Axes>"
      ]
     },
     "metadata": {
      "needs_background": "light"
     },
     "output_type": "display_data"
    },
    {
     "name": "stdout",
     "output_type": "stream",
     "text": [
      "-2.1751654\n",
      "Extended\n"
     ]
    },
    {
     "data": {
      "image/png": "[encoded data removed]",
      "text/plain": [
       "<Figure size 720x72 with 2 Axes>"
      ]
     },
     "metadata": {
      "needs_background": "light"
     },
     "output_type": "display_data"
    },
    {
     "name": "stdout",
     "output_type": "stream",
     "text": [
      "2.1424487\n",
      "Extended\n"
     ]
    },
    {
     "data": {
      "image/png": "[encoded data removed]",
      "text/plain": [
       "<Figure size 720x72 with 2 Axes>"
      ]
     },
     "metadata": {
      "needs_background": "light"
     },
     "output_type": "display_data"
    },
    {
     "name": "stdout",
     "output_type": "stream",
     "text": [
      "-2.1366613\n",
      "Extended\n"
     ]
    },
    {
     "data": {
      "image/png": "[encoded data removed]",
      "text/plain": [
       "<Figure size 720x72 with 2 Axes>"
      ]
     },
     "metadata": {
      "needs_background": "light"
     },
     "output_type": "display_data"
    },
    {
     "name": "stdout",
     "output_type": "stream",
     "text": [
      "2.1063752\n",
      "Extended\n"
     ]
    },
    {
     "data": {
      "image/png": "[encoded data removed]",
      "text/plain": [
       "<Figure size 720x72 with 2 Axes>"
      ]
     },
     "metadata": {
      "needs_background": "light"
     },
     "output_type": "display_data"
    },
    {
     "name": "stdout",
     "output_type": "stream",
     "text": [
      "-2.0548878\n",
      "Extended\n"
     ]
    },
    {
     "data": {
      "image/png": "[encoded data removed]",
      "text/plain": [
       "<Figure size 720x72 with 2 Axes>"
      ]
     },
     "metadata": {
      "needs_background": "light"
     },
     "output_type": "display_data"
    },
    {
     "name": "stdout",
     "output_type": "stream",
     "text": [
      "1.993973\n",
      "Extended\n"
     ]
    },
    {
     "data": {
      "image/png": "[encoded data removed]",
      "text/plain": [
       "<Figure size 720x72 with 2 Axes>"
      ]
     },
     "metadata": {
      "needs_background": "light"
     },
     "output_type": "display_data"
    },
    {
     "name": "stdout",
     "output_type": "stream",
     "text": [
      "-1.9933254\n",
      "Original\n"
     ]
    },
    {
     "data": {
      "image/png": "[encoded data removed]",
      "text/plain": [
       "<Figure size 720x72 with 2 Axes>"
      ]
     },
     "metadata": {
      "needs_background": "light"
     },
     "output_type": "display_data"
    },
    {
     "name": "stdout",
     "output_type": "stream",
     "text": [
      "-1.9863496\n",
      "Original\n"
     ]
    },
    {
     "data": {
      "image/png": "[encoded data removed]",
      "text/plain": [
       "<Figure size 720x72 with 2 Axes>"
      ]
     },
     "metadata": {
      "needs_background": "light"
     },
     "output_type": "display_data"
    },
    {
     "name": "stdout",
     "output_type": "stream",
     "text": [
      "-1.9735017\n",
      "Extended\n"
     ]
    },
    {
     "data": {
      "image/png": "[encoded data removed]",
      "text/plain": [
       "<Figure size 720x72 with 2 Axes>"
      ]
     },
     "metadata": {
      "needs_background": "light"
     },
     "output_type": "display_data"
    },
    {
     "name": "stdout",
     "output_type": "stream",
     "text": [
      "1.9658319\n",
      "Extended\n"
     ]
    },
    {
     "data": {
      "image/png": "[encoded data removed]",
      "text/plain": [
       "<Figure size 720x72 with 2 Axes>"
      ]
     },
     "metadata": {
      "needs_background": "light"
     },
     "output_type": "display_data"
    },
    {
     "name": "stdout",
     "output_type": "stream",
     "text": [
      "-1.9644791\n",
      "Extended\n"
     ]
    },
    {
     "data": {
      "image/png": "[encoded data removed]",
      "text/plain": [
       "<Figure size 720x72 with 2 Axes>"
      ]
     },
     "metadata": {
      "needs_background": "light"
     },
     "output_type": "display_data"
    },
    {
     "name": "stdout",
     "output_type": "stream",
     "text": [
      "1.9506465\n",
      "Extended\n"
     ]
    },
    {
     "data": {
      "image/png": "[encoded data removed]",
      "text/plain": [
       "<Figure size 720x72 with 2 Axes>"
      ]
     },
     "metadata": {
      "needs_background": "light"
     },
     "output_type": "display_data"
    },
    {
     "name": "stdout",
     "output_type": "stream",
     "text": [
      "-1.892957\n",
      "Extended\n"
     ]
    },
    {
     "data": {
      "image/png": "[encoded data removed]",
      "text/plain": [
       "<Figure size 720x72 with 2 Axes>"
      ]
     },
     "metadata": {
      "needs_background": "light"
     },
     "output_type": "display_data"
    },
    {
     "name": "stdout",
     "output_type": "stream",
     "text": [
      "-1.8881218\n",
      "Original\n"
     ]
    },
    {
     "data": {
      "image/png": "[encoded data removed]",
      "text/plain": [
       "<Figure size 720x72 with 2 Axes>"
      ]
     },
     "metadata": {
      "needs_background": "light"
     },
     "output_type": "display_data"
    },
    {
     "name": "stdout",
     "output_type": "stream",
     "text": [
      "1.8820754\n",
      "Extended\n"
     ]
    },
    {
     "data": {
      "image/png": "[encoded data removed]",
      "text/plain": [
       "<Figure size 720x72 with 2 Axes>"
      ]
     },
     "metadata": {
      "needs_background": "light"
     },
     "output_type": "display_data"
    },
    {
     "name": "stdout",
     "output_type": "stream",
     "text": [
      "-1.8661991\n",
      "Extended\n"
     ]
    },
    {
     "data": {
      "image/png": "[encoded data removed]",
      "text/plain": [
       "<Figure size 720x72 with 2 Axes>"
      ]
     },
     "metadata": {
      "needs_background": "light"
     },
     "output_type": "display_data"
    },
    {
     "name": "stdout",
     "output_type": "stream",
     "text": [
      "1.8558306\n",
      "Extended\n"
     ]
    },
    {
     "data": {
      "image/png": "[encoded data removed]",
      "text/plain": [
       "<Figure size 720x72 with 2 Axes>"
      ]
     },
     "metadata": {
      "needs_background": "light"
     },
     "output_type": "display_data"
    },
    {
     "name": "stdout",
     "output_type": "stream",
     "text": [
      "1.8551927\n",
      "Extended\n"
     ]
    },
    {
     "data": {
      "image/png": "[encoded data removed]",
      "text/plain": [
       "<Figure size 720x72 with 2 Axes>"
      ]
     },
     "metadata": {
      "needs_background": "light"
     },
     "output_type": "display_data"
    },
    {
     "name": "stdout",
     "output_type": "stream",
     "text": [
      "1.8233758\n",
      "Extended\n"
     ]
    },
    {
     "data": {
      "image/png": "[encoded data removed]",
      "text/plain": [
       "<Figure size 720x72 with 2 Axes>"
      ]
     },
     "metadata": {
      "needs_background": "light"
     },
     "output_type": "display_data"
    }
   ],
   "source": [
    "# Plot top 10 polar dimensions for a word\n",
    "currWord='pop'\n",
    "howManyDimension=30\n",
    "\n",
    "getMeaningOfWord(currWord,orthogonal_antonymy_vector, word2vecPolar, howManyDimension )"
   ]
  },
  {
   "cell_type": "code",
   "execution_count": null,
   "metadata": {},
   "outputs": [],
   "source": []
  },
  {
   "cell_type": "code",
   "execution_count": null,
   "metadata": {},
   "outputs": [],
   "source": [
    "#print(word2vecPolar[\"screenshot\"])\n",
    "word=word2vecPolar[\"water\"]\n",
    "print(word)\n",
    "#print(list_antonym)\n",
    "#print(orthogonal_antonymy_vector)\n",
    "thisdict = {}\n",
    "\n",
    "#indexedList=[]\n",
    "for count, value in enumerate(word):\n",
    "    thisdict[count]= value\n",
    "#print(thisdict)\n",
    "\n",
    "sortedDic=sorted(thisdict.items(), key=lambda item: abs(item[1]))\n",
    "sortedDic.reverse()\n",
    "#print(sortedDic)\n",
    "for i in range(0,5):\n",
    "    cur_Index=sortedDic[i][0]\n",
    "    originalAntonymIndex=orthogonal_antonymy_vector[cur_Index]\n",
    "    #print(originalAntonymIndex)\n",
    "    print(sortedDic[i][1])\n",
    "    print(list_antonym[originalAntonymIndex])\n",
    "    #print(sortedDic[i])"
   ]
  },
  {
   "cell_type": "code",
   "execution_count": null,
   "metadata": {},
   "outputs": [],
   "source": []
  },
  {
   "cell_type": "code",
   "execution_count": null,
   "metadata": {},
   "outputs": [],
   "source": [
    "for syn in wordnet.synsets(\"big\"): #access wordnet \n",
    "    #print(syn.definition())\n",
    "    for lm in syn.lemmas():\n",
    "        if lm.antonyms():\n",
    "            print(lm.antonyms())"
   ]
  },
  {
   "cell_type": "code",
   "execution_count": null,
   "metadata": {},
   "outputs": [],
   "source": [
    "testChina=\"China (Chinese: 中国; pinyin: Zhōngguó; lit.: 'Central State; Middle Kingdom'), officially the People's Republic of China (PRC; Chinese: 中华人民共和国; pinyin: Zhōnghuá Rénmín Gònghéguó), is a country in East Asia. It is the world's most populous country, with a population of around 1.4 billion in 2019.[7] Covering approximately 9.6 million square kilometres (3.7 million mi2), it is the world's third or fourth-largest country by area.[j] Governed by the Communist Party of China, the state exercises jurisdiction over 22 provinces,[k] five autonomous regions, four direct-controlled municipalities (Beijing, Tianjin, Shanghai, and Chongqing), and the special administrative regions of Hong Kong and Macau. China emerged as one of the world's first civilizations, in the fertile basin of the Yellow River in the North China Plain. For millennia, China's political system was based on hereditary monarchies, or dynasties, beginning with the semi-mythical Xia dynasty in 21st century BCE. Since then, China has expanded, fractured, and re-unified numerous times. In the 3rd century BCE, the Qin reunited core China and established the first Chinese empire. The succeeding Han dynasty, which ruled from 206 BCE until 220 CE, saw some of the most advanced technology at that time, including papermaking and the compass, along with agricultural and medical improvements. The invention of gunpowder and movable type in the Tang dynasty (618–907) and Northern Song (960–1127) completed the Four Great Inventions. Tang culture spread widely in Asia, as the new Silk Route brought traders to as far as Mesopotamia and the Horn of Africa. Dynastic rule ended in 1912 with the Xinhai Revolution, when the Republic of China (ROC) replaced the Qing dynasty. The subsequent Chinese Civil War resulted in a division of territory in 1949 when the Communist Party of China led by Mao Zedong established the People's Republic of China on mainland China while the Kuomintang-led nationalist government retreated to the island of Taiwan where it governed until 1996 when Taiwan transitioned to democracy. The political status of Taiwan remains disputed to this day. China is a unitary one-party socialist republic and is one of the few existing socialist states. Political dissidents and human rights groups have denounced and criticized the Chinese government for widespread human rights abuses, including suppression of religious and ethnic minorities, censorship and mass surveillance, and cracking down on protests such as in 1989. The Chinese government says that the right to subsistence and economic development is a prerequisite to other types of human rights and that the notion of human rights should take into account a country's present economic level. Since the introduction of economic reforms in 1978, China's economy has been one of the world's fastest-growing with annual growth rates consistently above 6 percent. According to the World Bank, China's GDP grew from $150 billion in 1978 to $12.24 trillion by 2017. According to official data, China's GDP in 2018 was 90 trillion Yuan ($13.5 trillion). Since 2010, China has been the world's second-largest economy by nominal GDP, and since 2014, the largest economy in the world by PPP. China is also the world's largest exporter and second-largest importer of goods. China is a recognized nuclear weapons state and has the world's largest standing army, the People's Liberation Army, and the second-largest defense budget. The PRC is a permanent member of the United Nations Security Council as it replaced the ROC in 1971, as well as an active global partner of ASEAN Plus mechanism. China has been characterized as a emerging superpower, mainly because of its massive population, large and rapidly-growing economy, and powerful military.\""
   ]
  },
  {
   "cell_type": "code",
   "execution_count": null,
   "metadata": {},
   "outputs": [],
   "source": [
    "antonymes=[]\n",
    "for word in testChina.split(\" \"):\n",
    "    for syn in wordnet.synsets(word): #access wordnet \n",
    "        for l in syn.lemmas(): \n",
    "            #print(l.name())   \n",
    "            if l.antonyms():\n",
    "                pair=(l.name(),l.antonyms()[0].name())\n",
    "                antonymes.append(pair)"
   ]
  },
  {
   "cell_type": "code",
   "execution_count": null,
   "metadata": {},
   "outputs": [],
   "source": [
    "antonymes"
   ]
  },
  {
   "cell_type": "code",
   "execution_count": null,
   "metadata": {},
   "outputs": [],
   "source": [
    "\n",
    "from thesaurus import Word\n",
    "def anotherword(response): #Some rudimentary synonyms and antonyms.\n",
    "    choice=input('Enter your choice: \\n 1.Synonyms.\\n2.Antonyms\\n')\n",
    "    if(int(choice)>2):\n",
    "     print(\"Invalid Choice\")\n",
    "     exit()\n",
    "    word=input(\"Enter the word:\")\n",
    "    w = Word(word)\n",
    "    what=''\n",
    "    if('1') in choice:\n",
    "        temp=w.synonyms()\n",
    "        what='Synonyms'\n",
    "    elif('2') in choice:\n",
    "        temp=w.antonyms()\n",
    "        what='Antonyms'\n",
    "    print('Showing %s of %s'%(what,word))\n",
    "    \n",
    "    for t in temp:\n",
    "        print(t)\n",
    "\n",
    "anotherword('SynonyM hello')"
   ]
  },
  {
   "cell_type": "code",
   "execution_count": null,
   "metadata": {},
   "outputs": [],
   "source": []
  },
  {
   "cell_type": "code",
   "execution_count": null,
   "metadata": {},
   "outputs": [],
   "source": []
  },
  {
   "cell_type": "code",
   "execution_count": null,
   "metadata": {},
   "outputs": [],
   "source": [
    "\n",
    "def creatAntonymsFromCategory(document,current_model):  \n",
    "    porter = PorterStemmer()\n",
    "    #Add n synonyms of the already existing pairs to the list\n",
    "    \n",
    "    antonyms=[]\n",
    "    for word in document.split(\" \"):\n",
    "        for syn in wordnet.synsets(word): #access wordnet \n",
    "                typePos=syn.name()[1]\n",
    "            #if typePos in [\"n\"]:#\"a\",\"s\"\n",
    "                for l in syn.lemmas(): \n",
    "                    #print(l.name())   \n",
    "                    if l.antonyms():\n",
    "                        pair=(l.name(),l.antonyms()[0].name())\n",
    "                        if pair not in antonyms and pair[0] in current_model.wv.vocab and pair[1] in current_model.wv.vocab:\n",
    "                            antonyms.append(pair)\n",
    "    return antonyms\n",
    "\n",
    "#creatAntonymsFromCategory(testChina,word2vecPolar)"
   ]
  },
  {
   "cell_type": "code",
   "execution_count": null,
   "metadata": {},
   "outputs": [],
   "source": [
    "testUSA=\"The United States of America (USA), commonly known as the United States (U.S. or US) or America, is a country mostly located in central North America, between Canada and Mexico. It consists of 50 states, a federal district, five major self-governing territories, and various possessions.[h] At 3.8 million square miles (9.8 million km2), it is the world's third- or fourth-largest country by total area.[d] With a 2019 estimated population of over 328 million,[7] the U.S. is the third most populous country in the world. The capital is Washington, D.C., and the most populous city is New York City. Paleo-Indians migrated from Siberia to the North American mainland at least 12,000 years ago,[19] and European colonization began in the 16th century. The United States emerged from the thirteen British colonies established along the East Coast. Numerous disputes between Great Britain and the colonies led to the American Revolutionary War lasting between 1775 and 1783, leading to independence.[20] Beginning in the late 18th century, the United States vigorously expanded across North America, gradually acquiring new territories,[21] killing and displacing Native Americans, and admitting new states. By 1848, the United States spanned the continent.[21] Slavery was legal in much of the United States from the 17th to the second half of the 19th century, when the American Civil War led to its abolition.[22][23]The Spanish–American War and World War I entrenched the U.S. as a world power, a status confirmed by the outcome of World War II. It was the first country to develop nuclear weapons and is the only country to have used them in warfare. During the Cold War, the United States and the Soviet Union competed in the Space Race, culminating with the 1969 Apollo 11 mission, the spaceflight that first landed humans on the Moon. The end of the Cold War and collapse of the Soviet Union in 1991 left the United States as the world's sole superpower.[24]The United States is a federal republic and a representative democracy. It is a founding member of the United Nations, World Bank, International Monetary Fund, Organization of American States (OAS), NATO, and other international organizations. It is a permanent member of the United Nations Security Council.A highly developed country, the United States is the world's largest economy and accounts for approximately a quarter of global gross domestic product (GDP).[25] The United States is the world's largest importer and the second-largest exporter of goods, by value.[26][27] Although its population is only 4.3% of the world total,[28] it holds 29.4% of the total wealth in the world, the largest share held by any country.[29] Despite income and wealth disparities, the United States continues to rank very high in measures of socioeconomic performance, including average wage, median income, median wealth, human development, per capita GDP, and worker productivity.[30][31] It is the foremost military power in the world, making up more than a third of global military spending,[32] and is a leading political, cultural, and scientific force internationally.[33]\"\n",
    "testRussia=\"Russia (Russian: Росси́я, tr. Rossiya, IPA: [rɐˈsʲijə]), or the Russian Federation,[13][d] is a transcontinental country located in Eastern Europe and Northern Asia.[14] Covering an area of 17,125,200 square kilometres (6,612,100 sq mi),[15] it is the largest country in the world by area, spanning more than one-eighth of the Earth's inhabited land area,[16][17] stretching eleven time zones, and bordering 16 sovereign nations. The territory of Russia extends from the Baltic Sea in the west to the Pacific Ocean in the east, and from the Arctic Ocean in the north to the Black Sea and the Caucasus in the south. With 146.7 million inhabitants living in the country's 85 federal subjects,[8] Russia is the most populous nation in Europe and the ninth-most populous nation in the world.[18][19] Russia's capital and largest city is Moscow; other major urban areas include Saint Petersburg, Novosibirsk, Yekaterinburg, Nizhny Novgorod, Kazan and Chelyabinsk. The East Slavs emerged as a recognisable group in Europe between the 3rd and 8th centuries AD.[20] The medieval state of Rus' arose in the 9th century. In 988 it adopted Orthodox Christianity from the Byzantine Empire, beginning the synthesis of Byzantine and Slavic cultures that defined Russian culture for the next millennium.[21] Rus' ultimately disintegrated into a number of smaller states,[22] until it was finally reunified by the Grand Duchy of Moscow in the 15th century. By the 18th century, the nation had greatly expanded through conquest, annexation, and exploration to become the Russian Empire, which was the third largest empire in history, stretching from Norway on the west to Alaska on the east.[23][24] Following the Russian Revolution, the Russian Soviet Federative Socialist Republic (Russian SFSR) became the largest and leading constituent of the Union of Soviet Socialist Republics (USSR/Soviet Union), the world's first constitutionally socialist state.[25] The Soviet Union played a decisive role in the Allied victory in World War II,[26][27] and emerged as a recognised superpower and rival to the United States during the Cold War. The Soviet era saw some of the most significant technological achievements of the 20th century, including the world's first human-made satellite and the launching of the first humans in space. Following the dissolution of the Soviet Union in 1991, the Russian SFSR reconstituted itself as the Russian Federation and is recognised as the continuing legal personality and a successor of the USSR.[28] Since 1993, Russia is governed as a federal semi-presidential republic.[3] Vladimir Putin has dominated Russia's political system since 2000, serving as either president or prime minister.[29] His government has been accused by non-governmental organisations of numerous human rights abuses, authoritarianism and corruption. In response, Putin has argued that Western-style liberalism is obsolete in Russia, while maintaining that the country is still a democratic nation.[30][31][32] The Russian economy ranks as the fifth-largest in Europe, the eleventh-largest in the world by nominal GDP and the fifth-largest by PPP.[33] Russia's extensive mineral and energy resources are the largest such reserves in the world,[34] making it one of the leading producers of oil and natural gas globally.[35][36] The country is one of the five recognised nuclear weapons states and possesses the largest stockpile of nuclear warheads.[37] Russia is a major great power, as well as a regional power, and has been characterised as a potential superpower. The Russian Armed Forces have been ranked as the world's second most powerful, and the most powerful in Europe. Russia hosts the world's ninth-greatest number of UNESCO World Heritage Sites, at 29,[38] and is among the world's most popular tourist destinations.[39] It is a permanent member of the United Nations Security Council and an active global partner of ASEAN,[40][41][42] as well as a member of the Shanghai Cooperation Organisation (SCO), the G20, the Council of Europe, the Asia-Pacific Economic Cooperation (APEC), the Organization for Security and Co-operation in Europe (OSCE), the International Investment Bank (IIB) and the World Trade Organization (WTO), as well as being the leading member of the Commonwealth of Independent States (CIS), the Collective Security Treaty Organization (CSTO) and a member of the Eurasian Economic Union (EAEU).Russia (Russian: Росси́я, tr. Rossiya, IPA: [rɐˈsʲijə]), or the Russian Federation,[13][d] is a transcontinental country located in Eastern Europe and Northern Asia.[14] Covering an area of 17,125,200 square kilometres (6,612,100 sq mi),[15] it is the largest country in the world by area, spanning more than one-eighth of the Earth's inhabited land area,[16][17] stretching eleven time zones, and bordering 16 sovereign nations. The territory of Russia extends from the Baltic Sea in the west to the Pacific Ocean in the east, and from the Arctic Ocean in the north to the Black Sea and the Caucasus in the south. With 146.7 million inhabitants living in the country's 85 federal subjects,[8] Russia is the most populous nation in Europe and the ninth-most populous nation in the world.[18][19] Russia's capital and largest city is Moscow; other major urban areas include Saint Petersburg, Novosibirsk, Yekaterinburg, Nizhny Novgorod, Kazan and Chelyabinsk. The East Slavs emerged as a recognisable group in Europe between the 3rd and 8th centuries AD.[20] The medieval state of Rus' arose in the 9th century. In 988 it adopted Orthodox Christianity from the Byzantine Empire, beginning the synthesis of Byzantine and Slavic cultures that defined Russian culture for the next millennium.[21] Rus' ultimately disintegrated into a number of smaller states,[22] until it was finally reunified by the Grand Duchy of Moscow in the 15th century. By the 18th century, the nation had greatly expanded through conquest, annexation, and exploration to become the Russian Empire, which was the third largest empire in history, stretching from Norway on the west to Alaska on the east.[23][24] Following the Russian Revolution, the Russian Soviet Federative Socialist Republic (Russian SFSR) became the largest and leading constituent of the Union of Soviet Socialist Republics (USSR/Soviet Union), the world's first constitutionally socialist state.[25] The Soviet Union played a decisive role in the Allied victory in World War II,[26][27] and emerged as a recognised superpower and rival to the United States during the Cold War. The Soviet era saw some of the most significant technological achievements of the 20th century, including the world's first human-made satellite and the launching of the first humans in space. Following the dissolution of the Soviet Union in 1991, the Russian SFSR reconstituted itself as the Russian Federation and is recognised as the continuing legal personality and a successor of the USSR.[28] Since 1993, Russia is governed as a federal semi-presidential republic.[3] Vladimir Putin has dominated Russia's political system since 2000, serving as either president or prime minister.[29] His government has been accused by non-governmental organisations of numerous human rights abuses, authoritarianism and corruption. In response, Putin has argued that Western-style liberalism is obsolete in Russia, while maintaining that the country is still a democratic nation.[30][31][32]The Russian economy ranks as the fifth-largest in Europe, the eleventh-largest in the world by nominal GDP and the fifth-largest by PPP.[33] Russia's extensive mineral and energy resources are the largest such reserves in the world,[34] making it one of the leading producers of oil and natural gas globally.[35][36] The country is one of the five recognised nuclear weapons states and possesses the largest stockpile of nuclear warheads.[37] Russia is a major great power, as well as a regional power, and has been characterised as a potential superpower. The Russian Armed Forces have been ranked as the world's second most powerful, and the most powerful in Europe. Russia hosts the world's ninth-greatest number of UNESCO World Heritage Sites, at 29,[38] and is among the world's most popular tourist destinations.[39] It is a permanent member of the United Nations Security Council and an active global partner of ASEAN,[40][41][42] as well as a member of the Shanghai Cooperation Organisation (SCO), the G20, the Council of Europe, the Asia-Pacific Economic Cooperation (APEC), the Organization for Security and Co-operation in Europe (OSCE), the International Investment Bank (IIB) and the World Trade Organization (WTO), as well as being the leading member of the Commonwealth of Independent States (CIS), the Collective Security Treaty Organization (CSTO) and a member of the Eurasian Economic Union (EAEU).\"\n",
    "testBrazil=\"Brazil (Portuguese: Brasil; Brazilian Portuguese: [bɾaˈziw]),[nt 1] officially the Federative Republic of Brazil (Portuguese: About this soundRepública Federativa do Brasil),[10] is the largest country in both South America and Latin America. At 8.5 million square kilometers (3.2 million square miles)[11] and with over 211 million people, Brazil is the world's fifth-largest country by area and the sixth most populous. Its capital is Brasília, and its most populous city is São Paulo. The federation is composed of the union of the 26 states and the Federal District. It is the largest country to have Portuguese as an official language and the only one in the Americas;[12][13] it is also one of the most multicultural and ethnically diverse nations, due to over a century of mass immigration from around the world.[14] Bounded by the Atlantic Ocean on the east, Brazil has a coastline of 7,491 kilometers (4,655 mi).[15] It borders all other countries in South America except Ecuador and Chile and covers 47.3% of the continent's land area.[16] Its Amazon River basin includes a vast tropical forest, home to diverse wildlife, a variety of ecological systems, and extensive natural resources spanning numerous protected habitats.[15] This unique environmental heritage makes Brazil one of 17 megadiverse countries, and is the subject of significant global interest and debate regarding deforestation and environmental protection. Brazil was inhabited by numerous tribal nations prior to the landing in 1500 of explorer Pedro Álvares Cabral, who claimed the area for the Portuguese Empire. Brazil remained a Portuguese colony until 1808, when the capital of the empire was transferred from Lisbon to Rio de Janeiro. In 1815, the colony was elevated to the rank of kingdom upon the formation of the United Kingdom of Portugal, Brazil and the Algarves. Independence was achieved in 1822 with the creation of the Empire of Brazil, a unitary state governed under a constitutional monarchy and a parliamentary system. The ratification of the first constitution in 1824 led to the formation of a bicameral legislature, now called the National Congress. The country became a presidential republic in 1889 following a military coup d'état. An authoritarian military junta came to power in 1964 and ruled until 1985, after which civilian governance resumed. Brazil's current constitution, formulated in 1988, defines it as a democratic federal republic.[17] Due to its rich culture and history, the country ranks thirteenth in the world by number of UNESCO World Heritage Sites.[18] Brazil is classified as an upper-middle income economy by the World Bank[19] and a developing country,[20] with the largest share of global wealth in Latin America. It is considered an advanced emerging economy.[21] It has the ninth largest GDP in the world by nominal, and eight by PPP measures.[22][23] It is one of the world's major breadbaskets, being the largest producer of coffee for the last 150 years.[24] Brazil is a regional power and sometimes considered a great[25][26][27] or a middle power in international affairs.[27][28][29][30][31][26] On account of its international recognition and influence, the country is subsequently classified as an emerging power[32] and a potential superpower by several analysts.[33][34][35] Brazil is a founding member of the United Nations, the G20, BRICS, Union of South American Nations, Mercosul, Organization of American States, Organization of Ibero-American States and the Community of Portuguese Language Countries.\"\n",
    "testIndia=\"India, officially the Republic of India (Hindi: Bhārat Gaṇarājya),[23] is a country in South Asia. It is the second-most populous country, the seventh-largest country by area, and the most populous democracy in the world. Bounded by the Indian Ocean on the south, the Arabian Sea on the southwest, and the Bay of Bengal on the southeast, it shares land borders with Pakistan to the west;[f] China, Nepal, and Bhutan to the north; and Bangladesh and Myanmar to the east. In the Indian Ocean, India is in the vicinity of Sri Lanka and the Maldives; its Andaman and Nicobar Islands share a maritime border with Thailand and Indonesia. Modern humans arrived on the Indian subcontinent from Africa no later than 55,000 years ago.[24] Their long occupation, initially in varying forms of isolation as hunter-gatherers, has made the region highly diverse, second only to Africa in human genetic diversity.[25] Settled life emerged on the subcontinent in the western margins of the Indus river basin 9,000 years ago, evolving gradually into the Indus Valley Civilisation of the third millennium BCE.[26] By 1200 BCE, an archaic form of Sanskrit, an Indo-European language, had diffused into India from the northwest, unfolding as the language of the Rigveda, and recording the dawning of Hinduism in India.[27] The Dravidian languages of India were supplanted in the northern regions.[28] By 400 BCE, stratification and exclusion by caste had emerged within Hinduism,[29] and Buddhism and Jainism had arisen, proclaiming social orders unlinked to heredity.[30] Early political consolidations gave rise to the loose-knit Maurya and Gupta Empires based in the Ganges Basin.[31] Their collective era was suffused with wide-ranging creativity,[32] but also marked by the declining status of women,[33] and the incorporation of untouchability into an organised system of belief.[g][34] In South India, the Middle kingdoms exported Dravidian-languages scripts and religious cultures to the kingdoms of Southeast Asia.[35] In the early medieval era, Christianity, Islam, Judaism, and Zoroastrianism put down roots on India's southern and western coasts.[36] Muslim armies from Central Asia intermittently overran India's northern plains,[37] eventually establishing the Delhi Sultanate, and drawing northern India into the cosmopolitan networks of medieval Islam.[38] In the 15th century, the Vijayanagara Empire created a long-lasting composite Hindu culture in south India.[39] In the Punjab, Sikhism emerged, rejecting institutionalised religion.[40] The Mughal Empire, in 1526, ushered in two centuries of relative peace,[41] leaving a legacy of luminous architecture.[h][42] Gradually expanding rule of the British East India Company followed, turning India into a colonial economy, but also consolidating its sovereignty.[43] British Crown rule began in 1858. The rights promised to Indians were granted slowly,[44] but technological changes were introduced, and ideas of education, modernity and the public life took root.[45] A pioneering and influential nationalist movement emerged,[46] which was noted for nonviolent resistance and led India to its independence in 1947. India is a secular federal republic governed in a democratic parliamentary system. It is a pluralistic, multilingual and multi-ethnic society. India's population grew from 361 million in 1951 to 1,211 million in 2011.[47] During the same time, its nominal per capita income increased from US$64 annually to US$1,498, and its literacy rate from 16.6% to 74%. From being a comparatively destitute country in 1951,[48] India has become a fast-growing major economy, a hub for information technology services, with an expanding middle class.[49] It has a space programme which includes several planned or completed extraterrestrial missions. Indian movies, music, and spiritual teachings play an increasing role in global culture.[50] India has substantially reduced its rate of poverty, though at the cost of increasing economic inequality.[51] India is a nuclear weapons state, which ranks high in military expenditure. It has disputes over Kashmir with its neighbours, Pakistan and China, unresolved since the mid-20th century.[52] Among the socio-economic challenges India faces are gender inequality, child malnutrition,[53] and rising levels of air pollution.[54] India's land is megadiverse, with four biodiversity hotspots.[55] Its forest cover comprises 21.4% of its area.[56] India's wildlife, which has traditionally been viewed with tolerance in India's culture,[57] is supported among these forests, and elsewhere, in protected habitats.\"\n",
    "testFrance=\"France (French: [fʁɑ̃s] (About this soundlisten)), officially the French Republic (French: République française, pronounced [ʁepyblik fʁɑ̃sɛːz] (About this soundlisten)), is a country whose territory consists of metropolitan France in Western Europe and several overseas regions and territories.[XIII] The metropolitan area of France extends from the Mediterranean Sea to the English Channel and the North Sea, and from the Rhine to the Atlantic Ocean. It is bordered by Belgium, Luxembourg and Germany to the northeast, Switzerland, Monaco, and Italy to the east, and Andorra and Spain to the south. The overseas territories include French Guiana in South America and several islands in the Atlantic, Pacific and Indian oceans. The country's 18 integral regions (five of which are situated overseas) span a combined area of 643,801 square kilometres (248,573 sq mi) and a total population of 67.07 million (as of May 2020).[10] France is a unitary semi-presidential republic with its capital in Paris, the country's largest city and main cultural and commercial centre. Other major urban areas include Lyon, Marseille, Toulouse, Bordeaux, Lille and Nice. France, including its overseas territories, has the most number of time zones of any country, with a total of 12. During the Iron Age, what is now metropolitan France was inhabited by the Gauls, a Celtic people. Rome annexed the area in 51 BC, holding it until the arrival of Germanic Franks in 476, who formed the Kingdom of Francia. The Treaty of Verdun of 843 partitioned Francia into East Francia, Middle Francia and West Francia. West Francia, which became the Kingdom of France in 987, emerged as a major European power in the Middle Ages under King Philip Augustus. During the Renaissance, French culture flourished and a global colonial empire was established, which by the 20th century would become the second largest in the world.[11] The 16th century was dominated by religious civil wars between Catholics and Protestants (Huguenots). France became Europe's dominant cultural, political, and military power in the 17th century under Louis XIV.[12] In the late 18th century, the French Revolution overthrew the absolute monarchy, establishing one of modern history's earliest republics and drafting the Declaration of the Rights of Man and of the Citizen, which expresses the nation's ideals to this day. In the 19th century, Napoleon took power and established the First French Empire. His subsequent Napoleonic Wars (1803–15) shaped the course of continental Europe. Following the collapse of the Empire, France endured a tumultuous succession of governments culminating with the establishment of the French Third Republic in 1870. France was a major participant in World War I, from which it emerged victorious, and was one of the Allies in World War II, but came under occupation by the Axis powers in 1940. Following liberation in 1944, a Fourth Republic was established and later dissolved in the course of the Algerian War. The Fifth Republic, led by Charles de Gaulle, was formed in 1958 and remains today. Algeria and nearly all the other colonies became independent in the 1960s, with most retaining close economic and military connections with France. France has long been a global centre of art, science, and philosophy. It hosts the world's fifth-largest number of UNESCO World Heritage Sites and is the leading tourist destination, receiving over 89 million foreign visitors in 2018.[13] France is a developed country with the world's seventh-largest economy by nominal GDP, and the tenth-largest by PPP. In terms of aggregate household wealth, it ranks fourth in the world.[14] France performs well in international rankings of education, health care, life expectancy, and human development.[15][16] France is considered a great power in global affairs,[17] being one of the five permanent members of the United Nations Security Council with the power to veto and an official nuclear-weapon state. It is a leading member state of the European Union and the Eurozone,[18] and a member of the Group of 7, North Atlantic Treaty Organization (NATO), Organisation for Economic Co-operation and Development (OECD), the World Trade Organization (WTO), and La Francophonie.\"\n",
    "testGermany=\"Germany (German: Deutschland, German pronunciation: [ˈdɔʏtʃlant]), officially the Federal Republic of Germany (German: Bundesrepublik Deutschland, About this soundlisten),[e] is a country in Central and Western Europe. Covering an area of 357,022 square kilometres (137,847 sq mi), it lies between the Baltic and North seas to the north, and the Alps to the south. It borders Denmark to the north, Poland and the Czech Republic to the east, Austria and Switzerland to the south, and France, Luxembourg, Belgium, and the Netherlands to the west. Various Germanic tribes have inhabited the northern parts of modern Germany since classical antiquity. A region named Germania was documented before AD 100. Beginning in the 10th century, German territories formed a central part of the Holy Roman Empire. During the 16th century, northern German regions became the centre of the Protestant Reformation. After the collapse of the Holy Roman Empire, the German Confederation was formed in 1815. In 1871, Germany became a nation state when most of the German states unified into the Prussian-dominated German Empire. After World War I and the German Revolution of 1918–1919, the Empire was replaced by the parliamentary Weimar Republic. The Nazi seizure of power in 1933 led to the establishment of a dictatorship, World War II, and the Holocaust. After the end of World War II in Europe and a period of Allied occupation, two new German states were founded: West Germany and East Germany. The Federal Republic of Germany was a founding member of the European Economic Community and the European Union. The country was reunified on 3 October 1990. Today, Germany is a federal parliamentary republic led by a chancellor. With 83 million inhabitants of its 16 constituent states, it is the second-most populous country in Europe after Russia, as well as the most populous member state of the European Union. Its capital and largest city is Berlin, and its financial centre is Frankfurt; the largest urban area is the Ruhr. Germany is a great power with a strong economy; it has the largest economy in Europe, the world's fourth-largest economy by nominal GDP, and the fifth-largest by PPP. As a global leader in several industrial and technological sectors, it is both the world's third-largest exporter and importer of goods. A highly developed country with a very high standard of living, it offers social security and a universal health care system, environmental protections, and a tuition-free university education. Germany is also a member of the United Nations, NATO, the G7, the G20, and the OECD. Known for its long and rich cultural history, Germany has many World Heritage sites and is among the top tourism destinations in the world.\""
   ]
  },
  {
   "cell_type": "code",
   "execution_count": null,
   "metadata": {},
   "outputs": [],
   "source": [
    "countryDocument=testUSA+testRussia+testBrazil+testIndia+testFrance+testGermany\n",
    "countryAntonyms=creatAntonymsFromCategory(countryDocument,word2vecPolar)"
   ]
  },
  {
   "cell_type": "code",
   "execution_count": null,
   "metadata": {},
   "outputs": [],
   "source": [
    "genreAntonyms"
   ]
  },
  {
   "cell_type": "code",
   "execution_count": null,
   "metadata": {},
   "outputs": [],
   "source": [
    " with open(r'Antonym_sets/country50.txt') as fp:\n",
    "            for line in fp:\n",
    "                parts = line.split()\n",
    "                if parts[1]!=' ':\n",
    "                    word1 = parts[0]\n",
    "                    word2 = parts[1]\n",
    "                    pair1=(word1,word2)\n",
    "                    pair2=(word2,word1)\n",
    "                    if pair1 in countryAntonyms or pair2 in countryAntonyms:\n",
    "                        print(pair1)"
   ]
  },
  {
   "cell_type": "code",
   "execution_count": null,
   "metadata": {},
   "outputs": [],
   "source": [
    "len(countryAntonyms)"
   ]
  },
  {
   "cell_type": "code",
   "execution_count": null,
   "metadata": {},
   "outputs": [],
   "source": [
    "genreCorpus=\"\"\n",
    "musicGenres=[\"African_popular_music\",\"Music_of_China\",\"Blues\",\"Country_music\",\"Electronic_music\",\"Folk_music\",\"Hip_hop_music\",\"Jazz\",\"Music_of_Spain\",\"Pop_music\",\"Rhythm_and_blues\",\"Soul_music\",\"Rock_music\",\"Classical_music\"]\n",
    "for genre in musicGenres:\n",
    "    try:\n",
    "        p = wikipedia.page(title=genre)\n",
    "        print(p.url)\n",
    "        print(p.title)\n",
    "        content = p.content # Content of page.\n",
    "        genreCorpus+=str(p.content)\n",
    "    except:\n",
    "        pass"
   ]
  },
  {
   "cell_type": "code",
   "execution_count": null,
   "metadata": {},
   "outputs": [],
   "source": [
    "import wikipedia\n",
    "countryCorpus=\"\"\n",
    "\n",
    "countries=[\"germany\", \"United_States\",\"China\",\"Japan\",\"India\",\"United_Kingdom\",\"France\", \"Italy\", \"Brazil\", \"Canada\",\"Russia\"]\n",
    "for countryName in countries:\n",
    "    p = wikipedia.page(countryName)\n",
    "    print(p.url)\n",
    "    print(p.title)\n",
    "    content = p.content # Content of page.\n",
    "    countryCorpus+=str(p.content)"
   ]
  },
  {
   "cell_type": "code",
   "execution_count": null,
   "metadata": {},
   "outputs": [],
   "source": [
    "print(countryCorpus)"
   ]
  },
  {
   "cell_type": "code",
   "execution_count": null,
   "metadata": {},
   "outputs": [],
   "source": [
    "countryAntonyms=creatAntonymsFromCategory(countryCorpus,word2vec)\n",
    "genreAntonyms=creatAntonymsFromCategory(genreCorpus,word2vec)"
   ]
  },
  {
   "cell_type": "code",
   "execution_count": null,
   "metadata": {},
   "outputs": [],
   "source": [
    "print(len(genreAntonyms))"
   ]
  },
  {
   "cell_type": "code",
   "execution_count": null,
   "metadata": {},
   "outputs": [],
   "source": [
    "print(genreAntonyms)"
   ]
  },
  {
   "cell_type": "code",
   "execution_count": null,
   "metadata": {},
   "outputs": [],
   "source": [
    "word2vecPolar.wv.most_similar('america')"
   ]
  },
  {
   "cell_type": "code",
   "execution_count": null,
   "metadata": {},
   "outputs": [],
   "source": [
    "word2vec.wv.most_similar('monarchic')"
   ]
  },
  {
   "cell_type": "code",
   "execution_count": null,
   "metadata": {},
   "outputs": [],
   "source": [
    "pairs=[(\"democratic\", \"monarchic\")]\n",
    "newPairs=generateNewPairs(word2vec, pairs,10)"
   ]
  },
  {
   "cell_type": "code",
   "execution_count": null,
   "metadata": {},
   "outputs": [],
   "source": [
    "print(newPairs)"
   ]
  },
  {
   "cell_type": "code",
   "execution_count": null,
   "metadata": {},
   "outputs": [],
   "source": [
    "pairs=[(\"salty\", \"sweet\")]\n",
    "newPairs=addAntonyms(pairs, 5) \n",
    "print(newPairs)"
   ]
  },
  {
   "cell_type": "code",
   "execution_count": null,
   "metadata": {},
   "outputs": [],
   "source": []
  },
  {
   "cell_type": "code",
   "execution_count": null,
   "metadata": {},
   "outputs": [],
   "source": [
    "word2vec.wv.most_similar('america')"
   ]
  },
  {
   "cell_type": "code",
   "execution_count": 31,
   "metadata": {},
   "outputs": [],
   "source": [
    "def transformToStandardScore(data):\n",
    "    #mean=np.mean(data)\n",
    "    mean=0 # should be 0\n",
    "    #std=np.std(data)\n",
    "    std=0\n",
    "    for i in data:\n",
    "        std+=(i-mean)**2\n",
    "    std=np.sqrt(std/len(data))\n",
    "    test=(data-mean)/std\n",
    "    return test\n"
   ]
  },
  {
   "cell_type": "code",
   "execution_count": 32,
   "metadata": {},
   "outputs": [
    {
     "name": "stdout",
     "output_type": "stream",
     "text": [
      "[-2.6376057 -2.4719634  2.1037996  2.0349684 -1.964916   3.3981974\n",
      "  2.8098958 -2.2330103  2.0785902  1.8684635  3.0543187  2.5934815\n",
      " -2.1792395 -2.1180494  1.9136409 -3.6438596  2.4659219 -2.4528916\n",
      "  2.438985   1.9591951 -8.014288  -2.492912  -1.8954415  1.6020002\n",
      "  1.4259257 -2.123254   2.0785973  1.8416966 -1.7187723  1.661742 ]\n",
      "Mean of root antonyms:  0.04610721666666669\n",
      "Mean of absolute values of root antonyms:  2.4425207700000002\n",
      "Standard deviation of root antonyms:  2.6978974547361676\n"
     ]
    },
    {
     "data": {
      "text/plain": [
       "array([-0.97750958, -0.91612173,  0.77967843,  0.75416925, -0.72820748,\n",
       "        1.25938858,  1.04136113, -0.82756454,  0.7703357 ,  0.69246172,\n",
       "        1.13194545,  0.96115693, -0.80763682, -0.78495947,  0.70920468,\n",
       "       -1.3504322 ,  0.91388272, -0.90905363,  0.90389977,  0.72608729,\n",
       "       -2.97013435, -0.92388538, -0.70245989,  0.59370911,  0.52845504,\n",
       "       -0.78688832,  0.77033833,  0.68254177, -0.63698542,  0.61584972])"
      ]
     },
     "metadata": {},
     "output_type": "display_data"
    }
   ],
   "source": [
    "import numpy as np\n",
    "usaRegular=[-2.6376057, -2.4719634, 2.1037996, 2.0349684, -1.964916]\n",
    "germanyRegular=[3.3981974, 2.8098958, -2.2330103,2.0785902,1.8684635]\n",
    "saladRegular=[3.0543187,2.5934815,-2.1792395,-2.1180494,1.9136409]\n",
    "riceRegular=[-3.6438596,2.4659219,-2.4528916,2.438985,1.9591951]\n",
    "popRegular=[-8.014288,-2.492912,-1.8954415,1.6020002,1.4259257]\n",
    "rammsteinRegular=[-2.123254,2.0785973,1.8416966,-1.7187723,1.661742]\n",
    "\n",
    "regular=usaRegular+germanyRegular+saladRegular+riceRegular+popRegular+rammsteinRegular\n",
    "regularCounty=usaRegular+germanyRegular\n",
    "regularFood=saladRegular+riceRegular\n",
    "regularMusic=popRegular+rammsteinRegular\n",
    "regular=np.array(regular)\n",
    "\n",
    "signRegular=np.sign(regular)\n",
    "\n",
    "regularABS=abs(regular)\n",
    "print(regular)\n",
    "regularMean=np.mean(regular)\n",
    "regularMeanAbs=np.mean(regularABS)\n",
    "regularSTD=np.std(regular)\n",
    "print(\"Mean of root antonyms: \",regularMean)\n",
    "print(\"Mean of absolute values of root antonyms: \",regularMeanAbs)\n",
    "print(\"Standard deviation of root antonyms: \",regularSTD)\n",
    "normalizedRegular=transformToStandardScore(regular)\n",
    "display(normalizedRegular)"
   ]
  },
  {
   "cell_type": "code",
   "execution_count": 33,
   "metadata": {},
   "outputs": [
    {
     "name": "stdout",
     "output_type": "stream",
     "text": [
      "[-3.2503996 -3.057242  -3.0330684  2.7474287  2.7222674  4.52079\n",
      " -3.6331446  3.2978609  3.2470224  2.7367115 -3.5309575 -2.9052043\n",
      " -2.8565931  2.8449438 -2.8341067  3.999362   3.8820155 -3.8019125\n",
      "  3.7979877  3.584927  -3.0669188 -2.4912317  2.339505  -2.2503352\n",
      "  2.2032032 -3.0293212 -2.3457592  2.047324   2.047324   1.9114097]\n",
      "Mean of root antonyms:  0.19479626666666663\n",
      "Mean of absolute values of root antonyms:  3.0005425866666666\n",
      "Standard deviation of root antonyms:  3.0615208001082967\n"
     ]
    },
    {
     "data": {
      "text/plain": [
       "array([-1.05955184, -0.99658712, -0.98870711,  0.89559546,  0.88739349,\n",
       "        1.47366846, -1.18431748,  1.07502308,  1.05845096,  0.89210192,\n",
       "       -1.15100695, -0.9470265 , -0.93118042,  0.92738303, -0.9238504 ,\n",
       "        1.30369551,  1.26544338, -1.23933174,  1.23805235,  1.1685997 ,\n",
       "       -0.99974153, -0.81208142,  0.76262218, -0.73355498,  0.71819108,\n",
       "       -0.98748562, -0.7646609 ,  0.66737822,  0.66737822,  0.62307344])"
      ]
     },
     "metadata": {},
     "output_type": "display_data"
    }
   ],
   "source": [
    "usaExtended=[-3.2503996,-3.057242,-3.0330684,2.7474287,2.7222674]\n",
    "germanyExtended=[4.52079,-3.6331446,3.2978609,3.2470224,2.7367115]\n",
    "saladExtended=[-3.5309575,-2.9052043,-2.8565931,2.8449438,-2.8341067]\n",
    "riceExtended=[3.999362,3.8820155,-3.8019125,3.7979877,3.584927]\n",
    "popExtended=[-3.0669188,-2.4912317,2.339505,-2.2503352,2.2032032]\n",
    "rammsteinExtended=[-3.0293212,-2.3457592,2.047324,2.047324,1.9114097]\n",
    "\n",
    "\n",
    "extended=usaExtended+germanyExtended+saladExtended+riceExtended+popExtended+rammsteinExtended\n",
    "extendedCounty=usaExtended+germanyExtended\n",
    "extendedFood=saladExtended+riceExtended\n",
    "extendedMusic=popExtended+rammsteinExtended\n",
    "\n",
    "extended=np.array(extended)\n",
    "\n",
    "signExtended=np.sign(extended)\n",
    "\n",
    "extendedABS=abs(extended)\n",
    "print(extended)\n",
    "extendedMean=np.mean(extended)\n",
    "extendedMeanAbs=np.mean(extendedABS)\n",
    "extendedSTD=np.std(extended)\n",
    "print(\"Mean of root antonyms: \",extendedMean)\n",
    "print(\"Mean of absolute values of root antonyms: \",extendedMeanAbs)\n",
    "print(\"Standard deviation of root antonyms: \",extendedSTD)\n",
    "normalizedExtended=transformToStandardScore(extended)\n",
    "display(normalizedExtended)"
   ]
  },
  {
   "cell_type": "code",
   "execution_count": 4,
   "metadata": {},
   "outputs": [
    {
     "name": "stdout",
     "output_type": "stream",
     "text": [
      "[-3.2503996 -3.057242  -3.0330684  2.7474287  2.7222674  4.52079\n",
      " -3.6331446  3.2978609  3.2470224  2.7367115 -3.5309575 -2.9052043\n",
      " -2.8565931  2.8449438 -2.8341067  3.999362   3.8820155 -3.8019125\n",
      "  3.7979877  3.584927  -3.0669188 -2.4912317  2.339505  -2.2503352\n",
      "  2.2032032 -3.0293212 -2.3457592  2.047324   2.047324   1.9114097]\n",
      "[-2.6376057, -2.4719634, 2.1037996, 2.0349684, -1.964916, -3.2503996, -3.057242, -3.0330684, 2.7474287, 2.7222674, 3.3981974, 2.8098958, -2.2330103, 2.0785902, 1.8684635, 4.52079, -3.6331446, 3.2978609, 3.2470224, 2.7367115, 3.0543187, 2.5934815, -2.1792395, -2.1180494, 1.9136409, -3.5309575, -2.9052043, -2.8565931, 2.8449438, -2.8341067, -3.6438596, 2.4659219, -2.4528916, 2.438985, 1.9591951, 3.999362, 3.8820155, -3.8019125, 3.7979877, 3.584927, -8.014288, -2.492912, -1.8954415, 1.6020002, 1.4259257, -3.0669188, -2.4912317, 2.339505, -2.2503352, 2.2032032, -2.123254, 2.0785973, 1.8416966, -1.7187723, 1.661742, -3.0293212, -2.3457592, 2.047324, 2.047324, 1.9114097]\n"
     ]
    }
   ],
   "source": [
    "regularPolar=regular\n",
    "extendedPolar=extended\n",
    "print(extendedPolar)\n",
    "allAnswerPolar=allAnswer=usaRegular+usaExtended+germanyRegular+germanyExtended+saladRegular+saladExtended+riceRegular+riceExtended+popRegular+popExtended+rammsteinRegular+rammsteinExtended\n",
    "print(allAnswerPolar)"
   ]
  },
  {
   "cell_type": "code",
   "execution_count": 5,
   "metadata": {},
   "outputs": [
    {
     "name": "stdout",
     "output_type": "stream",
     "text": [
      "<_csv.reader object at 0x00000214B851F518>\n",
      "Number of Participants: 30.\n",
      "30\n",
      "[4.86666667 6.06666667 4.23333333 7.66666667 6.8        2.83333333\n",
      " 4.         7.13333333 2.4        3.43333333 6.2        4.2\n",
      " 3.16666667 7.16666667 5.06666667 4.93333333 6.66666667 5.9\n",
      " 4.13333333 7.         6.53333333 6.1        5.06666667 0.9\n",
      " 5.86666667 6.2        4.9        1.53333333 7.53333333 3.16666667\n",
      " 1.2        5.1        1.63333333 7.86666667 6.06666667 7.8\n",
      " 7.13333333 3.56666667 3.33333333 3.66666667 0.56666667 2.9\n",
      " 7.63333333 6.4        7.93333333 1.86666667 5.16666667 5.46666667\n",
      " 4.2        5.5        2.6        8.33333333 5.76666667 4.5\n",
      " 3.56666667 5.33333333 5.1        5.23333333 4.36666667 6.16666667]\n",
      "[1.92757764 2.74388208 1.94393644 2.07096328 2.35796522 2.00138841\n",
      " 2.5560386  2.14061258 1.74355958 2.18606699 1.30128142 1.93907194\n",
      " 2.14605581 1.48511129 2.18987569 1.28927197 1.77638835 2.31444738\n",
      " 1.80246744 2.         2.26175939 1.3        2.27937613 1.07548439\n",
      " 3.06304134 1.72046505 2.25610283 1.5860503  1.74610678 1.93362067\n",
      " 1.53622915 1.57797338 2.18301524 2.07739153 2.82764134 1.55777619\n",
      " 1.78387842 1.87409237 3.01477841 2.00554786 0.88254682 1.77670106\n",
      " 1.99137027 2.02649122 1.33998342 2.15612822 2.35348441 2.48640749\n",
      " 2.2420229  1.78418983 1.81842423 1.22020035 2.60362994 2.60448331\n",
      " 1.78294388 1.67994709 2.7        1.80154255 2.27278586 2.06693547]\n"
     ]
    }
   ],
   "source": [
    "import csv\n",
    "\n",
    "ratingsNormal=[]\n",
    "ratings=[]\n",
    "\n",
    "with open('Survey/RatingCsv.csv') as csv_file:\n",
    "    csv_reader = csv.reader(csv_file, delimiter=',')\n",
    "    print(csv_reader)\n",
    "    line_count=0\n",
    "    for row in csv_reader:\n",
    "        \n",
    "        if line_count == 0:\n",
    "            line_count += 1\n",
    "        else:\n",
    "            #print(\"new Row\")\n",
    "            #print(row[3:63]) #60 questions\n",
    "            curRatings=row[3:63]\n",
    "            curIntRatingNormal=[]\n",
    "            curIntRating=[]\n",
    "            for string in curRatings:\n",
    "                curIntRatingNormal.append(int(string))\n",
    "                curIntRating.append(int(string)-5)\n",
    "            \n",
    "            ratings.append(curIntRating)\n",
    "            ratingsNormal.append(curIntRatingNormal)\n",
    "            line_count += 1\n",
    "    print(f'Number of Participants: {line_count-1}.')\n",
    "    \n",
    "\n",
    "print(len(ratings))\n",
    "meanSurvey=np.mean(ratingsNormal, axis=0) #ratings answersNormalized\n",
    "stdSurvey=np.std(ratingsNormal, axis=0) #ratings answersNormalized\n",
    "print(meanSurvey)\n",
    "print(stdSurvey)"
   ]
  },
  {
   "cell_type": "code",
   "execution_count": 102,
   "metadata": {},
   "outputs": [],
   "source": [
    "\n",
    "answersNormalized=[transformToStandardScore(np.array(answer)) for answer in ratings]\n"
   ]
  },
  {
   "cell_type": "code",
   "execution_count": 103,
   "metadata": {},
   "outputs": [],
   "source": [
    "answersRegular=[]\n",
    "answersExtended=[]\n",
    "\n",
    "for answer in answersNormalized:\n",
    "    participantReg=[]\n",
    "    participantExt=[]\n",
    "    reg=[]\n",
    "    ext=[]\n",
    "    counter=0\n",
    "    curList=reg\n",
    "    for rating in answer:\n",
    "        curList.append(rating)\n",
    "        counter+=1\n",
    "        if counter==5:\n",
    "            participantReg.append(reg)\n",
    "            reg=[]\n",
    "            curList=ext\n",
    "        if counter==10:\n",
    "            participantExt.append(ext)\n",
    "            ext=[]\n",
    "            curList=reg\n",
    "            counter=0\n",
    "        \n",
    "    answersRegular.append(participantReg)\n",
    "    answersExtended.append(participantExt)\n",
    "    #print(len(answersRegular))\n",
    "    #print(len(answersRegular[0]))\n",
    "    #print(len(answersExtended))\n",
    "    #print(len(answersExtended[0]))\n",
    "    #break\n",
    "    \n",
    "    "
   ]
  },
  {
   "cell_type": "code",
   "execution_count": 8,
   "metadata": {},
   "outputs": [],
   "source": [
    "#Not normalized!!!!!\n",
    "answersRegularNN=[]\n",
    "answersExtendedNN=[]\n",
    "\n",
    "for answer in ratings:\n",
    "    participantReg=[]\n",
    "    participantExt=[]\n",
    "    reg=[]\n",
    "    ext=[]\n",
    "    counter=0\n",
    "    curList=reg\n",
    "    for rating in answer:\n",
    "        curList.append(rating)\n",
    "        counter+=1\n",
    "        if counter==5:\n",
    "            participantReg.append(reg)\n",
    "            reg=[]\n",
    "            curList=ext\n",
    "        if counter==10:\n",
    "            participantExt.append(ext)\n",
    "            ext=[]\n",
    "            curList=reg\n",
    "            counter=0\n",
    "        \n",
    "    answersRegularNN.append(participantReg)\n",
    "    answersExtendedNN.append(participantExt)\n",
    "    #print(len(answersRegular))\n",
    "    #print(len(answersRegular[0]))\n",
    "    #print(len(answersExtended))\n",
    "    #print(len(answersExtended[0]))\n",
    "    #break\n",
    "\n",
    "    "
   ]
  },
  {
   "cell_type": "markdown",
   "metadata": {},
   "source": [
    "## Measure distance from 5. Are the Antonym pairs relevent?"
   ]
  },
  {
   "cell_type": "code",
   "execution_count": 9,
   "metadata": {},
   "outputs": [],
   "source": [
    "def computeAverageDistanceFrom5(answers):\n",
    "    avgDistance=0\n",
    "    for answer in answers:\n",
    "        flatAnswer = [item for sublist in answer for item in sublist]\n",
    "        dist=[abs(entry) for entry in flatAnswer]\n",
    "        avgDistance+=np.sum(dist)\n",
    "    dist=avgDistance/(len(answersRegularNN)*len(flatAnswer))    \n",
    "    #print(\"Average distance from 5 is: \", dist) # 30*30\n",
    "    return dist\n"
   ]
  },
  {
   "cell_type": "code",
   "execution_count": 105,
   "metadata": {},
   "outputs": [],
   "source": [
    "distRegular=computeAverageDistanceFrom5(answersRegularNN)   \n",
    "distExtended=computeAverageDistanceFrom5(answersExtendedNN) \n",
    "\n",
    "regAnswerCountry=[country[0:2] for country in answersRegularNN]\n",
    "extAnswerCountry=[country[0:2] for country in answersExtendedNN]\n",
    "regAnswerFood=[food[2:4] for food in answersRegularNN]\n",
    "extAnswerFood=[food[2:4] for food in answersExtendedNN]\n",
    "regAnswerMusic=[music[4:6] for music in answersRegularNN]\n",
    "extAnswerMusic=[music[4:6] for music in answersExtendedNN]\n",
    "\n",
    "distRegCountry=computeAverageDistanceFrom5(regAnswerCountry)   \n",
    "distExtCountry=computeAverageDistanceFrom5(extAnswerCountry) \n",
    "distRegFood=computeAverageDistanceFrom5(regAnswerFood)   \n",
    "distExtFood=computeAverageDistanceFrom5(extAnswerFood) \n",
    "distRegMusic=computeAverageDistanceFrom5(regAnswerMusic)   \n",
    "distExtMusic=computeAverageDistanceFrom5(extAnswerMusic) "
   ]
  },
  {
   "cell_type": "code",
   "execution_count": 11,
   "metadata": {},
   "outputs": [
    {
     "name": "stdout",
     "output_type": "stream",
     "text": [
      "Average distance from 5 of all regular is:  2.45\n",
      "Average distance from 5 of all extended is:  2.082222222222222\n",
      "\n",
      "Average distance from 5 of reg Country is:  2.1033333333333335\n",
      "Average distance from 5 of ext Country is:  2.1433333333333335\n",
      "Average distance from 5 of reg Food is:  2.6133333333333333\n",
      "Average distance from 5 of ext Food is:  2.316666666666667\n",
      "Average distance from 5 of reg Music is:  2.6333333333333333\n",
      "Average distance from 5 of ext Music is:  1.7866666666666666\n"
     ]
    }
   ],
   "source": [
    "print(\"Average distance from 5 of all regular is: \", distRegular)\n",
    "print(\"Average distance from 5 of all extended is: \", distExtended)\n",
    "print(\"\")\n",
    "print(\"Average distance from 5 of reg Country is: \", distRegCountry)\n",
    "print(\"Average distance from 5 of ext Country is: \", distExtCountry)\n",
    "print(\"Average distance from 5 of reg Food is: \", distRegFood)\n",
    "print(\"Average distance from 5 of ext Food is: \", distExtFood)\n",
    "print(\"Average distance from 5 of reg Music is: \", distRegMusic)\n",
    "print(\"Average distance from 5 of ext Music is: \", distExtMusic)"
   ]
  },
  {
   "cell_type": "markdown",
   "metadata": {},
   "source": [
    "# Compute Agreement on the prefered Antonym."
   ]
  },
  {
   "cell_type": "code",
   "execution_count": 44,
   "metadata": {},
   "outputs": [],
   "source": [
    "def computeDirectionAgreement(root, allAnswers): #root is 30 and allAnswers is participants x 30\n",
    "    signRoot=np.sign(root)\n",
    "    #print(len(allAnswers)*len(signRoot))\n",
    "    curMean=0\n",
    "    for answer in allAnswers:\n",
    "        flatAnswer = [item for sublist in answer for item in sublist]\n",
    "        signAnswer=np.sign(flatAnswer)\n",
    "        agreeMent=(signRoot*signAnswer+1)/2\n",
    "        #print(agreeMent)\n",
    "        curMean+=np.sum(agreeMent)\n",
    "    mean=curMean/(len(allAnswers)*len(signRoot))    #900\n",
    "    return mean\n"
   ]
  },
  {
   "cell_type": "code",
   "execution_count": 13,
   "metadata": {},
   "outputs": [
    {
     "name": "stdout",
     "output_type": "stream",
     "text": [
      "Agreement of answers on regular pairs: 68.28\n",
      "Agreement of answers on extended pairs: 54.11\n"
     ]
    }
   ],
   "source": [
    "\n",
    "root=normalizedRegular#\n",
    "avgAgreementRegular=computeDirectionAgreement(root, answersRegular)*100\n",
    "avgAgreementExtended=computeDirectionAgreement(root, answersExtended)*100\n",
    "print(\"Agreement of answers on regular pairs: %.2f\" % round(avgAgreementRegular, 2))\n",
    "print(\"Agreement of answers on extended pairs: %.2f\" % round(avgAgreementExtended, 2))"
   ]
  },
  {
   "cell_type": "markdown",
   "metadata": {},
   "source": [
    "# Compute average diviation (absolute values) between Survey and Polar."
   ]
  },
  {
   "cell_type": "code",
   "execution_count": 97,
   "metadata": {},
   "outputs": [],
   "source": [
    "def computeAverageAgreement(root, allAnswers): #root is 30 and allAnswers is participants x 30\n",
    "    curMean=0\n",
    "    print(root)\n",
    "    for answer in allAnswers:\n",
    "        flatAnswer = [item for sublist in answer for item in sublist]\n",
    "        agreeMent=abs(root-flatAnswer)\n",
    "        curMean+=np.sum(agreeMent)/len(root)\n",
    "    mean=curMean/len(allAnswers)    \n",
    "    return mean\n",
    "    "
   ]
  },
  {
   "cell_type": "code",
   "execution_count": 99,
   "metadata": {},
   "outputs": [],
   "source": [
    "def computeAverageAgreementCategory(root, allAnswers): #root is 30 and allAnswers is participants x 30\n",
    "    curMean=0\n",
    "    agreeMent=abs(root-np.concatenate(allAnswers))\n",
    "    curMean+=np.sum(agreeMent)\n",
    "    mean=curMean/len(root) \n",
    "    return mean\n",
    "    "
   ]
  },
  {
   "cell_type": "code",
   "execution_count": 59,
   "metadata": {},
   "outputs": [],
   "source": [
    "def differences(a, b):\n",
    "    return sum(i != j for i, j in zip(a, b))"
   ]
  },
  {
   "cell_type": "code",
   "execution_count": 16,
   "metadata": {},
   "outputs": [],
   "source": [
    "def computeMean(answers): #already normalized\n",
    "    flattened=[]\n",
    "    for answer in answers:\n",
    "        flatAnswer = [item for sublist in answer for item in sublist]\n",
    "        flattened.append(flatAnswer)\n",
    "    return np.mean(flattened, axis=0)\n",
    "    "
   ]
  },
  {
   "cell_type": "code",
   "execution_count": 17,
   "metadata": {},
   "outputs": [
    {
     "name": "stdout",
     "output_type": "stream",
     "text": [
      "[-0.03323543  0.33883835 -0.27097232  0.95404268  0.6293229   0.46637757\n",
      " -0.32862018 -0.71627806  0.79833811  0.00843317  0.5467871   0.3917173\n",
      " -0.01407868 -1.51176115  0.36164316 -1.36653693  0.01491171 -1.25365858\n",
      "  1.04520769  0.34011812 -1.64151259 -0.75053851  0.92575365  0.48055929\n",
      "  1.04555833 -0.85102086  1.19898686  0.30112405 -0.16092154 -0.51395746]\n"
     ]
    }
   ],
   "source": [
    "print(computeMean(answersRegular))"
   ]
  },
  {
   "cell_type": "code",
   "execution_count": 49,
   "metadata": {},
   "outputs": [
    {
     "name": "stdout",
     "output_type": "stream",
     "text": [
      "Average Disagreement on the antonym\n",
      "Regular:  6\n",
      "Extended:  13\n"
     ]
    }
   ],
   "source": [
    "print(\"Average Disagreement on the antonym\")\n",
    "\n",
    "\n",
    "normalizedRegularPolar=transformToStandardScore(regularPolar)\n",
    "normalizedExtendedPolar=transformToStandardScore(extendedPolar)\n",
    "\n",
    "#print(answersRegular)\n",
    "\n",
    "meanRegularSurvey=computeMean(answersRegular)\n",
    "meanExtendedSurvey=computeMean(answersExtended)\n",
    "\n",
    "regSignSurvey=np.sign(meanRegularSurvey)\n",
    "extSignSurvey=np.sign(meanExtendedSurvey)\n",
    "regSignPolar=np.sign(normalizedRegularPolar)\n",
    "extSignPolar=np.sign(normalizedExtendedPolar)\n",
    "\n",
    "#print(regSignSurvey,extSignSurvey,regSignPolar,extSignPolar)\n",
    "resultReg=differences(regSignSurvey, regSignPolar)\n",
    "resultExt=differences(extSignSurvey, extSignPolar)\n",
    "\n",
    "print(\"Regular: \",resultReg)\n",
    "print(\"Extended: \",resultExt)"
   ]
  },
  {
   "cell_type": "code",
   "execution_count": 19,
   "metadata": {},
   "outputs": [],
   "source": [
    "def absDifference(a, b):\n",
    "    return sum(abs(i - j) for i, j in zip(a, b))/len(a)"
   ]
  },
  {
   "cell_type": "code",
   "execution_count": 20,
   "metadata": {},
   "outputs": [
    {
     "name": "stdout",
     "output_type": "stream",
     "text": [
      "Average derivation\n",
      "Regular:  0.6281193594835749\n",
      "Extended:  0.8598132743036366\n"
     ]
    }
   ],
   "source": [
    "print(\"Average derivation\")\n",
    "resultReg=absDifference(meanRegularSurvey, normalizedRegularPolar)\n",
    "resultExt=absDifference(meanExtendedSurvey, normalizedExtendedPolar)\n",
    "\n",
    "print(\"Regular: \",resultReg)\n",
    "print(\"Extended: \",resultExt)"
   ]
  },
  {
   "cell_type": "code",
   "execution_count": null,
   "metadata": {},
   "outputs": [],
   "source": []
  },
  {
   "cell_type": "code",
   "execution_count": null,
   "metadata": {},
   "outputs": [],
   "source": []
  },
  {
   "cell_type": "code",
   "execution_count": null,
   "metadata": {},
   "outputs": [],
   "source": []
  },
  {
   "cell_type": "code",
   "execution_count": null,
   "metadata": {},
   "outputs": [],
   "source": []
  },
  {
   "cell_type": "code",
   "execution_count": 24,
   "metadata": {},
   "outputs": [
    {
     "data": {
      "text/plain": [
       "array([[[-1.55264751,  1.01904933, -0.95709484,  0.88852332,\n",
       "          0.        ],\n",
       "        [ 1.12986537,  0.47673129, -1.06287681,  1.52277398,\n",
       "          1.36930639]],\n",
       "\n",
       "       [[-0.51754917,  1.69841555, -0.95709484,  1.48087219,\n",
       "          1.34839972],\n",
       "        [-0.56493268,  0.95346259, -0.35429227,  1.14208048,\n",
       "          0.45643546]],\n",
       "\n",
       "       [[ 2.07019668,  0.33968311,  0.47854742,  0.59234888,\n",
       "          0.        ],\n",
       "        [ 1.12986537, -0.47673129, -0.35429227,  0.76138699,\n",
       "         -0.91287093]],\n",
       "\n",
       "       [[ 0.        ,  1.35873244,  0.        ,  0.88852332,\n",
       "          0.67419986],\n",
       "        [-0.56493268, -0.95346259, -0.70858454, -1.14208048,\n",
       "          0.91287093]],\n",
       "\n",
       "       [[-0.51754917,  1.35873244, -1.43564226,  1.48087219,\n",
       "          1.68549966],\n",
       "        [ 0.        , -0.95346259, -1.41716908,  0.76138699,\n",
       "          1.36930639]],\n",
       "\n",
       "       [[ 0.51754917, -0.67936622,  0.47854742,  0.59234888,\n",
       "          0.67419986],\n",
       "        [-0.56493268,  0.        ,  1.77146135,  1.14208048,\n",
       "          0.45643546]],\n",
       "\n",
       "       [[ 1.03509834,  1.35873244, -1.43564226,  1.18469776,\n",
       "          1.68549966],\n",
       "        [ 0.56493268,  0.        ,  0.70858454,  1.52277398,\n",
       "         -0.91287093]],\n",
       "\n",
       "       [[ 0.        , -1.01904933,  0.        ,  1.18469776,\n",
       "          0.        ],\n",
       "        [ 1.69479805,  1.43019388, -0.70858454,  1.52277398,\n",
       "          1.36930639]],\n",
       "\n",
       "       [[-1.03509834,  1.01904933, -0.47854742,  1.18469776,\n",
       "          0.        ],\n",
       "        [ 0.56493268,  0.47673129, -0.70858454,  0.38069349,\n",
       "          0.        ]],\n",
       "\n",
       "       [[-1.03509834,  1.01904933, -1.43564226,  0.59234888,\n",
       "          1.01129979],\n",
       "        [ 0.56493268, -0.95346259, -1.06287681,  1.14208048,\n",
       "         -0.91287093]],\n",
       "\n",
       "       [[ 1.03509834, -1.35873244,  1.43564226,  0.59234888,\n",
       "          1.68549966],\n",
       "        [ 1.12986537, -0.95346259, -1.41716908,  0.76138699,\n",
       "         -0.91287093]],\n",
       "\n",
       "       [[-1.55264751,  1.69841555,  0.47854742,  1.18469776,\n",
       "         -0.33709993],\n",
       "        [ 0.56493268,  0.95346259, -0.35429227,  0.38069349,\n",
       "         -0.45643546]],\n",
       "\n",
       "       [[ 0.        , -1.01904933,  1.43564226,  1.18469776,\n",
       "          0.67419986],\n",
       "        [ 1.12986537, -1.43019388, -1.41716908,  1.14208048,\n",
       "          1.36930639]],\n",
       "\n",
       "       [[ 1.03509834,  1.01904933,  0.        ,  0.29617444,\n",
       "          1.68549966],\n",
       "        [ 1.12986537,  0.        , -1.06287681,  1.14208048,\n",
       "          1.36930639]],\n",
       "\n",
       "       [[ 2.07019668,  1.69841555,  1.43564226, -0.59234888,\n",
       "          1.34839972],\n",
       "        [ 0.56493268,  0.        , -1.41716908,  1.14208048,\n",
       "          0.        ]],\n",
       "\n",
       "       [[ 0.51754917,  1.01904933,  0.        , -0.59234888,\n",
       "          0.        ],\n",
       "        [ 1.12986537,  0.47673129,  0.35429227,  1.14208048,\n",
       "          0.45643546]],\n",
       "\n",
       "       [[-0.51754917,  0.        ,  0.        ,  0.        ,\n",
       "          0.        ],\n",
       "        [ 0.        ,  0.47673129, -1.06287681,  1.14208048,\n",
       "          1.36930639]],\n",
       "\n",
       "       [[ 0.51754917, -1.01904933,  0.        ,  0.        ,\n",
       "          0.33709993],\n",
       "        [ 1.69479805, -0.95346259, -1.06287681,  0.38069349,\n",
       "         -0.91287093]],\n",
       "\n",
       "       [[ 0.        ,  0.67936622, -1.43564226,  0.88852332,\n",
       "          0.        ],\n",
       "        [ 0.56493268, -1.43019388, -0.35429227,  1.14208048,\n",
       "         -0.45643546]],\n",
       "\n",
       "       [[-1.55264751, -0.67936622, -1.91418968,  0.59234888,\n",
       "          0.67419986],\n",
       "        [ 1.69479805,  0.        ,  1.06287681,  1.14208048,\n",
       "         -2.28217732]],\n",
       "\n",
       "       [[-1.03509834,  0.        ,  0.47854742,  1.18469776,\n",
       "          0.33709993],\n",
       "        [ 1.12986537, -0.95346259, -1.41716908,  1.52277398,\n",
       "         -1.36930639]],\n",
       "\n",
       "       [[ 1.03509834,  0.        , -0.47854742,  0.        ,\n",
       "          1.01129979],\n",
       "        [ 1.12986537,  0.47673129, -0.70858454,  0.76138699,\n",
       "         -0.91287093]],\n",
       "\n",
       "       [[ 1.03509834,  0.67936622, -0.47854742,  1.48087219,\n",
       "          0.        ],\n",
       "        [ 0.        , -0.47673129, -0.35429227,  0.76138699,\n",
       "          0.        ]],\n",
       "\n",
       "       [[-0.51754917,  0.67936622, -0.95709484,  1.18469776,\n",
       "          0.        ],\n",
       "        [-1.12986537, -0.47673129, -1.41716908,  1.14208048,\n",
       "          1.36930639]],\n",
       "\n",
       "       [[-0.51754917,  0.67936622,  0.        ,  1.18469776,\n",
       "          0.67419986],\n",
       "        [ 0.56493268, -1.43019388, -0.35429227,  0.76138699,\n",
       "         -0.45643546]],\n",
       "\n",
       "       [[ 0.        , -1.01904933, -1.91418968,  1.18469776,\n",
       "         -1.68549966],\n",
       "        [ 1.69479805, -1.90692518, -1.41716908, -0.38069349,\n",
       "         -1.36930639]],\n",
       "\n",
       "       [[ 0.        ,  0.33968311, -0.95709484,  1.48087219,\n",
       "          1.68549966],\n",
       "        [ 0.56493268, -1.90692518, -0.70858454,  0.38069349,\n",
       "          0.        ]],\n",
       "\n",
       "       [[-1.03509834,  0.67936622,  0.        , -0.29617444,\n",
       "          0.        ],\n",
       "        [ 0.56493268, -0.95346259, -0.70858454,  0.76138699,\n",
       "          0.        ]],\n",
       "\n",
       "       [[ 0.        ,  0.33968311, -0.95709484,  1.48087219,\n",
       "          1.68549966],\n",
       "        [ 0.56493268, -1.90692518, -0.70858454,  0.38069349,\n",
       "          0.        ]],\n",
       "\n",
       "       [[-1.55264751, -1.01904933, -1.43564226,  1.18469776,\n",
       "          1.34839972],\n",
       "        [ 1.69479805,  0.95346259, -1.06287681,  0.38069349,\n",
       "          0.91287093]]])"
      ]
     },
     "execution_count": 24,
     "metadata": {},
     "output_type": "execute_result"
    }
   ],
   "source": [
    "transformToStandardScore(np.array(regAnswerCountry))"
   ]
  },
  {
   "cell_type": "code",
   "execution_count": 46,
   "metadata": {},
   "outputs": [
    {
     "name": "stdout",
     "output_type": "stream",
     "text": [
      "Average degreement for regular antonyms from Country:  0.5816666666666667\n",
      "Average degreement for extended antonyms from Country:  0.45666666666666667\n",
      "Average degreement for regular antonyms from Food:  0.765\n",
      "Average degreement for extended antonyms from Food:  0.6733333333333333\n",
      "Average degreement for regular antonyms from Music:  0.7016666666666667\n",
      "Average degreement for extended antonyms from Music:  0.56\n"
     ]
    }
   ],
   "source": [
    "#Country\n",
    "    #Polar\n",
    "regularCountyN=transformToStandardScore(np.array(regularCounty))\n",
    "extendedCountyN=transformToStandardScore(np.array(extendedCounty))\n",
    "    #Survey\n",
    "regAnswerCountryN=transformToStandardScore(np.array(regAnswerCountry))\n",
    "extAnswerCountryN=transformToStandardScore(np.array(extAnswerCountry))\n",
    "    #Direction agreement\n",
    "regCountryAgreement=computeDirectionAgreement(regularCountyN, regAnswerCountryN)\n",
    "print(\"Average agreement for regular antonyms from Country: \", regCountryAgreement)\n",
    "extCountryAgreement=computeDirectionAgreement(extendedCountyN, extAnswerCountryN)\n",
    "print(\"Average agreement for extended antonyms from Country: \", extCountryAgreement)\n",
    "\n",
    "#Food\n",
    "regularFoodN=transformToStandardScore(np.array(regularFood))\n",
    "extendedFoodN=transformToStandardScore(np.array(extendedFood))\n",
    "regAnswerFoodN=transformToStandardScore(np.array(regAnswerFood))\n",
    "extAnswerFoodN=transformToStandardScore(np.array(extAnswerFood))\n",
    "regFoodAgreement=computeDirectionAgreement(regularFoodN, regAnswerFoodN)\n",
    "print(\"Average agreement for regular antonyms from Food: \", regFoodAgreement)\n",
    "extFoodAgreement=computeDirectionAgreement(extendedFoodN, extAnswerFoodN)\n",
    "print(\"Average agreement for extended antonyms from Food: \", extFoodAgreement)\n",
    "\n",
    "#Music\n",
    "regularMusicN=transformToStandardScore(np.array(regularMusic))\n",
    "extendedMusicN=transformToStandardScore(np.array(extendedMusic))\n",
    "regAnswerMusicN=transformToStandardScore(np.array(regAnswerMusic))\n",
    "extAnswerMusicN=transformToStandardScore(np.array(extAnswerMusic))\n",
    "regMusicAgreement=computeDirectionAgreement(regularMusicN, regAnswerMusicN)\n",
    "print(\"Average agreement for regular antonyms from Music: \", regMusicAgreement)\n",
    "extMusicAgreement=computeDirectionAgreement(extendedMusicN, extAnswerMusicN)\n",
    "print(\"Average agreement for extended antonyms from Music: \", extMusicAgreement)\n",
    "\n",
    "\n"
   ]
  },
  {
   "cell_type": "code",
   "execution_count": 72,
   "metadata": {},
   "outputs": [
    {
     "name": "stdout",
     "output_type": "stream",
     "text": [
      "Average disagreement for regular antonyms from Country:  0.4\n",
      "Average disagreement for extended antonyms from Country:  0.6\n",
      "Average disagreement for regular antonyms from Food:  0.1\n",
      "Average disagreement for extended antonyms from Food:  0.3\n",
      "Average disagreement for regular antonyms from Music:  0.2\n",
      "Average disagreement for extended antonyms from Music:  0.4\n"
     ]
    }
   ],
   "source": [
    "# Agreeeeeement\n",
    "#Country\n",
    "    #Polar\n",
    "regularCountySign=np.sign(regularCounty)\n",
    "extendedCountySign=np.sign(extendedCounty)\n",
    "    #Survey\n",
    "regAnswerCountrySign=np.sign(computeMean(regAnswerCountry))\n",
    "extAnswerCountrySign=np.sign(computeMean(extAnswerCountry))\n",
    "    #Direction agreement\n",
    "regCountryAgreement=differences(regularCountySign, regAnswerCountrySign)/10\n",
    "print(\"Average disagreement for regular antonyms from Country: \", regCountryAgreement)\n",
    "extCountryAgreement=differences(extendedCountySign, extAnswerCountrySign)/10\n",
    "print(\"Average disagreement for extended antonyms from Country: \", extCountryAgreement)\n",
    "\n",
    "#Food\n",
    "regularFoodSign=np.sign(regularFood)\n",
    "extendedFoodSign=np.sign(extendedFood)\n",
    "regAnswerFoodSign=np.sign(computeMean(regAnswerFood))\n",
    "extAnswerFoodSign=np.sign(computeMean(extAnswerFood))\n",
    "regFoodAgreement=differences(regularFoodSign, regAnswerFoodSign)/10\n",
    "print(\"Average disagreement for regular antonyms from Food: \", regFoodAgreement)\n",
    "extFoodAgreement=differences(extendedFoodSign, extAnswerFoodSign)/10\n",
    "print(\"Average disagreement for extended antonyms from Food: \", extFoodAgreement)\n",
    "\n",
    "#Music\n",
    "regularMusicSign=np.sign(regularMusic)\n",
    "extendedMusicSign=np.sign(extendedMusic)\n",
    "regAnswerMusicSign=np.sign(computeMean(regAnswerMusic))\n",
    "extAnswerMusicSign=np.sign(computeMean(extAnswerMusic))\n",
    "regMusicAgreement=differences(regularMusicSign, regAnswerMusicSign)/10\n",
    "print(\"Average disagreement for regular antonyms from Music: \", regMusicAgreement)\n",
    "extMusicAgreement=differences(extendedMusicSign, extAnswerMusicSign)/10\n",
    "print(\"Average disagreement for extended antonyms from Music: \", extMusicAgreement)\n",
    "\n",
    "\n"
   ]
  },
  {
   "cell_type": "code",
   "execution_count": 109,
   "metadata": {},
   "outputs": [
    {
     "name": "stdout",
     "output_type": "stream",
     "text": [
      "Average distance for regular antonyms from Country:  0.8498117201433834\n",
      "Average distance for extended antonyms from Country:  1.0995306325692316\n",
      "Average distance for regular antonyms from Food:  0.4654151829602993\n",
      "Average distance for extended antonyms from Food:  0.6960719436516506\n",
      "Average distance for regular antonyms from Music:  0.5768128416212231\n",
      "Average distance for extended antonyms from Music:  0.8214764444816864\n",
      "Average distance for all:  0.7515197942379124\n",
      "Average distance for regular:  0.6306799149083019\n",
      "Average distance for extended:  0.872359673567523\n"
     ]
    }
   ],
   "source": [
    "# DISTANCE\n",
    "\n",
    "    #Polar\n",
    "regularCountyN=transformToStandardScore(np.array(regularCounty))\n",
    "extendedCountyN=transformToStandardScore(np.array(extendedCounty))\n",
    "    #Survey\n",
    "regAnswerCountryN=np.mean(transformToStandardScore(np.array(regAnswerCountry)),axis=0)\n",
    "extAnswerCountryN=np.mean(transformToStandardScore(np.array(extAnswerCountry)),axis=0)\n",
    "\n",
    "    #Direction agreement\n",
    "regCountryAgreement=computeAverageAgreementCategory(regularCountyN, regAnswerCountryN)\n",
    "print(\"Average distance for regular antonyms from Country: \", regCountryAgreement)\n",
    "extCountryAgreement=computeAverageAgreementCategory(extendedCountyN, extAnswerCountryN)\n",
    "print(\"Average distance for extended antonyms from Country: \", extCountryAgreement)\n",
    "\n",
    "#Food\n",
    "regularFoodN=transformToStandardScore(np.array(regularFood))\n",
    "extendedFoodN=transformToStandardScore(np.array(extendedFood))\n",
    "regAnswerFoodN=np.mean(transformToStandardScore(np.array(regAnswerFood)),axis=0)\n",
    "extAnswerFoodN=np.mean(transformToStandardScore(np.array(extAnswerFood)),axis=0)\n",
    "regFoodAgreement=computeAverageAgreementCategory(regularFoodN, regAnswerFoodN)\n",
    "print(\"Average distance for regular antonyms from Food: \", regFoodAgreement)\n",
    "extFoodAgreement=computeAverageAgreementCategory(extendedFoodN, extAnswerFoodN)\n",
    "print(\"Average distance for extended antonyms from Food: \", extFoodAgreement)\n",
    "\n",
    "#Music\n",
    "regularMusicN=transformToStandardScore(np.array(regularMusic))\n",
    "extendedMusicN=transformToStandardScore(np.array(extendedMusic))\n",
    "regAnswerMusicN=np.mean(transformToStandardScore(np.array(regAnswerMusic)),axis=0)\n",
    "extAnswerMusicN=np.mean(transformToStandardScore(np.array(extAnswerMusic)),axis=0)\n",
    "regMusicAgreement=computeAverageAgreementCategory(regularMusicN, regAnswerMusicN)\n",
    "print(\"Average distance for regular antonyms from Music: \", regMusicAgreement)\n",
    "extMusicAgreement=computeAverageAgreementCategory(extendedMusicN, extAnswerMusicN)\n",
    "print(\"Average distance for extended antonyms from Music: \", extMusicAgreement)\n",
    "\n",
    "overallDist=(regCountryAgreement+regFoodAgreement+regMusicAgreement+extCountryAgreement+extFoodAgreement+extMusicAgreement)/6\n",
    "regularDist=(regCountryAgreement+regFoodAgreement+regMusicAgreement)/3\n",
    "extendedDist=(extCountryAgreement+extFoodAgreement+extMusicAgreement)/3\n",
    "print(\"Average distance for all: \",overallDist)\n",
    "print(\"Average distance for regular: \",regularDist)\n",
    "print(\"Average distance for extended: \",extendedDist)\n"
   ]
  },
  {
   "cell_type": "code",
   "execution_count": 76,
   "metadata": {},
   "outputs": [
    {
     "name": "stdout",
     "output_type": "stream",
     "text": [
      "[-3.2503996, -3.057242, -3.0330684, 2.7474287, 2.7222674, 4.52079, -3.6331446, 3.2978609, 3.2470224, 2.7367115]\n"
     ]
    },
    {
     "data": {
      "text/plain": [
       "array([-1., -1., -1.,  1.,  1.,  1., -1.,  1.,  1.,  1.])"
      ]
     },
     "execution_count": 76,
     "metadata": {},
     "output_type": "execute_result"
    }
   ],
   "source": [
    "print(extendedCounty)\n",
    "extendedCountySign"
   ]
  },
  {
   "cell_type": "code",
   "execution_count": 75,
   "metadata": {},
   "outputs": [
    {
     "name": "stdout",
     "output_type": "stream",
     "text": [
      "[-2.16666667 -1.          2.13333333 -2.6        -1.56666667 -0.06666667\n",
      "  1.66666667  0.9        -0.86666667  2.        ]\n"
     ]
    },
    {
     "data": {
      "text/plain": [
       "array([-1., -1.,  1., -1., -1., -1.,  1.,  1., -1.,  1.])"
      ]
     },
     "execution_count": 75,
     "metadata": {},
     "output_type": "execute_result"
    }
   ],
   "source": [
    "print(computeMean(extAnswerCountry))\n",
    "extAnswerCountrySign"
   ]
  },
  {
   "cell_type": "code",
   "execution_count": 43,
   "metadata": {},
   "outputs": [],
   "source": [
    "#regAnswerCountryN"
   ]
  },
  {
   "cell_type": "code",
   "execution_count": 66,
   "metadata": {},
   "outputs": [
    {
     "data": {
      "text/plain": [
       "[3.0543187,\n",
       " 2.5934815,\n",
       " -2.1792395,\n",
       " -2.1180494,\n",
       " 1.9136409,\n",
       " -3.6438596,\n",
       " 2.4659219,\n",
       " -2.4528916,\n",
       " 2.438985,\n",
       " 1.9591951]"
      ]
     },
     "execution_count": 66,
     "metadata": {},
     "output_type": "execute_result"
    }
   ],
   "source": [
    "computeDirectionAgreement(regularCountyN, regAnswerCountryN)\n",
    "regularFood"
   ]
  },
  {
   "cell_type": "code",
   "execution_count": null,
   "metadata": {},
   "outputs": [],
   "source": []
  },
  {
   "cell_type": "code",
   "execution_count": null,
   "metadata": {},
   "outputs": [],
   "source": []
  },
  {
   "cell_type": "code",
   "execution_count": null,
   "metadata": {},
   "outputs": [],
   "source": []
  },
  {
   "cell_type": "code",
   "execution_count": 35,
   "metadata": {},
   "outputs": [
    {
     "data": {
      "text/plain": [
       "array([-1.27655871, -1.03693764,  0.97378368, -0.9366681 ,  0.91705012,\n",
       "       -1.26090928, -0.9763869 ,  0.85216775,  0.85216775,  0.79559547])"
      ]
     },
     "execution_count": 35,
     "metadata": {},
     "output_type": "execute_result"
    }
   ],
   "source": [
    "extendedMusicN"
   ]
  },
  {
   "cell_type": "code",
   "execution_count": 48,
   "metadata": {},
   "outputs": [
    {
     "data": {
      "text/plain": [
       "0.6827777777777778"
      ]
     },
     "execution_count": 48,
     "metadata": {},
     "output_type": "execute_result"
    }
   ],
   "source": [
    "root=normalizedRegular#\n",
    "allAnswers=answersRegular\n",
    "computeDirectionAgreement(root, allAnswers)"
   ]
  },
  {
   "cell_type": "code",
   "execution_count": null,
   "metadata": {},
   "outputs": [],
   "source": []
  },
  {
   "cell_type": "code",
   "execution_count": null,
   "metadata": {},
   "outputs": [],
   "source": []
  },
  {
   "cell_type": "code",
   "execution_count": null,
   "metadata": {},
   "outputs": [],
   "source": []
  }
 ],
 "metadata": {
  "kernelspec": {
   "display_name": "Python 3",
   "language": "python",
   "name": "python3"
  },
  "language_info": {
   "codemirror_mode": {
    "name": "ipython",
    "version": 3
   },
   "file_extension": ".py",
   "mimetype": "text/x-python",
   "name": "python",
   "nbconvert_exporter": "python",
   "pygments_lexer": "ipython3",
   "version": "3.7.6"
  }
 },
 "nbformat": 4,
 "nbformat_minor": 2
}
