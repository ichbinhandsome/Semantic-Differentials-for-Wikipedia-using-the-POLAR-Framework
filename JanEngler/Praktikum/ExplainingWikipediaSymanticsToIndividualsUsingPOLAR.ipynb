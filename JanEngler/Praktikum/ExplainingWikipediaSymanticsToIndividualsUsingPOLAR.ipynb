{
 "cells": [
  {
   "cell_type": "markdown",
   "metadata": {},
   "source": [
    "# Forschungspraktikum SS20 \n",
    "# Semantic Differentials for Wikipedia using the POLAR Framework\n",
    "\n",
    "\n",
    "The POLAR Framework is a method that enables Interpretability for pre-trained word embeddings. The goal of this project is to produce word embeddings from a Wikipedia dataset, and deploy the POLAR framework to different categories of words (e.g. Countries, Politicians, Music, etc) in order to explain the semantic associations behind concepts on Wikipedia. An evaluation setup should assess the quality of the semantic differentials produced."
   ]
  },
  {
   "cell_type": "code",
   "execution_count": 5,
   "metadata": {},
   "outputs": [],
   "source": [
    "\n",
    "import pathlib\n",
    "import matplotlib.pyplot as plt\n",
    "import pandas as pd\n",
    "import numpy as np\n",
    "import multiprocessing\n",
    "from gensim.corpora.wikicorpus import WikiCorpus #https://radimrehurek.com/gensim/corpora/wikicorpus.html\n",
    "from gensim.models.word2vec import Word2Vec"
   ]
  },
  {
   "cell_type": "markdown",
   "metadata": {},
   "source": [
    "# Only run next cell if a new Wikipedia dataset is loaded"
   ]
  },
  {
   "cell_type": "code",
   "execution_count": 57,
   "metadata": {},
   "outputs": [
    {
     "name": "stdout",
     "output_type": "stream",
     "text": [
      "Check if its your first time running this NodeBook\n"
     ]
    },
    {
     "data": {
      "application/vnd.jupyter.widget-view+json": {
       "model_id": "903364b34d5248e5837cde0ceccd1554",
       "version_major": 2,
       "version_minor": 0
      },
      "text/plain": [
       "interactive(children=(Checkbox(value=True, description='trainNewModel'), Output()), _dom_classes=('widget-inte…"
      ]
     },
     "metadata": {},
     "output_type": "display_data"
    }
   ],
   "source": [
    "from ipywidgets import interact, interactive, fixed, interact_manual\n",
    "\n",
    "def myFunction(trainNewModel):\n",
    "    return trainNewModel\n",
    "print(\"Check if its your first time running this NodeBook\")\n",
    "trainNewModel=interact(myFunction, trainNewModel=True);"
   ]
  },
  {
   "cell_type": "code",
   "execution_count": 58,
   "metadata": {},
   "outputs": [],
   "source": [
    "if trainNewModel==True:\n",
    "    wiki = WikiCorpus(r\"enwiki-20200401-pages-articles-multistream1.xml-p1p30303.bz2\", \n",
    "                  lemmatize=False, dictionary={})\n",
    "    #stores the preprocessed dataset, which reduces runtime for the future\n",
    "    wiki.save('SavedWord2Vec/wiki.corpus')\n",
    "    \n",
    "    sentences = list(wiki.get_texts()) #Iterate over the dump, yielding a list of tokens for each article that passed the length and namespace filtering.\n",
    "\n"
   ]
  },
  {
   "cell_type": "markdown",
   "metadata": {},
   "source": [
    "size: The number of dimensions of the embeddings and the default is 100.\n",
    "\n",
    "window: The maximum distance between a target word and words around the target word. The default window is 5.\n",
    "\n",
    "min_count: The minimum count of words to consider when training the model; words with occurrence less than this \n",
    "count will be ignored. The default for min_count is 5.\n",
    "\n",
    "workers: The number of partitions during training and the default workers is 3.\n",
    "\n",
    "sg: The training algorithm, either CBOW(0) or skip gram(1). The default training algorithm is CBOW."
   ]
  },
  {
   "cell_type": "code",
   "execution_count": 8,
   "metadata": {},
   "outputs": [
    {
     "name": "stdout",
     "output_type": "stream",
     "text": [
      "Loading Word2Vec model from file...\n",
      "Finished Loading\n"
     ]
    }
   ],
   "source": [
    "### Compute the Word2Vec model usint following parameters#\n",
    "# Currently using CBOW for testing because of performance issues of skip gram on my laptop #\n",
    "if trainNewModel==True:\n",
    "    print(\"Training Word2Vec model ...\")\n",
    "    params = {'size': 300, 'window': 5, 'min_count': 5, \n",
    "          'workers': max(1, multiprocessing.cpu_count() - 1), 'sample': 1E-3,'sg' : 1}\n",
    "    word2vec = Word2Vec(sentences, **params)\n",
    "    ### Save Word2Vec model to file ###\n",
    "    word2vec.save('SavedWord2Vec/wiki.word2vec.model')\n",
    "    print(\"Finished Training\")\n",
    "else:\n",
    "    ### Loading finished Word2Vec model to memory from file ###\n",
    "    print(\"Loading Word2Vec model from file...\")\n",
    "    word2vec = Word2Vec.load('SavedWord2Vec/wiki.word2vec.model')\n",
    "    print(\"Finished Loading\")\n"
   ]
  },
  {
   "cell_type": "markdown",
   "metadata": {},
   "source": [
    "## King- Man + Woman = Queen?"
   ]
  },
  {
   "cell_type": "code",
   "execution_count": 9,
   "metadata": {},
   "outputs": [],
   "source": [
    "def similarityNameVector(vec, name, model):\n",
    "    \n",
    "    cosineSimilarity = np.dot(vec, model.wv[name])/(np.linalg.norm(vec)* np.linalg.norm(model.wv[name]))\n",
    "    return cosineSimilarity\n",
    "\n",
    "#print(similarityNameVector(ourQueen,'queen'))\n",
    "\n"
   ]
  },
  {
   "cell_type": "code",
   "execution_count": 10,
   "metadata": {},
   "outputs": [
    {
     "name": "stdout",
     "output_type": "stream",
     "text": [
      "Smiliarity of king and queen: 0.61206675\n",
      "Smiliarity of transformed king and queen: 0.58086324\n",
      "The most similar words to out transformation of King to Queen are:\n"
     ]
    },
    {
     "data": {
      "text/plain": [
       "[('king', 0.7404661178588867),\n",
       " ('queen', 0.5808632373809814),\n",
       " ('regnant', 0.5323577523231506),\n",
       " ('woman', 0.5306766629219055),\n",
       " ('consort', 0.4988700747489929),\n",
       " ('sibylla', 0.4976164400577545),\n",
       " ('monarch', 0.49684637784957886),\n",
       " ('berengaria', 0.4891374111175537),\n",
       " ('husband', 0.48792698979377747),\n",
       " ('isabeau', 0.4850718677043915)]"
      ]
     },
     "execution_count": 10,
     "metadata": {},
     "output_type": "execute_result"
    }
   ],
   "source": [
    "print(\"Smiliarity of king and queen:\", word2vec.wv.similarity('king', 'queen'))\n",
    "ourQueen= word2vec.wv['king'] - word2vec.wv['man'] + word2vec.wv['woman']\n",
    "print(\"Smiliarity of transformed king and queen:\", similarityNameVector(ourQueen,'queen',word2vec))\n",
    "\n",
    "print(\"The most similar words to out transformation of King to Queen are:\")\n",
    "word2vec.wv.most_similar(positive=[ourQueen], topn=10) # cosine similarity\n",
    "#word2vec.wv.most_similar(positive=[\"king\"], topn=10)\n",
    "\n"
   ]
  },
  {
   "cell_type": "code",
   "execution_count": 11,
   "metadata": {},
   "outputs": [
    {
     "name": "stdout",
     "output_type": "stream",
     "text": [
      "The most similar words to out transformation of France to Japan are:\n"
     ]
    },
    {
     "data": {
      "text/plain": [
       "[('tokyo', 0.7824169397354126),\n",
       " ('japan', 0.7363533973693848),\n",
       " ('osaka', 0.5636578798294067),\n",
       " ('miyagi', 0.5537097454071045),\n",
       " ('japanese', 0.5516831874847412),\n",
       " ('ehime', 0.5486613512039185),\n",
       " ('nagoya', 0.5413318872451782),\n",
       " ('sendai', 0.5348860621452332),\n",
       " ('saitama', 0.5333958864212036),\n",
       " ('hakodate', 0.527837872505188)]"
      ]
     },
     "execution_count": 11,
     "metadata": {},
     "output_type": "execute_result"
    }
   ],
   "source": [
    "ourTokyo= word2vec.wv['france'] - word2vec.wv['paris'] + word2vec.wv['tokyo']\n",
    "print(\"The most similar words to out transformation of France to Japan are:\")\n",
    "word2vec.wv.most_similar(positive=[ourTokyo], topn=10) # cosine similarity\n",
    "#word2vec.wv.most_similar(positive=[\"king\"], topn=10)"
   ]
  },
  {
   "cell_type": "markdown",
   "metadata": {},
   "source": [
    "## Usefull functions:\n",
    "\n",
    "word2vec.wv.similarity('star', 'hollywood')  \n",
    "word2vec.wv.most_similar('afghanistan')[:20]"
   ]
  },
  {
   "cell_type": "code",
   "execution_count": 12,
   "metadata": {},
   "outputs": [
    {
     "data": {
      "image/png": "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\n",
      "text/plain": [
       "<Figure size 432x288 with 1 Axes>"
      ]
     },
     "metadata": {
      "needs_background": "light"
     },
     "output_type": "display_data"
    }
   ],
   "source": [
    "from sklearn.manifold import TSNE\n",
    "def display_closestwords_tsnescatterplot(model, word, size):\n",
    "    \n",
    "    arr = np.empty((0,size), dtype='f')\n",
    "    word_labels = [word]\n",
    "    close_words = model.wv.similar_by_word(word)\n",
    "    #print(arr)\n",
    "    #print(np.array([model[word]]))\n",
    "    arr = np.append(arr, np.array([model.wv[word]]), axis=0)\n",
    "    \n",
    "    for wrd_score in close_words:\n",
    "        wrd_vector = model.wv[wrd_score[0]]\n",
    "        word_labels.append(wrd_score[0])\n",
    "        arr = np.append(arr, np.array([wrd_vector]), axis=0)\n",
    "        \n",
    "    tsne = TSNE(n_components=2, random_state=0)\n",
    "    np.set_printoptions(suppress=True)\n",
    "    Y = tsne.fit_transform(arr)\n",
    "    x_coords = Y[:, 0]\n",
    "    y_coords = Y[:, 1]\n",
    "    plt.scatter(x_coords, y_coords)\n",
    "    for label, x, y in zip(word_labels, x_coords, y_coords):\n",
    "        plt.annotate(label, xy=(x, y), xytext=(0, 0), textcoords='offset points')\n",
    "        plt.xlim(x_coords.min()+0.00005, x_coords.max()+0.00005)\n",
    "        plt.ylim(y_coords.min()+0.00005, y_coords.max()+0.00005)\n",
    "    plt.show()\n",
    "\n",
    "    \n",
    "display_closestwords_tsnescatterplot(word2vec, 'trump', 300) "
   ]
  },
  {
   "cell_type": "markdown",
   "metadata": {},
   "source": [
    "# Online training / Resuming training\n",
    "\n",
    "Advanced users can load a model and continue training it with more sentences and new vocabulary words:\n",
    "\n",
    "model = gensim.models.Word2Vec.load(temporary_filepath)\n",
    "more_sentences = [\n",
    "    ['Advanced', 'users', 'can', 'load', 'a', 'model',\n",
    "     'and', 'continue', 'training', 'it', 'with', 'more', 'sentences']\n",
    "]\n",
    "model.build_vocab(more_sentences, update=True)\n",
    "model.train(more_sentences, total_examples=model.corpus_count, epochs=model.iter)\n",
    "\n",
    "cleaning up temporary file\n",
    "import os\n",
    "os.remove(temporary_filepath)"
   ]
  },
  {
   "cell_type": "code",
   "execution_count": null,
   "metadata": {},
   "outputs": [],
   "source": []
  },
  {
   "cell_type": "markdown",
   "metadata": {},
   "source": [
    "## POLAR Framework code (https://github.com/Sandipan99/POLAR) :"
   ]
  },
  {
   "cell_type": "code",
   "execution_count": null,
   "metadata": {},
   "outputs": [],
   "source": []
  },
  {
   "cell_type": "code",
   "execution_count": 13,
   "metadata": {},
   "outputs": [],
   "source": [
    "import numpy as np\n",
    "import gensim\n",
    "from numpy import linalg\n",
    "\n",
    "from sklearn.metrics.pairwise import cosine_similarity\n",
    "from tqdm import tqdm_notebook as tqdm\n",
    "import time\n",
    "from random import shuffle\n",
    "import sys\n",
    "import nltk \n",
    "from nltk.corpus import wordnet \n",
    "import gc\n",
    "from collections import defaultdict\n",
    "import random\n",
    "import json\n",
    "import os\n",
    "\n",
    "from gensim.scripts.glove2word2vec import glove2word2vec\n",
    "from gensim.test.utils import datapath, get_tmpfile\n",
    "\n",
    "from gensim.test.utils import datapath\n",
    "#%load_ext autotime"
   ]
  },
  {
   "cell_type": "code",
   "execution_count": 14,
   "metadata": {},
   "outputs": [],
   "source": [
    "current_model=model = word2vec"
   ]
  },
  {
   "cell_type": "code",
   "execution_count": 15,
   "metadata": {},
   "outputs": [
    {
     "name": "stderr",
     "output_type": "stream",
     "text": [
      "C:\\Users\\Jan\\Anaconda3\\lib\\site-packages\\ipykernel_launcher.py:9: DeprecationWarning: Call to deprecated `__contains__` (Method will be removed in 4.0.0, use self.wv.__contains__() instead).\n",
      "  if __name__ == '__main__':\n",
      "C:\\Users\\Jan\\Anaconda3\\lib\\site-packages\\ipykernel_launcher.py:19: DeprecationWarning: Call to deprecated `__contains__` (Method will be removed in 4.0.0, use self.wv.__contains__() instead).\n",
      "C:\\Users\\Jan\\Anaconda3\\lib\\site-packages\\ipykernel_launcher.py:28: DeprecationWarning: Call to deprecated `__contains__` (Method will be removed in 4.0.0, use self.wv.__contains__() instead).\n",
      "C:\\Users\\Jan\\Anaconda3\\lib\\site-packages\\ipykernel_launcher.py:37: DeprecationWarning: Call to deprecated `__contains__` (Method will be removed in 4.0.0, use self.wv.__contains__() instead).\n"
     ]
    }
   ],
   "source": [
    "list_antonym = []\n",
    "\n",
    "with open(r'Antonym_sets/LenciBenotto.val') as fp:\n",
    "    for line in fp:\n",
    "        parts = line.split()\n",
    "        if parts[3]=='antonym':\n",
    "            word1 = parts[0].split('-')[0]\n",
    "            word2 = parts[1].split('-')[0]\n",
    "            if word1 in current_model and word2 in current_model:\n",
    "                list_antonym.append((word1.strip().lower(), word2.strip().lower()))\n",
    "\n",
    "\n",
    "with open(r'Antonym_sets/LenciBenotto.test') as fp:\n",
    "    for line in fp:\n",
    "        parts = line.split()\n",
    "        if parts[3]=='antonym':\n",
    "            word1 = parts[0].split('-')[0]\n",
    "            word2 = parts[1].split('-')[0]\n",
    "            if word1 in current_model and word2 in current_model:\n",
    "                list_antonym.append((word1.strip().lower(), word2.strip().lower()))\n",
    "                \n",
    "with open(r'Antonym_sets/EVALution.val') as fp:\n",
    "    for line in fp:\n",
    "        parts = line.split()\n",
    "        if parts[3]=='antonym':\n",
    "            word1 = parts[0].split('-')[0]\n",
    "            word2 = parts[1].split('-')[0]\n",
    "            if word1 in current_model and word2 in current_model:\n",
    "                list_antonym.append((word1.strip().lower(), word2.strip().lower()))\n",
    "                \n",
    "with open(r'Antonym_sets/EVALution.test') as fp:\n",
    "    for line in fp:\n",
    "        parts = line.split()\n",
    "        if parts[3]=='antonym':\n",
    "            word1 = parts[0].split('-')[0]\n",
    "            word2 = parts[1].split('-')[0]\n",
    "            if word1 in current_model and word2 in current_model:\n",
    "                list_antonym.append((word1.strip().lower(), word2.strip().lower()))\n",
    "                \n",
    "                \n",
    "list_antonym = list(dict.fromkeys(list_antonym).keys())"
   ]
  },
  {
   "cell_type": "code",
   "execution_count": 16,
   "metadata": {},
   "outputs": [
    {
     "name": "stdout",
     "output_type": "stream",
     "text": [
      "[('implicate', 'exclude'), ('assertion', 'rejection'), ('terminal', 'beginning'), ('lop', 'secure'), ('pastor', 'libertine'), ('pocket', 'hook'), ('orbital', 'stationary'), ('evidence', 'disprove'), ('psychological', 'biological'), ('preparedness', 'unprepared'), ('saturation', 'dehydration'), ('geologic', 'biologic'), ('accessibility', 'secured'), ('fight', 'agree'), ('lump', 'smooth'), ('double', 'half'), ('training', 'forgetting'), ('determined', 'negligent'), ('velocity', 'still'), ('shield', 'vulnerable'), ('measurement', 'guess'), ('iconic', 'ordinary'), ('thump', 'caress'), ('stretcher', 'compressor'), ('allude', 'distract'), ('cemetery', 'birthplace'), ('corrupt', 'sanctify'), ('cameraman', 'actor'), ('knowledgeable', 'uninformed'), ('screech', 'talk'), ('hedge', 'squander'), ('aggregate', 'please'), ('constrict', 'open'), ('make', 'break'), ('normative', 'descriptive'), ('inscribe', 'polish'), ('bulge', 'hollow'), ('edit', 'expand'), ('sensory', 'numb'), ('immobilize', 'move'), ('iodine', 'water'), ('innovator', 'follower'), ('arachnid', 'serpent'), ('coupling', 'divorce'), ('zone', 'free'), ('caretaker', 'stranger'), ('admiration', 'loathing'), ('pneumatic', 'clear'), ('amalgamate', 'separate'), ('arbor', 'wasteland')]\n",
      "2955\n"
     ]
    }
   ],
   "source": [
    "print(list_antonym[0:50])\n",
    "print(len(list_antonym))"
   ]
  },
  {
   "cell_type": "code",
   "execution_count": 17,
   "metadata": {},
   "outputs": [
    {
     "name": "stdout",
     "output_type": "stream",
     "text": [
      "defaultdict(<class 'list'>, {})\n"
     ]
    },
    {
     "data": {
      "application/vnd.jupyter.widget-view+json": {
       "model_id": "a84cbc5aefb141068026ce32a19780ba",
       "version_major": 2,
       "version_minor": 0
      },
      "text/plain": [
       "HBox(children=(IntProgress(value=0, max=2955), HTML(value='')))"
      ]
     },
     "metadata": {},
     "output_type": "display_data"
    },
    {
     "name": "stdout",
     "output_type": "stream",
     "text": [
      "\n"
     ]
    },
    {
     "data": {
      "application/vnd.jupyter.widget-view+json": {
       "model_id": "c4fc671aa1af4be3b9f0da88a9f2bbdc",
       "version_major": 2,
       "version_minor": 0
      },
      "text/plain": [
       "HBox(children=(IntProgress(value=0, max=1409), HTML(value='')))"
      ]
     },
     "metadata": {},
     "output_type": "display_data"
    },
    {
     "name": "stdout",
     "output_type": "stream",
     "text": [
      "\n"
     ]
    },
    {
     "data": {
      "application/vnd.jupyter.widget-view+json": {
       "model_id": "c57da35fd44641c7a90658e86d86f7b0",
       "version_major": 2,
       "version_minor": 0
      },
      "text/plain": [
       "HBox(children=(IntProgress(value=0, max=1409), HTML(value='')))"
      ]
     },
     "metadata": {},
     "output_type": "display_data"
    },
    {
     "name": "stdout",
     "output_type": "stream",
     "text": [
      "\n",
      "[('exclude', 'inscribe'), ('assertion', 'lazy'), ('beginning', 'terminal'), ('lop', 'secure'), ('libertine', 'pastor'), ('hook', 'pocket'), ('orbital', 'stable'), ('disprove', 'document'), ('biological', 'psychological'), ('preparedness', 'unplanned'), ('dehydration', 'saturation'), ('biologic', 'geologic'), ('accessibility', 'secured'), ('agree', 'crab'), ('lump', 'spread'), ('double', 'indivisible'), ('forgetting', 'training'), ('determined', 'lazy'), ('still', 'velocity'), ('shield', 'vulnerable'), ('guess', 'measurement'), ('iconic', 'ordinary'), ('caress', 'punch'), ('compressor', 'stretcher'), ('allude', 'declare'), ('birthplace', 'cemetery'), ('corrupt', 'honor'), ('actor', 'cameraman'), ('knowledgeable', 'naive'), ('screech', 'talk'), ('hedge', 'plain'), ('aggregate', 'please'), ('constrict', 'release'), ('break', 'connect'), ('descriptive', 'normative'), ('inscribe', 'polish'), ('bulge', 'compress'), ('edit', 'include'), ('numb', 'sensory'), ('immobilize', 'tour'), ('iodine', 'water'), ('follower', 'leader'), ('arachnid', 'fly'), ('coupling', 'solitude'), ('free', 'stockade'), ('caretaker', 'continual'), ('admiration', 'hate'), ('clear', 'thunder'), ('amalgamate', 'parse'), ('arbor', 'barren'), ('arboreal', 'urban'), ('disconnection', 'intercourse'), ('journey', 'remain'), ('decentralize', 'streamline'), ('concise', 'redundant'), ('brush', 'hedge'), ('disperse', 'lump'), ('abuser', 'caretaker'), ('boredom', 'party'), ('confer', 'retrieve'), ('cow', 'lobster'), ('metamorphosis', 'unchanged'), ('kiwi', 'vegetable'), ('blueberry', 'pea'), ('mystical', 'normal'), ('absolve', 'bill'), ('initial', 'terminal'), ('fan', 'stifle'), ('defamation', 'promotional'), ('philosophical', 'unreasonable'), ('flick', 'punch'), ('cameraman', 'subject'), ('genuine', 'superficial'), ('picture', 'write'), ('poor', 'shah'), ('bragging', 'humble'), ('cemetery', 'nursery'), ('appealing', 'gross'), ('argue', 'confer'), ('muddle', 'organise'), ('accountant', 'musician'), ('crazy', 'rationale'), ('rest', 'tire'), ('metropolitan', 'rural'), ('civic', 'external'), ('abstain', 'try'), ('cure', 'diagnose'), ('copycat', 'innovator'), ('assailant', 'caretaker'), ('porcupine', 'zebra'), ('humble', 'owed'), ('factual', 'gauge'), ('spiral', 'straighten'), ('experience', 'new'), ('physical', 'psychiatric'), ('complicate', 'plain'), ('sleet', 'snowball'), ('orange', 'tomato'), ('boom', 'decay'), ('groove', 'invalidate'), ('citation', 'invisible'), ('fatalistic', 'open'), ('chemical', 'sweet'), ('contaminate', 'purity'), ('disciplinary', 'free'), ('confine', 'release'), ('caffeine', 'marijuana'), ('pneumatic', 'shapeless'), ('interpret', 'misinterpret'), ('auditory', 'deaf'), ('construe', 'keep'), ('condemn', 'pardon'), ('consume', 'power'), ('congestive', 'digestive'), ('bird', 'human'), ('clam', 'open'), ('deconstruct', 'structure'), ('leaflet', 'novel'), ('conjunct', 'esoteric'), ('disclose', 'secrete'), ('presentment', 'surprise'), ('dim', 'twinkle'), ('abuse', 'worship'), ('aware', 'naivety'), ('linguistic', 'silent'), ('estimate', 'gauge'), ('end', 'spring'), ('distasteful', 'sensory'), ('doing', 'training'), ('erase', 'tabulate'), ('condenser', 'stretcher'), ('incandescent', 'tallow'), ('mislead', 'redirect'), ('countryside', 'township'), ('gauge', 'ignore'), ('critique', 'guess'), ('settle', 'tour'), ('conceal', 'disclose'), ('directionless', 'helm'), ('anarchist', 'shah'), ('heal', 'kill'), ('fixer', 'wrecker'), ('polish', 'rough'), ('avoid', 'tour'), ('abdicate', 'challenge'), ('barley', 'weed'), ('fiscal', 'unable'), ('atmospheric', 'geologic'), ('supervised', 'unsupervised'), ('affix', 'lop'), ('open', 'zone'), ('thump', 'whine'), ('endemic', 'foreign'), ('dodge', 'inscribe'), ('catalogue', 'disorder'), ('obituary', 'parody'), ('naivety', 'wise'), ('audition', 'avoid'), ('planet', 'satellite'), ('intoxicate', 'sober'), ('emotional', 'reserved'), ('correct', 'corrupt'), ('cole', 'mineral'), ('flower', 'skunk'), ('coil', 'spring'), ('able', 'invalid'), ('forget', 'pine'), ('muscular', 'neural'), ('boastful', 'humble'), ('chair', 'table'), ('despotic', 'fair'), ('digestive', 'unhealthy'), ('calculated', 'pneumatic'), ('dirty', 'evidence'), ('stout', 'thin'), ('distress', 'groove'), ('artist', 'plebeian'), ('better', 'corrupt'), ('automated', 'manual'), ('dumb', 'philosophical'), ('specific', 'vague'), ('court', 'repel'), ('insured', 'uninsured'), ('coriander', 'none'), ('chap', 'chick'), ('crab', 'joy'), ('meaningless', 'symbolism'), ('thankful', 'ungrateful'), ('hurricane', 'sandstorm'), ('fancy', 'plain'), ('concealment', 'presentment'), ('normal', 'psychiatric'), ('emptiness', 'saturation'), ('lean', 'stout'), ('randomize', 'tabulate'), ('compass', 'lost'), ('invade', 'protect'), ('cleanse', 'corrupt'), ('dull', 'polish'), ('innovator', 'traditionalist'), ('awaken', 'tire'), ('straightforward', 'symbolic'), ('buff', 'knitwear'), ('processed', 'unrefined'), ('potpourri', 'skunk'), ('exoteric', 'mystical'), ('historic', 'insignificant'), ('fashion', 'taste'), ('innate', 'training'), ('pardon', 'punish'), ('fish', 'mammal'), ('terminal', 'unfinished'), ('slider', 'stationary'), ('extrasensory', 'sensory'), ('divide', 'sum'), ('complete', 'piece'), ('immortal', 'mortal'), ('emperor', 'peasant'), ('advantageous', 'disadvantageous'), ('unsupervised', 'watched'), ('tribal', 'universal'), ('cod', 'shark'), ('estimation', 'measurement'), ('pasture', 'stockade'), ('resting', 'training'), ('pristine', 'unclean'), ('boring', 'climatic'), ('park', 'ride'), ('ignore', 'nose'), ('bop', 'sit'), ('prime', 'worst'), ('dust', 'stone'), ('pulmonary', 'systemic'), ('fact', 'lie'), ('chastity', 'sexuality'), ('create', 'kill'), ('mantle', 'window'), ('current', 'historic'), ('antimatter', 'matter'), ('instructive', 'unclear'), ('halter', 'release'), ('grape', 'kiwi'), ('nationality', 'solitude'), ('aircraft', 'car'), ('chicken', 'turkey'), ('beeline', 'zigzag'), ('inhabit', 'vacate'), ('gross', 'polite'), ('loner', 'tribal'), ('lawful', 'unlawful'), ('disjoint', 'joint'), ('birth', 'die'), ('unite', 'zone'), ('confirmed', 'unconfirmed'), ('soft', 'stone'), ('accidental', 'intentional'), ('invalid', 'true'), ('invalidate', 'support'), ('pad', 'stone'), ('combine', 'tear'), ('invent', 'replicate'), ('spring', 'squat'), ('unicorn', 'zebra'), ('beat', 'strum'), ('implicate', 'save'), ('encrypt', 'interpret'), ('automatic', 'manual'), ('irrational', 'rationale'), ('confuse', 'structure'), ('cooperation', 'rivalry'), ('neglect', 'training'), ('consist', 'undo'), ('partial', 'whole'), ('disadvantageous', 'good'), ('sink', 'uplift'), ('moan', 'screech'), ('irregularly', 'quarterly'), ('denial', 'psychology'), ('deadpan', 'emotional'), ('block', 'fan'), ('matter', 'nothing'), ('confusing', 'instructive'), ('quit', 'try'), ('drop', 'pyramid'), ('fungus', 'iodine'), ('pastime', 'toil'), ('blind', 'corneal'), ('educator', 'liar'), ('copier', 'innovator'), ('export', 'import'), ('rationale', 'senseless'), ('disassemble', 'edit'), ('hiding', 'presentment'), ('exceptional', 'modal'), ('alleviation', 'starting'), ('carnivore', 'omnivore'), ('ground', 'skyline'), ('skunk', 'tie'), ('annual', 'quarterly'), ('start', 'terminal'), ('tap', 'thump'), ('airless', 'pneumatic'), ('country', 'metropolitan'), ('grow', 'trim'), ('pine', 'progress'), ('commitment', 'detachment'), ('impossible', 'probable'), ('chat', 'presentment'), ('leaf', 'leaflet'), ('evidence', 'miss'), ('impure', 'pure'), ('intercourse', 'isolation'), ('dependent', 'unsupervised'), ('known', 'unknown'), ('ignorance', 'training'), ('excitable', 'tame'), ('slowness', 'velocity'), ('congruence', 'contradiction'), ('cyclonic', 'placid'), ('lose', 'tight'), ('shout', 'whisper'), ('documentary', 'parody'), ('rain', 'sun'), ('flood', 'sandstorm'), ('set', 'slam'), ('scribe', 'talk'), ('solidify', 'whisk'), ('symphonic', 'untuned'), ('convict', 'pardon'), ('harmful', 'pathological'), ('hole', 'pocket'), ('indeterminate', 'nationality'), ('flask', 'vat'), ('enable', 'immobilize'), ('guide', 'swat'), ('psychiatric', 'well'), ('balanced', 'psychiatric'), ('deduce', 'scramble'), ('encore', 'over'), ('deteriorate', 'make'), ('asexuality', 'sexuality'), ('detest', 'fancy'), ('saturation', 'solid'), ('pocket', 'rock'), ('settled', 'tribal'), ('lowest', 'prime'), ('collection', 'distribution'), ('trombone', 'trumpet'), ('discourage', 'uplift'), ('battle', 'treat'), ('opening', 'pocket'), ('give', 'pocket'), ('document', 'forget'), ('shoreline', 'skyline'), ('smooth', 'trouble'), ('agreement', 'contradiction'), ('goodbye', 'hello'), ('rub', 'scratch'), ('affirm', 'evidence'), ('hush', 'pontificate'), ('confident', 'neural'), ('maze', 'peace'), ('ingrate', 'thankful'), ('pathological', 'proper'), ('maximum', 'minimum'), ('idle', 'recreation'), ('bottom', 'halter'), ('eternal', 'mortal'), ('ambiguity', 'commitment'), ('trivial', 'vital'), ('extravagant', 'thrifty'), ('mate', 'split'), ('flock', 'pastor'), ('improbable', 'probable'), ('cerebral', 'emotional'), ('extricate', 'implicate'), ('glare', 'wink'), ('conservative', 'nihilistic'), ('completeness', 'emptiness'), ('desert', 'saloon'), ('pontificate', 'withdraw'), ('fight', 'nice'), ('fee', 'free'), ('bothered', 'unaffected'), ('elephant', 'plant'), ('face', 'hedge'), ('leopard', 'zebra'), ('photographic', 'ugly'), ('aft', 'helm'), ('born', 'uterine'), ('saloon', 'teahouse'), ('locality', 'nationality'), ('exonerate', 'implicate'), ('postal', 'verbal'), ('kill', 'make'), ('quiet', 'talk'), ('annoy', 'rub'), ('queen', 'shah'), ('bible', 'geologic'), ('dry', 'river'), ('purity', 'sexuality'), ('flat', 'hill'), ('republicans', 'workforce'), ('barrel', 'flask'), ('contrast', 'copy'), ('bare', 'shield'), ('repel', 'structure'), ('rivalry', 'unity'), ('careless', 'provident'), ('devolve', 'keep'), ('cloud', 'stone'), ('harmony', 'rivalry'), ('assume', 'evidence'), ('pet', 'swat'), ('oppose', 'trim'), ('promotional', 'reserved'), ('apathetic', 'excitable'), ('mindless', 'philosophical'), ('germ', 'iodine'), ('pedantic', 'poetic'), ('alert', 'silence'), ('individual', 'workforce'), ('audio', 'leaflet'), ('scatter', 'zone'), ('lengthen', 'tabulate'), ('episodic', 'orbital'), ('dead', 'immortal'), ('decline', 'try'), ('nasal', 'uterine'), ('demolish', 'polish'), ('arrival', 'journey'), ('contradiction', 'verification'), ('training', 'untrained'), ('knitwear', 'underwear'), ('petite', 'stout'), ('funded', 'impoverished'), ('meaninglessness', 'symbolism'), ('power', 'weak'), ('stroll', 'tour'), ('prostate', 'uterine'), ('indispensable', 'trash'), ('abstinence', 'intercourse'), ('concentration', 'distribution'), ('medicinal', 'psychology'), ('modal', 'still'), ('compress', 'spring'), ('bump', 'groove'), ('omnivore', 'vegan'), ('lessen', 'snowball'), ('slow', 'whisk'), ('cut', 'power'), ('calm', 'fan'), ('drag', 'whisk'), ('listen', 'pontificate'), ('inferior', 'prime'), ('covered', 'uninsured'), ('forward', 'vague'), ('punch', 'stroke'), ('fall', 'raise'), ('layperson', 'pastor'), ('closure', 'split'), ('explicit', 'vague'), ('democratic', 'despotic'), ('leisure', 'rush'), ('mend', 'split'), ('cluster', 'zone'), ('lower', 'pyramid'), ('organized', 'unstructured'), ('land', 'sky'), ('nihilistic', 'positive'), ('mountainous', 'oceanic'), ('geologic', 'plastic'), ('hopeful', 'nihilistic'), ('dimensional', 'static'), ('church', 'saloon'), ('bill', 'coin'), ('affected', 'unaffected'), ('actual', 'symbolic'), ('singular', 'tribal'), ('morphological', 'spiritual'), ('meaningful', 'nihilistic'), ('praise', 'slam'), ('buy', 'free'), ('satisfactory', 'unsatisfactory'), ('arrive', 'leave'), ('hat', 'mantle'), ('dissonant', 'symphonic'), ('parting', 'rendezvous'), ('sexless', 'sexuality'), ('ink', 'paper'), ('continue', 'redirect'), ('blacken', 'picture'), ('moon', 'planet'), ('dispersion', 'distribution'), ('manual', 'visual'), ('division', 'intercourse'), ('rainstorm', 'sandstorm'), ('deprivation', 'sensory'), ('depleted', 'funded'), ('irregular', 'normative'), ('associative', 'friendly'), ('differentiate', 'replicate'), ('cube', 'pyramid'), ('flatter', 'slam'), ('lavish', 'thrifty'), ('chatter', 'psychology'), ('unconfirmed', 'verified'), ('massive', 'weightless'), ('depressing', 'excitable'), ('chaos', 'compass'), ('tour', 'wander'), ('perfume', 'skunk'), ('question', 'symbolism'), ('rumour', 'truth'), ('audience', 'presentment'), ('recreation', 'work'), ('helm', 'powerlessness'), ('slim', 'stout'), ('harsh', 'symphonic'), ('detract', 'sum'), ('useless', 'vital'), ('join', 'separation'), ('legal', 'unlawful'), ('temporary', 'terminal'), ('forgettable', 'iconic'), ('dismiss', 'ink'), ('distort', 'picture'), ('unnecessary', 'vital'), ('education', 'ignorance'), ('split', 'union'), ('medicine', 'poison'), ('desertion', 'stockade'), ('weighted', 'weightless'), ('certain', 'uninsured'), ('pastor', 'satanist'), ('distribution', 'single'), ('aridity', 'saturation'), ('tomato', 'township'), ('exact', 'vague'), ('abstract', 'photographic'), ('impartial', 'partial'), ('forever', 'wink'), ('spontaneous', 'taxonomic'), ('whisper', 'yell'), ('prohibition', 'saloon'), ('blandness', 'sensory'), ('flute', 'trombone'), ('mundane', 'mystical'), ('realism', 'symbolism'), ('destroy', 'fancy'), ('township', 'unincorporated'), ('refined', 'unrefined'), ('align', 'contrast'), ('parody', 'truth'), ('deep', 'short'), ('apparent', 'symbolic'), ('stationary', 'velocity'), ('bartering', 'fiscal'), ('halve', 'replicate'), ('clean', 'gross'), ('drama', 'parody'), ('literal', 'poetic'), ('herbivore', 'omnivore'), ('spirituality', 'taxonomic'), ('foot', 'head'), ('aid', 'skunk'), ('close', 'punch'), ('empty', 'matter'), ('average', 'iconic'), ('resonate', 'single'), ('nose', 'speed'), ('noticed', 'unnoticed'), ('faithful', 'skunk'), ('defend', 'implicate'), ('performing', 'training'), ('deaf', 'sensitive'), ('rigid', 'stretcher'), ('biblical', 'scientific'), ('clash', 'groove'), ('climatic', 'trivial'), ('musician', 'mute'), ('acceptable', 'unsatisfactory'), ('bowl', 'plate'), ('kiss', 'punch'), ('mastery', 'naivety'), ('futuristic', 'historic'), ('foreground', 'skyline'), ('none', 'skyline'), ('expensive', 'thrifty'), ('rural', 'township'), ('preferred', 'unfavorable'), ('pointless', 'symbolism'), ('profound', 'superficial'), ('snowball', 'water'), ('depress', 'pyramid'), ('structured', 'unstructured'), ('corroborate', 'invalidate'), ('single', 'tribal'), ('bore', 'intoxicate'), ('animals', 'nationality'), ('skyline', 'submarine'), ('fiery', 'oceanic'), ('expose', 'shield'), ('unemployment', 'workforce'), ('peaceful', 'sandstorm'), ('favorable', 'unfavorable'), ('pure', 'unrefined'), ('pat', 'rub'), ('clearness', 'sandstorm'), ('progressive', 'stable'), ('arbitrary', 'intentional'), ('poetic', 'rambling'), ('aggressor', 'caretaker'), ('achieve', 'fail'), ('inertia', 'velocity'), ('sand', 'stone'), ('ion', 'neutron'), ('taxonomic', 'unclassified'), ('pouch', 'uterine'), ('flawed', 'stone'), ('piano', 'trombone'), ('loaf', 'toil'), ('lumbar', 'pulmonary'), ('debonair', 'unrefined'), ('blindfold', 'compass'), ('parse', 'sum'), ('hold', 'spring'), ('builder', 'wrecker'), ('enliven', 'immobilize'), ('aggravation', 'alleviation'), ('astronomic', 'geologic'), ('follow', 'helm'), ('openness', 'stockade'), ('chin', 'foot'), ('salon', 'saloon'), ('extend', 'lop'), ('detoxify', 'intoxicate'), ('rendezvous', 'separate'), ('flashback', 'innovator'), ('diagnose', 'forget'), ('air', 'matter'), ('constant', 'orbital'), ('representative', 'unassociated'), ('curable', 'terminal'), ('alley', 'maze'), ('connect', 'divorce'), ('clown', 'educator'), ('stillness', 'stretcher'), ('famous', 'unknown'), ('ant', 'elephant'), ('fade', 'twinkle'), ('pyramid', 'weary'), ('disarray', 'preparedness'), ('avoidance', 'intercourse'), ('dispersal', 'rendezvous'), ('mental', 'pulmonary'), ('drain', 'power'), ('nonsense', 'rationale'), ('bureaucrat', 'musician'), ('darken', 'twinkle'), ('hearth', 'mantle'), ('commoner', 'emperor'), ('quarterly', 'yearly'), ('maintain', 'redirect'), ('abandon', 'hedge'), ('downfall', 'prime'), ('celibacy', 'intercourse'), ('loathe', 'pine'), ('depart', 'rendezvous'), ('mess', 'organise'), ('peach', 'tomato'), ('linear', 'orbital'), ('business', 'recreation'), ('critic', 'musician'), ('homage', 'parody'), ('ignorant', 'knowledgeable'), ('add', 'trim'), ('field', 'forest'), ('proportionate', 'unbalanced'), ('cynicism', 'naivety'), ('discordant', 'symphonic'), ('fluid', 'stone'), ('fictional', 'historic'), ('oceanic', 'shallow'), ('construct', 'deteriorate'), ('comply', 'helm'), ('dryness', 'saturation'), ('accept', 'critique'), ('increase', 'pine'), ('australian', 'kiwi'), ('human', 'zebra'), ('glance', 'tour'), ('acquittal', 'presentment'), ('symbolic', 'useless'), ('minor', 'prime'), ('delete', 'document'), ('blunt', 'hone'), ('monotone', 'poetic'), ('unimportant', 'vital'), ('frog', 'tsetse'), ('artichoke', 'kiwi'), ('alone', 'representative'), ('explained', 'pathological'), ('customize', 'replicate'), ('recognized', 'unnoticed'), ('fireball', 'snowball'), ('protect', 'punch'), ('destructive', 'instructive'), ('creator', 'wrecker'), ('abstraction', 'symbolism'), ('heed', 'wink'), ('layman', 'pastor'), ('phagocyte', 'virus'), ('clutter', 'organise'), ('bankrupt', 'funded'), ('fabric', 'knitwear'), ('be', 'picture'), ('gripper', 'slider'), ('inactivate', 'power'), ('economics', 'psychology'), ('criminal', 'pastor'), ('recoverable', 'unrecoverable'), ('flatten', 'pyramid'), ('seen', 'unnoticed'), ('cultured', 'unrefined'), ('antineutron', 'neutron'), ('iron', 'weaken'), ('cleansed', 'unclean'), ('confirmation', 'contradiction'), ('get', 'snowball'), ('ceo', 'workforce'), ('facilitate', 'redirect'), ('blend', 'contrast'), ('hesitation', 'rationale'), ('psychology', 'reality'), ('paucity', 'saturation'), ('dislike', 'pine'), ('lone', 'tribal'), ('even', 'uneven'), ('blurry', 'photographic'), ('left', 'right'), ('provident', 'wasteful'), ('subtract', 'tabulate'), ('adhere', 'lop'), ('space', 'zone'), ('backward', 'progressive'), ('relax', 'work'), ('unrelated', 'uterine'), ('cynical', 'unaffected'), ('lost', 'recoverable'), ('blot', 'ink'), ('symmetrical', 'uneven'), ('accountable', 'despotic'), ('freestyle', 'structure'), ('sit', 'spring'), ('atypical', 'representative'), ('ethereal', 'geologic'), ('excuse', 'rationale'), ('friendship', 'rivalry'), ('irrelevant', 'matter'), ('citizen', 'emperor'), ('heavy', 'lightweight'), ('configure', 'disjoint'), ('allow', 'edit'), ('restaurant', 'saloon'), ('stay', 'tour'), ('athlete', 'musician'), ('shirk', 'toil'), ('earthy', 'oceanic'), ('management', 'workforce'), ('arm', 'disarm'), ('breathless', 'pulmonary'), ('range', 'stockade'), ('stare', 'wink'), ('intentional', 'unintentional'), ('hone', 'lose'), ('puddle', 'snowball'), ('peasant', 'shah'), ('build', 'deteriorate'), ('freedom', 'stockade'), ('hate', 'like'), ('fold', 'whisk'), ('make', 'nature'), ('ladybug', 'zebra'), ('arrogant', 'humble'), ('bonus', 'fee'), ('solo', 'symphonic'), ('skinny', 'stout'), ('consolidation', 'distribution'), ('read', 'watch'), ('fire', 'ink'), ('learned', 'naivety'), ('okay', 'unsatisfactory'), ('defile', 'uplift'), ('regal', 'unrefined'), ('unemployed', 'workforce'), ('widen', 'wink'), ('broken', 'funded'), ('apple', 'orange'), ('opportunity', 'shield'), ('silence', 'talk'), ('insert', 'strum'), ('deceased', 'mortal'), ('thrifty', 'wasteful'), ('full', 'hunger'), ('bang', 'strum'), ('box', 'circle'), ('overlook', 'resonate'), ('bag', 'flask'), ('enlarge', 'trim'), ('flyer', 'slider'), ('incidental', 'indispensable'), ('straighten', 'zigzag'), ('destroyed', 'recoverable'), ('dispensable', 'indispensable'), ('probable', 'unlikely'), ('sandstorm', 'sunshine'), ('agnostic', 'pastor'), ('stagnation', 'velocity'), ('obviousness', 'symbolism'), ('boil', 'ice'), ('big', 'young'), ('recognize', 'unknown'), ('crowd', 'space'), ('sing', 'talk'), ('retire', 'work'), ('assemble', 'break'), ('attach', 'separate'), ('gentleman', 'player'), ('care', 'hate'), ('compact', 'spread'), ('sound', 'vision'), ('misunderstand', 'understand'), ('capital', 'small'), ('meet', 'pass'), ('modern', 'past'), ('appear', 'leave'), ('east', 'west'), ('blue', 'cloud'), ('melt', 'solid'), ('paper', 'rock'), ('press', 'pull'), ('fly', 'land'), ('breakfast', 'dinner'), ('black', 'light'), ('boy', 'female'), ('lip', 'nose'), ('road', 'street'), ('age', 'young'), ('decorate', 'plain'), ('mountain', 'plain'), ('happy', 'mean'), ('run', 'stop'), ('help', 'hurt'), ('house', 'tent'), ('have', 'miss'), ('life', 'mortal'), ('stiff', 'stretch'), ('brave', 'hide'), ('practice', 'test'), ('fear', 'safe'), ('aluminium', 'tin'), ('back', 'main'), ('hard', 'lazy'), ('negative', 'profit'), ('bright', 'smart'), ('column', 'row'), ('fail', 'success'), ('dirt', 'soap'), ('stone', 'water'), ('different', 'same'), ('homosexual', 'straight'), ('answer', 'pass'), ('ghost', 'real'), ('horizontal', 'vertical'), ('center', 'side'), ('pattern', 'plain'), ('race', 'slow'), ('use', 'waste'), ('loose', 'win'), ('fragile', 'strong'), ('animal', 'bug'), ('muscle', 'weak'), ('marriage', 'separation'), ('pressure', 'support'), ('busy', 'relax'), ('far', 'short'), ('pass', 'stop'), ('little', 'tall'), ('enter', 'exit'), ('bad', 'great'), ('cry', 'talk'), ('right', 'wrong'), ('keep', 'separation'), ('drink', 'solid'), ('low', 'tall'), ('communism', 'freedom'), ('stop', 'walk'), ('smart', 'thick'), ('recycle', 'waste'), ('healthy', 'poison'), ('save', 'waste'), ('male', 'woman'), ('home', 'work'), ('blow', 'create'), ('chill', 'heat'), ('heart', 'mind'), ('bottle', 'can'), ('hot', 'shade'), ('coin', 'note'), ('music', 'quiet'), ('gun', 'knife'), ('depression', 'happy'), ('dark', 'flash'), ('pay', 'steal'), ('nobody', 'person'), ('enemy', 'friendship'), ('float', 'sink'), ('copy', 'learn'), ('evil', 'nice'), ('enjoyment', 'pain'), ('down', 'raise'), ('move', 'stable'), ('edge', 'middle'), ('high', 'short'), ('collar', 'hem'), ('push', 'raise'), ('pepper', 'salt'), ('alphabet', 'count'), ('eye', 'hear'), ('adult', 'small'), ('defeat', 'success'), ('carpet', 'floor'), ('dress', 'strip'), ('good', 'poison'), ('door', 'hole'), ('silent', 'talk'), ('learn', 'stupid'), ('they', 'you'), ('floor', 'sky'), ('bounce', 'roll'), ('hide', 'view'), ('gentle', 'wild'), ('fat', 'health'), ('happen', 'peace'), ('earth', 'sea'), ('hour', 'second'), ('act', 'real'), ('real', 'test'), ('plan', 'surprise'), ('awake', 'rest'), ('lace', 'silk'), ('laugh', 'tear'), ('happiness', 'sadness'), ('past', 'present'), ('divine', 'nasty'), ('liquid', 'matter'), ('offspring', 'parent'), ('familiar', 'new'), ('gent', 'lady'), ('contract', 'grow'), ('burn', 'ice'), ('bone', 'flesh'), ('peace', 'violent'), ('garden', 'home'), ('history', 'news'), ('adventure', 'safe'), ('customer', 'worker'), ('cheap', 'value'), ('branch', 'join'), ('energy', 'lazy'), ('mistake', 'right'), ('slice', 'whole'), ('catch', 'free'), ('begin', 'middle'), ('credit', 'tax'), ('ceiling', 'wall'), ('courage', 'fear'), ('religion', 'science'), ('stale', 'sweet'), ('bold', 'shy'), ('action', 'rest'), ('north', 'west'), ('descend', 'rise'), ('fun', 'work'), ('donkey', 'horse'), ('log', 'stick'), ('strength', 'weak'), ('freeze', 'heat'), ('pleasure', 'unhappiness'), ('light', 'night'), ('irritate', 'mild'), ('metal', 'paper'), ('department', 'whole'), ('color', 'dull'), ('long', 'second'), ('ocean', 'sky'), ('bring', 'empty'), ('bolt', 'slow'), ('sick', 'well'), ('baby', 'old'), ('comfort', 'hard'), ('contain', 'out'), ('antique', 'new'), ('coward', 'noble'), ('night', 'sun'), ('drive', 'park'), ('bitch', 'dog'), ('dance', 'stand'), ('perfect', 'rubbish'), ('salt', 'sugar'), ('rush', 'slow'), ('leave', 'reach'), ('hill', 'plain'), ('farm', 'town'), ('juice', 'milk'), ('heterosexual', 'homosexual'), ('comfortable', 'fear'), ('balance', 'slip'), ('machine', 'person'), ('escape', 'prison'), ('cool', 'geek'), ('charge', 'payment'), ('beautiful', 'plain'), ('roll', 'stop'), ('harvest', 'plant'), ('lie', 'truth'), ('squash', 'stretch'), ('cup', 'plate'), ('bitter', 'sugar'), ('private', 'see'), ('fur', 'scale'), ('off', 'work'), ('refuse', 'take'), ('fast', 'slow'), ('reduce', 'rise'), ('look', 'touch'), ('late', 'present'), ('shade', 'sun'), ('excite', 'relax'), ('continent', 'sea'), ('rock', 'water'), ('glass', 'metal'), ('plant', 'rock'), ('corn', 'hay'), ('bed', 'seat'), ('innocent', 'trouble'), ('hall', 'room'), ('plain', 'unique'), ('chapter', 'page'), ('compound', 'simple'), ('lake', 'sea'), ('ascend', 'fall'), ('crime', 'justice'), ('active', 'tire'), ('benefit', 'punishment'), ('spot', 'stripe'), ('birthday', 'death'), ('nice', 'rank'), ('know', 'unknown'), ('cold', 'familiar'), ('everything', 'part'), ('song', 'talk'), ('butch', 'gentle'), ('play', 'rest'), ('honesty', 'lie'), ('hollow', 'solid'), ('body', 'leg'), ('middle', 'side'), ('grass', 'water'), ('bumpy', 'level'), ('anger', 'happy'), ('rapid', 'slow'), ('taste', 'vision'), ('professor', 'student'), ('injure', 'praise'), ('sky', 'water'), ('letter', 'number'), ('meat', 'plant'), ('cover', 'discover'), ('joy', 'pain'), ('nothing', 'sound'), ('lift', 'press'), ('aisle', 'seat'), ('hear', 'see'), ('can', 'jar'), ('character', 'dull'), ('industry', 'nature'), ('milk', 'water'), ('blade', 'handle'), ('accident', 'purpose'), ('base', 'head'), ('design', 'destroy'), ('student', 'teacher'), ('mobile', 'stationary'), ('hobby', 'work'), ('committee', 'individual'), ('joint', 'separate'), ('discover', 'loose'), ('closet', 'out'), ('fool', 'smart'), ('exercise', 'rest'), ('blood', 'bone'), ('boss', 'worker'), ('bush', 'tree'), ('lot', 'small'), ('snow', 'sun'), ('damage', 'protect'), ('water', 'wood'), ('advance', 'late'), ('bath', 'shower'), ('ear', 'mouth'), ('game', 'work'), ('sour', 'sugar'), ('number', 'word'), ('sharp', 'thick'), ('die', 'exist'), ('future', 'history'), ('captain', 'follower'), ('erect', 'soft'), ('touch', 'vision'), ('slip', 'stand'), ('extinguish', 'light'), ('growth', 'reduce'), ('fork', 'knife'), ('everyone', 'nobody'), ('jog', 'walk'), ('all', 'piece'), ('wall', 'window'), ('same', 'unique'), ('affection', 'dislike'), ('call', 'text'), ('paint', 'paper'), ('heat', 'shade'), ('gay', 'straight'), ('bedroom', 'kitchen'), ('seat', 'stand'), ('ordinary', 'weird'), ('belief', 'fact'), ('strong', 'vulnerable'), ('useful', 'waste'), ('female', 'son'), ('divorce', 'engage'), ('foolish', 'smart'), ('company', 'loneliness'), ('ice', 'steam'), ('leg', 'toe'), ('mineral', 'vegetable'), ('dwell', 'move'), ('concentrate', 'distribute'), ('lady', 'male'), ('brake', 'pedal'), ('might', 'weak'), ('girl', 'he'), ('alive', 'disease'), ('disease', 'well'), ('funeral', 'party'), ('ferment', 'sweet'), ('mystery', 'open'), ('it', 'we'), ('pale', 'tan'), ('show', 'watch'), ('man', 'wife'), ('rise', 'sunset'), ('mild', 'violent'), ('head', 'rear'), ('common', 'royal'), ('marine', 'navy'), ('new', 'use'), ('miss', 'see'), ('day', 'night'), ('disgust', 'nice'), ('city', 'nature'), ('gold', 'rubbish'), ('steal', 'trade'), ('rough', 'silk'), ('lazy', 'work'), ('important', 'useless'), ('soap', 'water'), ('finger', 'foot'), ('due', 'pay'), ('pain', 'relief'), ('seed', 'tree'), ('mean', 'nice'), ('bullet', 'safe'), ('food', 'poison'), ('large', 'little'), ('conflict', 'peace'), ('art', 'ugly'), ('relaxation', 'work'), ('charm', 'dull'), ('gas', 'solid'), ('copper', 'iron'), ('test', 'work'), ('heel', 'toe'), ('cd', 'record'), ('complex', 'plain'), ('party', 'study'), ('stitch', 'tear'), ('animate', 'live'), ('bow', 'pluck'), ('positive', 'uncertain'), ('outside', 'room'), ('potato', 'rice'), ('quality', 'rubbish'), ('morning', 'night'), ('minute', 'second'), ('one', 'zero'), ('poison', 'safe'), ('leak', 'seal'), ('safe', 'trouble'), ('he', 'woman'), ('detail', 'general'), ('performance', 'practice'), ('club', 'heart'), ('expand', 'reduce'), ('come', 'leave'), ('false', 'science'), ('chain', 'free'), ('oil', 'water'), ('steel', 'weak'), ('climb', 'fall'), ('crop', 'expand'), ('sheep', 'wolf'), ('benevolent', 'evil'), ('naughty', 'nice'), ('group', 'person'), ('straight', 'turn'), ('kind', 'mean'), ('control', 'free'), ('exist', 'nothing'), ('dash', 'dot'), ('enjoy', 'hate'), ('record', 'tape'), ('intelligent', 'stupid'), ('bleach', 'stain'), ('huge', 'small'), ('draw', 'trace'), ('pull', 'reach'), ('standard', 'strange'), ('want', 'waste'), ('gate', 'wall'), ('army', 'marine'), ('powerful', 'vulnerable'), ('intense', 'mild'), ('lyric', 'tune'), ('law', 'theory'), ('school', 'work'), ('screen', 'stage'), ('old', 'young'), ('solid', 'soup'), ('magic', 'science'), ('line', 'point'), ('crook', 'level'), ('delight', 'unhappy'), ('bull', 'chicken'), ('office', 'outside'), ('rule', 'subject'), ('idea', 'material'), ('dream', 'real'), ('money', 'payment'), ('loud', 'soft'), ('family', 'friend'), ('interior', 'outside'), ('separation', 'union'), ('cloudy', 'sunshine'), ('cement', 'mortar'), ('choose', 'refuse'), ('change', 'stable'), ('electron', 'neutron'), ('curve', 'square'), ('bark', 'bite'), ('punishment', 'reward'), ('movie', 'play'), ('arithmetic', 'read'), ('crater', 'hill'), ('stand', 'walk'), ('lightning', 'thunder'), ('energetic', 'lazy'), ('class', 'recess'), ('plate', 'table'), ('flow', 'stick'), ('bat', 'field'), ('talk', 'write'), ('simple', 'smart'), ('root', 'trunk'), ('pupil', 'teacher'), ('thick', 'thin'), ('darkness', 'sunshine'), ('labor', 'machine'), ('sign', 'talk'), ('story', 'truth'), ('reward', 'stick'), ('book', 'film'), ('parent', 'son'), ('bread', 'meat'), ('short', 'tall'), ('beef', 'chicken'), ('elevator', 'stair'), ('cell', 'freedom'), ('satisfaction', 'unhappy'), ('hurt', 'protect'), ('cavity', 'fill'), ('vacation', 'work'), ('circle', 'line'), ('grind', 'play'), ('hatred', 'love'), ('exchange', 'keep'), ('beach', 'sea'), ('stretch', 'tight'), ('noise', 'silent'), ('store', 'trade'), ('bloom', 'die'), ('gum', 'tooth'), ('beauty', 'ugly'), ('garbage', 'valuable'), ('movement', 'quiet'), ('valuable', 'waste'), ('pan', 'pot'), ('enlightenment', 'ignorance'), ('confirm', 'question'), ('cat', 'mouse'), ('generous', 'mean'), ('both', 'one'), ('fine', 'pain'), ('great', 'less'), ('hardware', 'software'), ('beer', 'wine'), ('attic', 'basement'), ('forest', 'plain'), ('coffee', 'tea'), ('confidence', 'fear'), ('everybody', 'nobody'), ('object', 'person'), ('confusion', 'peace'), ('alcohol', 'water'), ('health', 'sick'), ('duck', 'stand'), ('shoe', 'sock'), ('handle', 'spout'), ('shadow', 'sun'), ('kitten', 'puppy'), ('sidewalk', 'street'), ('ride', 'walk'), ('decide', 'think'), ('father', 'offspring'), ('affair', 'spouse'), ('problem', 'solution'), ('fortune', 'trouble'), ('sickness', 'well'), ('dog', 'kitten'), ('me', 'you'), ('men', 'woman'), ('lemon', 'orange'), ('hail', 'rain'), ('nasty', 'respect'), ('sight', 'taste'), ('trip', 'vacation'), ('pretend', 'real'), ('river', 'sea'), ('see', 'touch'), ('mature', 'young'), ('speak', 'write'), ('needle', 'thread'), ('bear', 'lion'), ('admire', 'dislike'), ('bind', 'loose'), ('boyfriend', 'girl'), ('spit', 'swallow'), ('friend', 'strange'), ('drown', 'swim'), ('hit', 'miss'), ('factory', 'farm'), ('cigarette', 'pipe'), ('bike', 'car'), ('flight', 'walk'), ('hostility', 'peace'), ('imagination', 'real'), ('fraud', 'true'), ('fix', 'mobile'), ('sleep', 'wake'), ('green', 'red'), ('tell', 'watch'), ('love', 'war'), ('angel', 'evil'), ('radio', 'tv'), ('bathroom', 'bedroom'), ('sister', 'son'), ('friendly', 'mean'), ('we', 'you'), ('sea', 'sky'), ('hop', 'jump'), ('armor', 'clothe'), ('cheese', 'milk'), ('defense', 'prosecution'), ('general', 'unique'), ('kindness', 'mean'), ('original', 'reproduction'), ('death', 'liberty'), ('error', 'perfect'), ('royal', 'subject'), ('brass', 'silver'), ('child', 'old'), ('cotton', 'wool'), ('doctor', 'patient'), ('god', 'mortal'), ('china', 'japan'), ('fasten', 'loose'), ('material', 'spirit')]\n"
     ]
    }
   ],
   "source": [
    "similarity_matrix = defaultdict(list)\n",
    "print(similarity_matrix)\n",
    "for each_pair in tqdm(list_antonym):\n",
    "    word1 = each_pair[0]\n",
    "    word2 = each_pair[1]\n",
    "    #print(each_pair)\n",
    "    #print(word1 < word2)\n",
    "    \n",
    "    if word1 < word2: ## welches wort länger ist\n",
    "        similarity_matrix[word1].append(word2)                  #defaultdict(<class 'list'>, {'exclude': ['inscribe']})\n",
    "        #print(similarity_matrix)\n",
    "    else:\n",
    "        similarity_matrix[word2].append(word1)\n",
    "    \n",
    "all_similarity = defaultdict(dict)\n",
    "for each_key in tqdm(similarity_matrix):\n",
    "    for each_value in similarity_matrix[each_key]:\n",
    "#         cosine_similarity([current_model[each_key]]\n",
    "        all_similarity[each_key][each_value] = abs(cosine_similarity([current_model.wv[each_key]],[current_model.wv[each_value]])[0][0])\n",
    "        #print(current_model[each_key])\n",
    "        #print(current_model[each_value])\n",
    "        #print(all_similarity[each_key][each_value])\n",
    "       \n",
    "final_antonym_list = []\n",
    "for index_counter, each_key in enumerate(tqdm(all_similarity)):\n",
    "#     print(each_key,all_similarity[each_key])\n",
    "    listofTuples = sorted(all_similarity[each_key].items() ,  key=lambda x: x[1])\n",
    "    #print(listofTuples)\n",
    "    final_antonym_list.append((each_key, listofTuples[0][0]))\n",
    " \n",
    "print(final_antonym_list)\n",
    "\n",
    "list_antonym = final_antonym_list"
   ]
  },
  {
   "cell_type": "code",
   "execution_count": 18,
   "metadata": {},
   "outputs": [
    {
     "name": "stdout",
     "output_type": "stream",
     "text": [
      "1409\n"
     ]
    }
   ],
   "source": [
    "print(len(list_antonym))"
   ]
  },
  {
   "cell_type": "code",
   "execution_count": 19,
   "metadata": {},
   "outputs": [],
   "source": [
    "num_antonym = 50#1468"
   ]
  },
  {
   "cell_type": "code",
   "execution_count": 20,
   "metadata": {},
   "outputs": [
    {
     "name": "stdout",
     "output_type": "stream",
     "text": [
      "(1409, 300)\n"
     ]
    }
   ],
   "source": [
    "## Find the antonym difference vectors\n",
    "antonymy_vector = []\n",
    "for each_word_pair in list_antonym:\n",
    "    antonymy_vector.append(current_model.wv[each_word_pair[0]]- current_model.wv[each_word_pair[1]])\n",
    "antonymy_vector = np.array(antonymy_vector)\n",
    "print(antonymy_vector.shape)"
   ]
  },
  {
   "cell_type": "code",
   "execution_count": 21,
   "metadata": {},
   "outputs": [
    {
     "name": "stdout",
     "output_type": "stream",
     "text": [
      "('beginning', 'terminal')\n"
     ]
    }
   ],
   "source": [
    "print(list_antonym[2])"
   ]
  },
  {
   "cell_type": "markdown",
   "metadata": {},
   "source": [
    "## Subset Dimension Selection Method"
   ]
  },
  {
   "cell_type": "code",
   "execution_count": 23,
   "metadata": {},
   "outputs": [
    {
     "data": {
      "application/vnd.jupyter.widget-view+json": {
       "model_id": "2c812f42531343478800e8bbb45ef6b7",
       "version_major": 2,
       "version_minor": 0
      },
      "text/plain": [
       "HBox(children=(IntProgress(value=0, max=1409), HTML(value='')))"
      ]
     },
     "metadata": {},
     "output_type": "display_data"
    },
    {
     "name": "stdout",
     "output_type": "stream",
     "text": [
      "\n"
     ]
    }
   ],
   "source": [
    "import random\n",
    "\n",
    "from scipy.spatial.distance import cosine as scipy_cosine\n",
    "random.seed(42)\n",
    "\n",
    "t1 = np.array(antonymy_vector)\n",
    "dimension_similarity_matrix = defaultdict(dict)\n",
    "for index_1, each_dim1 in enumerate(tqdm(t1)):\n",
    "    for index_2, each_dim2 in enumerate(t1):\n",
    "        dimension_similarity_matrix[index_1][index_2] = abs(1-scipy_cosine(each_dim1, each_dim2))\n",
    "        \n",
    "        \n",
    "def get_set_score(final_list, each_dim):\n",
    "    final_output = 0.0\n",
    "    for each_vec in final_list:\n",
    "        final_output += dimension_similarity_matrix[each_vec][each_dim]\n",
    "    return final_output/(len(final_list))\n",
    "        \n",
    "def select_subset_dimension(dim_vector, num_dim):\n",
    "    working_list = np.array(dim_vector)\n",
    "    \n",
    "    working_position_index = [i for i in range(working_list.shape[0])]\n",
    "    final_position_index = []\n",
    "    \n",
    "\n",
    "    print('working list is ready, shape', working_list.shape)\n",
    "    sel_dim = random.randrange(0, working_list.shape[0])\n",
    "\n",
    "    final_position_index.append(sel_dim)\n",
    "    \n",
    "    working_position_index.remove(sel_dim)\n",
    "\n",
    "    \n",
    "    for test_count in tqdm(range(num_dim-1)):\n",
    "        min_dim = None\n",
    "        min_score = 1000\n",
    "        for temp_index, each_dim in enumerate(working_position_index):\n",
    "#             print(each_dim)\n",
    "            temp_score = get_set_score(final_position_index, each_dim)\n",
    "            if temp_score< min_score:\n",
    "                min_score= temp_score\n",
    "                min_dim = each_dim\n",
    "        print(test_count,min_dim)\n",
    "        final_position_index.append(min_dim)\n",
    "        working_position_index.remove(min_dim)\n",
    "#         print(working_list.shape, len(final_list))\n",
    "    return final_position_index"
   ]
  },
  {
   "cell_type": "markdown",
   "metadata": {},
   "source": [
    "## Generate the ORTHOGONAL DIMENSION Order"
   ]
  },
  {
   "cell_type": "markdown",
   "metadata": {},
   "source": [
    "## Generate the ORTHOGONAL DIMENSION Order"
   ]
  },
  {
   "cell_type": "code",
   "execution_count": 24,
   "metadata": {},
   "outputs": [
    {
     "name": "stdout",
     "output_type": "stream",
     "text": [
      "working list is ready, shape (1409, 300)\n"
     ]
    },
    {
     "data": {
      "application/vnd.jupyter.widget-view+json": {
       "model_id": "70219ebdd5b54f9abfa822fb3896dca7",
       "version_major": 2,
       "version_minor": 0
      },
      "text/plain": [
       "HBox(children=(IntProgress(value=0, max=49), HTML(value='')))"
      ]
     },
     "metadata": {},
     "output_type": "display_data"
    },
    {
     "name": "stdout",
     "output_type": "stream",
     "text": [
      "0 513\n",
      "1 852\n",
      "2 729\n",
      "3 994\n",
      "4 292\n",
      "5 1153\n",
      "6 1323\n",
      "7 1217\n",
      "8 1147\n",
      "9 218\n",
      "10 1129\n",
      "11 1289\n",
      "12 484\n",
      "13 1347\n",
      "14 1150\n",
      "15 1231\n",
      "16 1161\n",
      "17 1293\n",
      "18 975\n",
      "19 592\n",
      "20 1252\n",
      "21 1037\n",
      "22 228\n",
      "23 932\n",
      "24 1168\n",
      "25 615\n",
      "26 734\n",
      "27 1028\n",
      "28 946\n",
      "29 1406\n",
      "30 1166\n",
      "31 786\n",
      "32 571\n",
      "33 1209\n",
      "34 1256\n",
      "35 1393\n",
      "36 492\n",
      "37 397\n",
      "38 1226\n",
      "39 171\n",
      "40 150\n",
      "41 1342\n",
      "42 731\n",
      "43 1269\n",
      "44 874\n",
      "45 291\n",
      "46 595\n",
      "47 403\n",
      "48 1040\n",
      "\n",
      "(50,)\n",
      "[1309  513  852  729  994  292 1153 1323 1217 1147  218 1129 1289  484\n",
      " 1347 1150 1231 1161 1293  975  592 1252 1037  228  932 1168  615  734\n",
      " 1028  946 1406 1166  786  571 1209 1256 1393  492  397 1226  171  150\n",
      " 1342  731 1269  874  291  595  403 1040]\n"
     ]
    }
   ],
   "source": [
    "num_antonym = 50\n",
    "orthogonal_antonymy_vector =np.array(select_subset_dimension(antonymy_vector, num_antonym))  \n",
    "print(orthogonal_antonymy_vector.shape)\n",
    "print(orthogonal_antonymy_vector)"
   ]
  },
  {
   "cell_type": "markdown",
   "metadata": {},
   "source": [
    "## Generate the RANDOM DIMENSION Order"
   ]
  },
  {
   "cell_type": "markdown",
   "metadata": {},
   "source": [
    "## Generate the RANDOM DIMENSION Order"
   ]
  },
  {
   "cell_type": "code",
   "execution_count": 25,
   "metadata": {},
   "outputs": [
    {
     "name": "stdout",
     "output_type": "stream",
     "text": [
      "1409\n"
     ]
    }
   ],
   "source": [
    "random_antonym_vector = [i for i in range(len(antonymy_vector))]\n",
    "random.shuffle(random_antonym_vector)\n",
    "print(len(random_antonym_vector))"
   ]
  },
  {
   "cell_type": "markdown",
   "metadata": {},
   "source": [
    "## Generate the MAXIMUM VARIANCE DIMENSION Order"
   ]
  },
  {
   "cell_type": "markdown",
   "metadata": {},
   "source": [
    "## Generate the MAXIMUM VARIANCE DIMENSION Order"
   ]
  },
  {
   "cell_type": "code",
   "execution_count": 26,
   "metadata": {},
   "outputs": [
    {
     "name": "stdout",
     "output_type": "stream",
     "text": [
      "The embedding size is 1409\n"
     ]
    },
    {
     "data": {
      "application/vnd.jupyter.widget-view+json": {
       "model_id": "ab2728f40d9b49678a2145e11676dbb4",
       "version_major": 2,
       "version_minor": 0
      },
      "text/plain": [
       "HBox(children=(IntProgress(value=0, max=147612), HTML(value='')))"
      ]
     },
     "metadata": {},
     "output_type": "display_data"
    },
    {
     "name": "stderr",
     "output_type": "stream",
     "text": [
      "C:\\Users\\Jan\\Anaconda3\\lib\\site-packages\\ipykernel_launcher.py:14: DeprecationWarning: Call to deprecated `__getitem__` (Method will be removed in 4.0.0, use self.wv.__getitem__() instead).\n",
      "  \n"
     ]
    },
    {
     "name": "stdout",
     "output_type": "stream",
     "text": [
      "\n",
      "147612\n"
     ]
    }
   ],
   "source": [
    "embedding_size = antonymy_vector.shape[0]   \n",
    "print('The embedding size is', embedding_size)\n",
    "\n",
    "\n",
    "variance_antonymy_vector_inverse = np.linalg.pinv(np.transpose(antonymy_vector))\n",
    "\n",
    "embedding_matrix = []\n",
    "\n",
    "\n",
    "total_words = 0\n",
    "for each_word in tqdm(current_model.wv.vocab):\n",
    "    total_words += 1\n",
    "\n",
    "    new_vector = np.matmul(variance_antonymy_vector_inverse,current_model[each_word])\n",
    "    \n",
    "    embedding_matrix.append(new_vector)\n",
    "print(total_words)"
   ]
  },
  {
   "cell_type": "code",
   "execution_count": 27,
   "metadata": {},
   "outputs": [],
   "source": [
    "del new_vector"
   ]
  },
  {
   "cell_type": "code",
   "execution_count": 28,
   "metadata": {},
   "outputs": [
    {
     "data": {
      "application/vnd.jupyter.widget-view+json": {
       "model_id": "375d74cd37b44d54b45b6282945a2e19",
       "version_major": 2,
       "version_minor": 0
      },
      "text/plain": [
       "HBox(children=(IntProgress(value=0, max=1409), HTML(value='')))"
      ]
     },
     "metadata": {},
     "output_type": "display_data"
    },
    {
     "name": "stdout",
     "output_type": "stream",
     "text": [
      "\n"
     ]
    }
   ],
   "source": [
    "variance_list = []\n",
    "\n",
    "embedding_matrix = np.array(embedding_matrix)\n",
    "\n",
    "for each_dimension in tqdm(range(embedding_matrix.shape[1])):\n",
    "    variance_list.append(np.var(embedding_matrix[:,each_dimension]))"
   ]
  },
  {
   "cell_type": "code",
   "execution_count": 29,
   "metadata": {},
   "outputs": [],
   "source": [
    "variance_antonymy_vector = [each for each in sorted(range(len(variance_list)), key=lambda i: variance_list[i], reverse=True)]"
   ]
  },
  {
   "cell_type": "code",
   "execution_count": 30,
   "metadata": {},
   "outputs": [],
   "source": [
    "del embedding_matrix"
   ]
  },
  {
   "cell_type": "code",
   "execution_count": 31,
   "metadata": {},
   "outputs": [],
   "source": [
    "del variance_list"
   ]
  },
  {
   "cell_type": "markdown",
   "metadata": {},
   "source": [
    "# Transformation to polar space"
   ]
  },
  {
   "cell_type": "markdown",
   "metadata": {},
   "source": [
    "# Transformation to polar space"
   ]
  },
  {
   "cell_type": "code",
   "execution_count": 32,
   "metadata": {},
   "outputs": [],
   "source": [
    "def transform_to_antonym_space(current_model, output_file_path, binary, current_antonymy_vector_inverse):\n",
    "    embedding_size = orthogonal_antonymy_vector.shape[0] #current_antonymy_vector_inverse.shape[0]   ##CHANGE THIS ACCORDINGLY!!!\n",
    "    print('New model size is',len(current_model.wv.vocab), embedding_size)\n",
    "\n",
    "    temp_file = None\n",
    "    \n",
    "    if binary:\n",
    "        temp_file = open(output_file_path,'wb')\n",
    "        temp_file.write(str.encode(str(len(current_model.wv.vocab))+' '+str(embedding_size)+'\\n'))\n",
    "    else:\n",
    "        temp_file = open(output_file_path,'w')\n",
    "        temp_file.write(str(len(current_model.wv.vocab))+' '+str(embedding_size)+'\\n')\n",
    "\n",
    "    total_words = 0\n",
    "    for each_word in tqdm(current_model.wv.vocab):\n",
    "        total_words += 1\n",
    "        if binary:\n",
    "            temp_file.write(str.encode(each_word+' '))\n",
    "        else:\n",
    "            temp_file.write(each_word+' ')\n",
    "\n",
    "        new_vector = np.matmul(current_antonymy_vector_inverse,current_model[each_word])\n",
    "\n",
    "        new_vector = new_vector/linalg.norm(new_vector)\n",
    "\n",
    "        \n",
    "        \n",
    "        if binary:\n",
    "            temp_file.write(new_vector)\n",
    "            temp_file.write(str.encode('\\n'))\n",
    "        else:\n",
    "            temp_file.write(str(new_vector))\n",
    "            temp_file.write('\\n')\n",
    "\n",
    "\n",
    "    temp_file.close()\n",
    "\n"
   ]
  },
  {
   "cell_type": "markdown",
   "metadata": {},
   "source": [
    "# Standard normal transform "
   ]
  },
  {
   "cell_type": "code",
   "execution_count": 33,
   "metadata": {},
   "outputs": [],
   "source": [
    "def standard_normal_dist_model(model, new_filename):\n",
    "    embedding_matrix = []\n",
    "    embedding_vocab = []\n",
    "\n",
    "    temp_file = open(new_filename,'wb')\n",
    "    temp_file.write(str.encode(str(model.vectors.shape[0])+' '+str(model.vectors.shape[1])+'\\n'))\n",
    "    \n",
    "    for each_word in tqdm(model.wv.vocab):\n",
    "        embedding_matrix.append(model[each_word])\n",
    "        embedding_vocab.append(each_word)\n",
    "    \n",
    "    embedding_matrix = np.array(embedding_matrix)\n",
    "    \n",
    "    print('The shape of embedding matrix is {}'.format(embedding_matrix.shape))\n",
    "    \n",
    "    norm_embedding_matrix = (embedding_matrix - embedding_matrix.mean(0))/ embedding_matrix.std(0)\n",
    "    \n",
    "    for word_counter, each_word in enumerate(tqdm(embedding_vocab)):\n",
    "#         assert each_word==embedding_vocab[word_counter],'Not matching!!!'\n",
    "        \n",
    "        temp_file.write(str.encode(each_word+' '))\n",
    "        new_vector = norm_embedding_matrix[word_counter]\n",
    "        temp_file.write(new_vector)\n",
    "        temp_file.write(str.encode('\\n'))\n",
    "        \n",
    "    del embedding_matrix\n",
    "    del embedding_vocab\n",
    "    temp_file.close()"
   ]
  },
  {
   "cell_type": "markdown",
   "metadata": {},
   "source": [
    "## Compute the task score for different dimension size"
   ]
  },
  {
   "cell_type": "code",
   "execution_count": 34,
   "metadata": {},
   "outputs": [],
   "source": [
    "def generate_embedding_path(current_model, embedding_path, binary, antonym_vector, curr_dim):\n",
    "    curr_antonym_vector = antonymy_vector[antonym_vector[:curr_dim]]\n",
    "    curr_antonymy_vector_inverse = np.linalg.pinv(np.transpose(curr_antonym_vector))\n",
    "    transform_to_antonym_space(current_model, embedding_path, binary,curr_antonymy_vector_inverse)"
   ]
  },
  {
   "cell_type": "code",
   "execution_count": 35,
   "metadata": {},
   "outputs": [],
   "source": [
    "import subprocess\n",
    "#dim_size = 500 # Number of POLAR dimenions\n",
    "antonym_vector_method = orthogonal_antonymy_vector#random_antonym_vector # orthogonal_antonymy_vector, variance_antonymy_vector"
   ]
  },
  {
   "cell_type": "code",
   "execution_count": 36,
   "metadata": {},
   "outputs": [
    {
     "name": "stdout",
     "output_type": "stream",
     "text": [
      "New model size is 147612 50\n"
     ]
    },
    {
     "data": {
      "application/vnd.jupyter.widget-view+json": {
       "model_id": "32e470e8dcb24288a89279e3ef7de8e2",
       "version_major": 2,
       "version_minor": 0
      },
      "text/plain": [
       "HBox(children=(IntProgress(value=0, max=147612), HTML(value='')))"
      ]
     },
     "metadata": {},
     "output_type": "display_data"
    },
    {
     "name": "stderr",
     "output_type": "stream",
     "text": [
      "C:\\Users\\Jan\\Anaconda3\\lib\\site-packages\\ipykernel_launcher.py:22: DeprecationWarning: Call to deprecated `__getitem__` (Method will be removed in 4.0.0, use self.wv.__getitem__() instead).\n"
     ]
    },
    {
     "name": "stdout",
     "output_type": "stream",
     "text": [
      "\n",
      "loading the model\n",
      "loading done..\n"
     ]
    },
    {
     "name": "stderr",
     "output_type": "stream",
     "text": [
      "C:\\Users\\Jan\\Anaconda3\\lib\\site-packages\\ipykernel_launcher.py:8: DeprecationWarning: Call to deprecated `wv` (Attribute will be removed in 4.0.0, use self instead).\n",
      "  \n"
     ]
    },
    {
     "data": {
      "application/vnd.jupyter.widget-view+json": {
       "model_id": "6b5a959ca11d43c6871c4bbc56e3d793",
       "version_major": 2,
       "version_minor": 0
      },
      "text/plain": [
       "HBox(children=(IntProgress(value=0, max=147612), HTML(value='')))"
      ]
     },
     "metadata": {},
     "output_type": "display_data"
    },
    {
     "name": "stdout",
     "output_type": "stream",
     "text": [
      "\n",
      "The shape of embedding matrix is (147612, 50)\n"
     ]
    },
    {
     "data": {
      "application/vnd.jupyter.widget-view+json": {
       "model_id": "f3a2a4ae24db4349804df770cd9a9060",
       "version_major": 2,
       "version_minor": 0
      },
      "text/plain": [
       "HBox(children=(IntProgress(value=0, max=147612), HTML(value='')))"
      ]
     },
     "metadata": {},
     "output_type": "display_data"
    },
    {
     "name": "stdout",
     "output_type": "stream",
     "text": [
      "\n"
     ]
    }
   ],
   "source": [
    "curr_dim = len(antonym_vector_method)#dim_size\n",
    "\n",
    "embedding_path = r'polarEmbedding'+str(curr_dim)+'.bin'\n",
    "generate_embedding_path(current_model, embedding_path,True,antonym_vector_method, curr_dim)\n",
    "\n",
    "print('loading the model')\n",
    "temp_model = gensim.models.KeyedVectors.load_word2vec_format(embedding_path, binary=True)\n",
    "print('loading done..')\n",
    "\n",
    "std_nrml_embedding_path = r'polarEmbedding'+str(curr_dim)+'_StdNrml.bin'\n",
    "standard_normal_dist_model(temp_model, std_nrml_embedding_path)\n",
    "\n"
   ]
  },
  {
   "cell_type": "markdown",
   "metadata": {},
   "source": [
    "## Our Testing"
   ]
  },
  {
   "cell_type": "code",
   "execution_count": 37,
   "metadata": {},
   "outputs": [
    {
     "name": "stdout",
     "output_type": "stream",
     "text": [
      "Finished Loading\n"
     ]
    }
   ],
   "source": [
    "#curr_dim=500\n",
    "path=r'polarEmbedding'+str(curr_dim)+'_StdNrml.bin'\n",
    "#f = open(path, \"r+b\")\n",
    "#f.seek(0)\n",
    "#print(f)\n",
    "word2vecPolar = gensim.models.KeyedVectors.load_word2vec_format(path, binary=True)\n",
    "print(\"Finished Loading\")"
   ]
  },
  {
   "cell_type": "code",
   "execution_count": 38,
   "metadata": {},
   "outputs": [
    {
     "data": {
      "text/plain": [
       "(50,)"
      ]
     },
     "execution_count": 38,
     "metadata": {},
     "output_type": "execute_result"
    }
   ],
   "source": [
    "word2vecPolar[\"test\"].shape"
   ]
  },
  {
   "cell_type": "code",
   "execution_count": 39,
   "metadata": {},
   "outputs": [
    {
     "data": {
      "text/plain": [
       "[('elizabeth', 0.6454077959060669),\n",
       " ('isabeau', 0.6140128374099731),\n",
       " ('margrethe', 0.6124271154403687),\n",
       " ('king', 0.6120667457580566),\n",
       " ('regnant', 0.6019624471664429),\n",
       " ('ranavalona', 0.5951443910598755),\n",
       " ('princess', 0.5911498069763184),\n",
       " ('salote', 0.5861144065856934),\n",
       " ('boleyn', 0.5729297399520874),\n",
       " ('consort', 0.5716495513916016)]"
      ]
     },
     "execution_count": 39,
     "metadata": {},
     "output_type": "execute_result"
    }
   ],
   "source": [
    "word2vec.wv.most_similar(positive=[\"queen\"], topn=10)"
   ]
  },
  {
   "cell_type": "code",
   "execution_count": 40,
   "metadata": {},
   "outputs": [
    {
     "name": "stderr",
     "output_type": "stream",
     "text": [
      "C:\\Users\\Jan\\Anaconda3\\lib\\site-packages\\ipykernel_launcher.py:1: DeprecationWarning: Call to deprecated `wv` (Attribute will be removed in 4.0.0, use self instead).\n",
      "  \"\"\"Entry point for launching an IPython kernel.\n"
     ]
    },
    {
     "data": {
      "text/plain": [
       "[('macbride', 0.6590103507041931),\n",
       " ('elwes', 0.6443321704864502),\n",
       " ('augustyn', 0.6406604051589966),\n",
       " ('bunton', 0.6272507905960083),\n",
       " ('caron', 0.6262788772583008),\n",
       " ('raquel', 0.6226332187652588),\n",
       " ('straub', 0.6192525029182434),\n",
       " ('oona', 0.6174811720848083),\n",
       " ('mavor', 0.6166157126426697),\n",
       " ('seldes', 0.6153095960617065)]"
      ]
     },
     "execution_count": 40,
     "metadata": {},
     "output_type": "execute_result"
    }
   ],
   "source": [
    "word2vecPolar.wv.most_similar(positive=[\"angela\"], topn=10)"
   ]
  },
  {
   "cell_type": "code",
   "execution_count": 41,
   "metadata": {},
   "outputs": [
    {
     "name": "stdout",
     "output_type": "stream",
     "text": [
      "The most similar words to out transformation of France to Japan are:\n"
     ]
    },
    {
     "data": {
      "text/plain": [
       "[('king', 0.7323899865150452),\n",
       " ('sibylla', 0.6851531863212585),\n",
       " ('regnant', 0.6469038128852844),\n",
       " ('courtenay', 0.6459183096885681),\n",
       " ('kunigunde', 0.6377465724945068),\n",
       " ('huguenot', 0.6355137825012207),\n",
       " ('godparents', 0.6294431686401367),\n",
       " ('sarolt', 0.6214840412139893),\n",
       " ('unborn', 0.6212916970252991),\n",
       " ('alys', 0.6205145716667175)]"
      ]
     },
     "execution_count": 41,
     "metadata": {},
     "output_type": "execute_result"
    }
   ],
   "source": [
    "ourTokyo= word2vecPolar['king'] - word2vecPolar['man'] + word2vecPolar['woman']\n",
    "print(\"The most similar words to out transformation of France to Japan are:\")\n",
    "word2vecPolar.most_similar(positive=[ourTokyo], topn=10) # cosine similarity\n",
    "#word2vec.wv.most_similar(positive=[\"king\"], topn=10)"
   ]
  },
  {
   "cell_type": "code",
   "execution_count": 42,
   "metadata": {},
   "outputs": [
    {
     "name": "stdout",
     "output_type": "stream",
     "text": [
      "1166\n",
      "('common', 'royal')\n"
     ]
    }
   ],
   "source": [
    "#print(list_antonym)\n",
    "count=0\n",
    "for i in list_antonym:\n",
    "    #print(type(i))\n",
    "    if i == ('common', 'royal'):\n",
    "        print(count)\n",
    "    count+=1\n",
    "print(list_antonym[1166])"
   ]
  },
  {
   "cell_type": "code",
   "execution_count": 43,
   "metadata": {},
   "outputs": [
    {
     "data": {
      "text/plain": [
       "array([1309,  513,  852,  729,  994,  292, 1153, 1323, 1217, 1147,  218,\n",
       "       1129, 1289,  484, 1347, 1150, 1231, 1161, 1293,  975,  592, 1252,\n",
       "       1037,  228,  932, 1168,  615,  734, 1028,  946, 1406, 1166,  786,\n",
       "        571, 1209, 1256, 1393,  492,  397, 1226,  171,  150, 1342,  731,\n",
       "       1269,  874,  291,  595,  403, 1040])"
      ]
     },
     "execution_count": 43,
     "metadata": {},
     "output_type": "execute_result"
    }
   ],
   "source": [
    "orthogonal_antonymy_vector"
   ]
  },
  {
   "cell_type": "code",
   "execution_count": 44,
   "metadata": {},
   "outputs": [
    {
     "name": "stdout",
     "output_type": "stream",
     "text": [
      "('stretch', 'tight')\n",
      "('rumour', 'truth')\n",
      "('run', 'stop')\n",
      "('get', 'snowball')\n",
      "('color', 'dull')\n",
      "('hiding', 'presentment')\n",
      "('girl', 'he')\n",
      "('both', 'one')\n",
      "('false', 'science')\n",
      "('mineral', 'vegetable')\n",
      "('advantageous', 'disadvantageous')\n",
      "('same', 'unique')\n",
      "('labor', 'machine')\n",
      "('arrive', 'leave')\n",
      "('problem', 'solution')\n",
      "('lady', 'male')\n",
      "('dash', 'dot')\n",
      "('show', 'watch')\n",
      "('book', 'film')\n",
      "('credit', 'tax')\n",
      "('profound', 'superficial')\n",
      "('line', 'point')\n",
      "('late', 'present')\n",
      "('ignore', 'nose')\n",
      "('carpet', 'floor')\n",
      "('new', 'use')\n",
      "('sand', 'stone')\n",
      "('psychology', 'reality')\n",
      "('cup', 'plate')\n",
      "('hour', 'second')\n",
      "('china', 'japan')\n",
      "('common', 'royal')\n",
      "('solo', 'symphonic')\n",
      "('noticed', 'unnoticed')\n",
      "('leak', 'seal')\n",
      "('office', 'outside')\n",
      "('cheese', 'milk')\n",
      "('moon', 'planet')\n",
      "('queen', 'shah')\n",
      "('group', 'person')\n",
      "('digestive', 'unhealthy')\n",
      "('open', 'zone')\n",
      "('sidewalk', 'street')\n",
      "('facilitate', 'redirect')\n",
      "('electron', 'neutron')\n",
      "('horizontal', 'vertical')\n",
      "('disassemble', 'edit')\n",
      "('structured', 'unstructured')\n",
      "('barrel', 'flask')\n",
<<<<<<< HEAD
      "('continent', 'sea')\n",
      "('biblical', 'scientific')\n",
      "('mountain', 'plain')\n",
      "('sheep', 'wolf')\n",
      "('documentary', 'parody')\n",
      "('school', 'work')\n",
      "('morning', 'night')\n",
      "('curve', 'square')\n",
      "('everybody', 'nobody')\n",
      "('inscribe', 'polish')\n",
      "('hail', 'rain')\n",
      "('dark', 'flash')\n",
      "('deep', 'short')\n",
      "('family', 'friend')\n",
      "('down', 'raise')\n",
      "('legal', 'unlawful')\n",
      "('coffee', 'tea')\n",
      "('coin', 'note')\n",
      "('paint', 'paper')\n",
      "('hot', 'shade')\n",
      "('snow', 'sun')\n",
      "('congruence', 'contradiction')\n",
      "('athlete', 'musician')\n",
      "('busy', 'relax')\n",
      "('cry', 'talk')\n",
      "('split', 'union')\n",
      "('heel', 'toe')\n",
      "('lightning', 'thunder')\n",
      "('assume', 'evidence')\n",
      "('disciplinary', 'free')\n",
      "('real', 'test')\n",
      "('center', 'side')\n",
      "('everything', 'part')\n",
      "('chicken', 'turkey')\n",
      "('different', 'same')\n",
      "('play', 'rest')\n",
      "('funeral', 'party')\n",
      "('bike', 'car')\n",
      "('old', 'young')\n",
      "('blue', 'cloud')\n",
      "('green', 'red')\n",
      "('leopard', 'zebra')\n",
      "('hard', 'lazy')\n",
      "('manual', 'visual')\n",
      "('tribal', 'universal')\n",
      "('commoner', 'emperor')\n",
      "('professor', 'student')\n",
      "('fortune', 'trouble')\n",
      "('heterosexual', 'homosexual')\n",
      "('fur', 'scale')\n",
      "('fungus', 'iodine')\n",
      "('modern', 'past')\n",
      "('bottle', 'can')\n",
      "('call', 'text')\n",
      "('it', 'we')\n",
      "('money', 'payment')\n",
      "('dispersion', 'distribution')\n",
      "('lyric', 'tune')\n",
      "('birthplace', 'cemetery')\n",
      "('ride', 'walk')\n",
      "('huge', 'small')\n",
      "('joint', 'separate')\n",
      "('copper', 'iron')\n",
      "('little', 'tall')\n",
      "('descriptive', 'normative')\n",
      "('oceanic', 'shallow')\n",
      "('east', 'west')\n",
      "('encore', 'over')\n",
      "('crater', 'hill')\n",
      "('plan', 'surprise')\n",
      "('powerful', 'vulnerable')\n",
      "('actor', 'cameraman')\n",
      "('back', 'main')\n",
      "('dry', 'river')\n",
      "('rivalry', 'unity')\n",
      "('empty', 'matter')\n",
      "('long', 'second')\n",
      "('number', 'word')\n",
      "('bloom', 'die')\n",
      "('law', 'theory')\n",
      "('might', 'weak')\n",
      "('management', 'workforce')\n",
      "('float', 'sink')\n",
      "('align', 'contrast')\n",
      "('gate', 'wall')\n",
      "('end', 'spring')\n",
      "('angel', 'evil')\n",
      "('aluminium', 'tin')\n",
      "('known', 'unknown')\n",
      "('enter', 'exit')\n",
      "('deteriorate', 'make')\n",
      "('seed', 'tree')\n",
      "('decide', 'think')\n",
      "('bore', 'intoxicate')\n",
      "('donkey', 'horse')\n",
      "('enjoy', 'hate')\n",
      "('hook', 'pocket')\n",
      "('look', 'touch')\n",
      "('men', 'woman')\n",
      "('trip', 'vacation')\n",
      "('fixer', 'wrecker')\n",
      "('freeze', 'heat')\n",
      "('river', 'sea')\n",
      "('differentiate', 'replicate')\n",
      "('naughty', 'nice')\n",
      "('hop', 'jump')\n",
      "('high', 'short')\n",
      "('column', 'row')\n",
      "('aircraft', 'car')\n",
      "('finger', 'foot')\n",
      "('meet', 'pass')\n",
      "('gum', 'tooth')\n",
      "('learned', 'naivety')\n",
      "('me', 'you')\n",
      "('friend', 'strange')\n",
      "('country', 'metropolitan')\n",
      "('hall', 'room')\n",
      "('needle', 'thread')\n",
      "('insured', 'uninsured')\n",
      "('potato', 'rice')\n",
      "('space', 'zone')\n",
      "('hostility', 'peace')\n",
      "('acceptable', 'unsatisfactory')\n",
      "('history', 'news')\n",
      "('idea', 'material')\n",
      "('leg', 'toe')\n",
      "('straight', 'turn')\n",
      "('dust', 'stone')\n",
      "('refuse', 'take')\n",
      "('north', 'west')\n",
      "('chapter', 'page')\n",
      "('confirm', 'question')\n",
      "('club', 'heart')\n",
      "('beer', 'wine')\n",
      "('head', 'rear')\n",
      "('kind', 'mean')\n",
      "('oil', 'water')\n",
      "('appealing', 'gross')\n",
      "('explicit', 'vague')\n",
      "('birth', 'die')\n",
      "('change', 'stable')\n",
      "('radio', 'tv')\n",
      "('dance', 'stand')\n",
      "('fall', 'raise')\n",
      "('begin', 'middle')\n",
      "('flute', 'trombone')\n",
      "('mountainous', 'oceanic')\n",
      "('thick', 'thin')\n",
      "('peasant', 'shah')\n",
      "('interior', 'outside')\n",
      "('juice', 'milk')\n",
      "('audio', 'leaflet')\n",
      "('catalogue', 'disorder')\n",
      "('tell', 'watch')\n",
      "('restaurant', 'saloon')\n",
      "('defense', 'prosecution')\n",
      "('beef', 'chicken')\n",
      "('fact', 'lie')\n",
      "('seen', 'unnoticed')\n",
      "('linear', 'orbital')\n",
      "('divide', 'sum')\n",
      "('ice', 'steam')\n",
      "('great', 'less')\n",
      "('pan', 'pot')\n",
      "('hole', 'pocket')\n",
      "('fast', 'slow')\n",
      "('blacken', 'picture')\n",
      "('breakfast', 'dinner')\n",
      "('road', 'street')\n",
      "('arrogant', 'humble')\n",
      "('distribution', 'single')\n",
      "('left', 'right')\n",
      "('phagocyte', 'virus')\n",
      "('ear', 'mouth')\n",
      "('closet', 'out')\n",
      "('conflict', 'peace')\n",
      "('customer', 'worker')\n",
      "('animate', 'live')\n",
      "('pontificate', 'withdraw')\n",
      "('house', 'tent')\n",
      "('initial', 'terminal')\n",
      "('control', 'free')\n",
      "('department', 'whole')\n",
      "('sister', 'son')\n",
      "('exact', 'vague')\n",
      "('home', 'work')\n",
      "('bear', 'lion')\n",
      "('ion', 'neutron')\n",
      "('dog', 'kitten')\n",
      "('set', 'slam')\n",
      "('middle', 'side')\n",
      "('business', 'recreation')\n",
      "('male', 'woman')\n",
      "('affected', 'unaffected')\n",
      "('plant', 'rock')\n",
      "('far', 'short')\n",
      "('probable', 'unlikely')\n",
      "('private', 'see')\n",
      "('large', 'little')\n",
      "('estimation', 'measurement')\n",
      "('cat', 'mouse')\n",
      "('big', 'young')\n",
      "('able', 'invalid')\n",
      "('automated', 'manual')\n",
      "('cement', 'mortar')\n",
      "('abstraction', 'symbolism')\n",
      "('aware', 'naivety')\n",
      "('downfall', 'prime')\n",
      "('hurricane', 'sandstorm')\n",
      "('speak', 'write')\n",
      "('hardware', 'software')\n",
      "('earth', 'sea')\n",
      "('arachnid', 'fly')\n",
      "('confidence', 'fear')\n",
      "('corn', 'hay')\n",
      "('kill', 'make')\n",
      "('spot', 'stripe')\n",
      "('stationary', 'velocity')\n",
      "('germ', 'iodine')\n",
      "('quit', 'try')\n",
      "('pale', 'tan')\n",
      "('abstinence', 'intercourse')\n",
      "('dimensional', 'static')\n",
      "('general', 'unique')\n",
      "('farm', 'town')\n",
      "('favorable', 'unfavorable')\n",
      "('brass', 'silver')\n",
      "('foot', 'head')\n",
      "('builder', 'wrecker')\n",
      "('lower', 'pyramid')\n",
      "('cloudy', 'sunshine')\n",
      "('stroll', 'tour')\n",
      "('box', 'circle')\n",
      "('silence', 'talk')\n",
      "('fool', 'smart')\n",
      "('come', 'leave')\n",
      "('movie', 'play')\n",
      "('enlightenment', 'ignorance')\n",
      "('cd', 'record')\n",
      "('fold', 'whisk')\n",
      "('object', 'person')\n",
      "('glass', 'metal')\n",
      "('bark', 'bite')\n",
      "('industry', 'nature')\n",
      "('exercise', 'rest')\n",
      "('boy', 'female')\n",
      "('flick', 'punch')\n",
      "('instructive', 'unclear')\n",
      "('constant', 'orbital')\n",
      "('attic', 'basement')\n",
      "('chastity', 'sexuality')\n",
      "('complete', 'piece')\n",
      "('ink', 'paper')\n",
      "('be', 'picture')\n",
      "('maximum', 'minimum')\n",
      "('mundane', 'mystical')\n",
      "('lot', 'small')\n",
      "('negative', 'profit')\n",
      "('hit', 'miss')\n",
      "('black', 'light')\n",
      "('alphabet', 'count')\n",
      "('demolish', 'polish')\n",
      "('sharp', 'thick')\n",
      "('bird', 'human')\n",
      "('lake', 'sea')\n",
      "('friendly', 'mean')\n",
      "('gentleman', 'player')\n",
      "('trombone', 'trumpet')\n",
      "('pattern', 'plain')\n",
      "('irrelevant', 'matter')\n",
      "('future', 'history')\n",
      "('act', 'real')\n",
      "('peace', 'violent')\n",
      "('gun', 'knife')\n",
      "('disease', 'well')\n",
      "('citizen', 'emperor')\n",
      "('religion', 'science')\n",
      "('minute', 'second')\n",
      "('gentle', 'wild')\n",
      "('critic', 'musician')\n",
      "('push', 'raise')\n",
      "('prime', 'worst')\n",
      "('wall', 'window')\n",
      "('factory', 'farm')\n",
      "('arrival', 'journey')\n",
      "('bare', 'shield')\n",
      "('export', 'import')\n",
      "('spring', 'squat')\n",
      "('shadow', 'sun')\n",
      "('estimate', 'gauge')\n",
      "('tomato', 'township')\n",
      "('opening', 'pocket')\n",
      "('experience', 'new')\n",
      "('blend', 'contrast')\n",
      "('supervised', 'unsupervised')\n",
      "('settled', 'tribal')\n",
      "('chain', 'free')\n",
      "('disconnection', 'intercourse')\n",
      "('noise', 'silent')\n",
      "('day', 'night')\n",
      "('charm', 'dull')\n",
      "('contain', 'out')\n",
      "('admire', 'dislike')\n",
      "('unemployment', 'workforce')\n",
      "('lift', 'press')\n",
      "('apple', 'orange')\n",
      "('student', 'teacher')\n",
      "('rule', 'subject')\n",
      "('grass', 'water')\n",
      "('boyfriend', 'girl')\n",
      "('famous', 'unknown')\n",
      "('lace', 'silk')\n",
      "('piano', 'trombone')\n",
      "('ant', 'elephant')\n",
      "('eternal', 'mortal')\n",
      "('drama', 'parody')\n",
      "('corrupt', 'honor')\n",
      "('mistake', 'right')\n",
      "('separation', 'union')\n",
      "('depart', 'rendezvous')\n",
      "('literal', 'poetic')\n",
      "('salt', 'sugar')\n",
      "('block', 'fan')\n",
      "('practice', 'test')\n",
      "('innocent', 'trouble')\n",
      "('age', 'young')\n",
      "('letter', 'number')\n",
      "('hollow', 'solid')\n",
      "('everyone', 'nobody')\n",
      "('start', 'terminal')\n",
      "('door', 'hole')\n",
      "('anarchist', 'shah')\n",
      "('plate', 'table')\n",
      "('prostate', 'uterine')\n",
      "('atmospheric', 'geologic')\n",
      "('duck', 'stand')\n",
      "('marine', 'navy')\n",
      "('deceased', 'mortal')\n",
      "('detract', 'sum')\n",
      "('actual', 'symbolic')\n",
      "('talk', 'write')\n",
      "('cluster', 'zone')\n",
      "('satisfactory', 'unsatisfactory')\n",
      "('closure', 'split')\n",
      "('blood', 'bone')\n",
      "('magic', 'science')\n",
      "('past', 'present')\n",
      "('heart', 'mind')\n",
      "('fly', 'land')\n",
      "('expand', 'reduce')\n",
      "('gent', 'lady')\n",
      "('concentrate', 'distribute')\n",
      "('rain', 'sun')\n",
      "('advance', 'late')\n",
      "('fix', 'mobile')\n",
      "('criminal', 'pastor')\n",
      "('bush', 'tree')\n",
      "('error', 'perfect')\n",
      "('rise', 'sunset')\n",
      "('muscle', 'weak')\n",
      "('collection', 'distribution')\n",
      "('touch', 'vision')\n",
      "('party', 'study')\n",
      "('he', 'woman')\n",
      "('action', 'rest')\n",
      "('record', 'tape')\n",
      "('doing', 'training')\n",
      "('bread', 'meat')\n",
      "('impure', 'pure')\n",
      "('lowest', 'prime')\n",
      "('bounce', 'roll')\n",
      "('disadvantageous', 'good')\n",
      "('lumbar', 'pulmonary')\n",
      "('short', 'tall')\n",
      "('child', 'old')\n",
      "('bill', 'coin')\n",
      "('charge', 'payment')\n",
      "('stay', 'tour')\n",
      "('bathroom', 'bedroom')\n",
      "('dependent', 'unsupervised')\n",
      "('cotton', 'wool')\n",
      "('beat', 'strum')\n",
      "('blot', 'ink')\n",
      "('birthday', 'death')\n",
      "('fish', 'mammal')\n",
      "('dead', 'immortal')\n",
      "('bath', 'shower')\n",
      "('communism', 'freedom')\n",
      "('log', 'stick')\n",
      "('invalid', 'true')\n",
      "('flight', 'walk')\n",
      "('store', 'trade')\n",
      "('artichoke', 'kiwi')\n",
      "('cube', 'pyramid')\n",
      "('exchange', 'keep')\n",
      "('heal', 'kill')\n",
      "('all', 'piece')\n",
      "('civic', 'external')\n",
      "('expensive', 'thrifty')\n",
      "('improbable', 'probable')\n",
      "('commitment', 'detachment')\n",
      "('screen', 'stage')\n",
      "('current', 'historic')\n",
      "('petite', 'stout')\n",
      "('cover', 'discover')\n",
      "('pass', 'stop')\n",
      "('sour', 'sugar')\n",
      "('life', 'mortal')\n",
      "('antineutron', 'neutron')\n",
      "('sign', 'talk')\n",
      "('fatalistic', 'open')\n",
      "('assemble', 'break')\n",
      "('harmful', 'pathological')\n",
      "('aisle', 'seat')\n",
      "('cigarette', 'pipe')\n",
      "('offspring', 'parent')\n",
      "('bag', 'flask')\n",
      "('planet', 'satellite')\n",
      "('defeat', 'success')\n",
      "('melt', 'solid')\n",
      "('safe', 'trouble')\n",
      "('polish', 'rough')\n",
      "('singular', 'tribal')\n",
      "('valuable', 'waste')\n",
      "('realism', 'symbolism')\n",
      "('balance', 'slip')\n",
      "('bonus', 'fee')\n",
      "('explained', 'pathological')\n",
      "('lip', 'nose')\n",
      "('locality', 'nationality')\n",
      "('stand', 'walk')\n",
      "('one', 'zero')\n",
      "('creator', 'wrecker')\n",
      "('achieve', 'fail')\n",
      "('scatter', 'zone')\n",
      "('partial', 'whole')\n",
      "('automatic', 'manual')\n",
      "('bowl', 'plate')\n",
      "('can', 'jar')\n",
      "('comfort', 'hard')\n",
      "('cow', 'lobster')\n",
      "('unemployed', 'workforce')\n",
      "('clear', 'thunder')\n",
      "('impossible', 'probable')\n",
      "('intentional', 'unintentional')\n",
      "('metropolitan', 'rural')\n",
      "('hobby', 'work')\n",
      "('annual', 'quarterly')\n",
      "('lump', 'spread')\n",
      "('base', 'head')\n",
      "('bat', 'field')\n"
=======
      "('continent', 'sea')\n"
>>>>>>> 6347bb61267891d3eb0b0d9b374035343d3c72b4
     ]
    }
   ],
   "source": [
    "for i in orthogonal_antonymy_vector:\n",
    "    print(list_antonym[i])"
   ]
  },
  {
   "cell_type": "code",
   "execution_count": 45,
   "metadata": {},
   "outputs": [
    {
     "name": "stdout",
     "output_type": "stream",
     "text": [
      "[ 2.0278883   1.3166724  -0.53958035  0.06855667  0.40076193 -0.17927904\n",
      " -0.9423516  -1.0891933  -0.0998195  -0.06496534 -0.35317504  0.6019778\n",
      "  0.19955435 -0.4886603  -1.5544347  -1.329575    0.5017843  -1.1179305\n",
      " -0.17353134  0.15105529 -0.79664606 -0.13044332  0.15806982 -1.3884294\n",
      "  0.8347334   0.06571057  2.8078587  -1.3898716  -0.3994007   0.86210746\n",
      "  1.1206479   1.0346855  -0.29163224 -0.01174969  0.8026226  -1.1772504\n",
      " -3.1740084   0.6738396   2.0063808  -0.39222708  0.22176257  0.74179673\n",
      "  0.5633324   1.771153   -0.80913156 -1.1596668   0.75711095 -0.559672\n",
      " -0.2776221  -3.773441  ]\n",
      "-3.773441\n",
      "('continent', 'sea')\n",
      "-3.1740084\n",
      "('cheese', 'milk')\n",
      "2.8078587\n",
      "('sand', 'stone')\n",
      "2.0278883\n",
      "('stretch', 'tight')\n",
      "2.0063808\n",
      "('queen', 'shah')\n"
     ]
    }
   ],
   "source": [
    "#print(word2vecPolar[\"screenshot\"])\n",
    "word=word2vecPolar[\"water\"]\n",
<<<<<<< HEAD
    "#print(word)\n",
    "\n",
=======
    "print(word)\n",
>>>>>>> 6347bb61267891d3eb0b0d9b374035343d3c72b4
    "#print(list_antonym)\n",
    "#print(orthogonal_antonymy_vector)\n",
    "thisdict = {}\n",
    "\n",
    "#indexedList=[]\n",
    "for count, value in enumerate(word):\n",
    "    thisdict[count]= value\n",
    "#print(thisdict)\n",
    "\n",
    "sortedDic=sorted(thisdict.items(), key=lambda item: abs(item[1]))\n",
    "sortedDic.reverse()\n",
    "#print(sortedDic)\n",
    "for i in range(0,5):\n",
    "    cur_Index=sortedDic[i][0]\n",
    "    originalAntonymIndex=orthogonal_antonymy_vector[cur_Index]\n",
    "    #print(originalAntonymIndex)\n",
    "    print(sortedDic[i][1])\n",
    "    print(list_antonym[originalAntonymIndex])\n",
    "    #print(sortedDic[i])"
   ]
  },
  {
   "cell_type": "code",
   "execution_count": 46,
   "metadata": {},
   "outputs": [],
   "source": [
    "import matplotlib.pyplot as pp\n",
    "def getMeaningOfWord(strWord,antonymy_vector, model, numberPolar ):\n",
    "    #print(antonymy_vector)\n",
    "    word=model[strWord]\n",
    "    thisdict = {}\n",
    "    for count, value in enumerate(word):\n",
    "        thisdict[count]= value\n",
    "    sortedDic=sorted(thisdict.items(), key=lambda item: abs(item[1]))\n",
    "    sortedDic.reverse()\n",
    "   \n",
    "    for i in range(0,numberPolar):\n",
    "        cur_Index=sortedDic[i][0]\n",
    "        originalAntonymIndex=antonymy_vector[cur_Index]\n",
    "        #print(cur_Index)\n",
    "        #print(originalAntonymIndex)\n",
    "        #print(originalAntonymIndex)\n",
    "        print(sortedDic[i][1])\n",
    "        cur_value =sortedDic[i][1]\n",
    "        leftPolar=list_antonym[originalAntonymIndex][0]\n",
    "        rightPolar=list_antonym[originalAntonymIndex][1]\n",
    "        plotPolar(rightPolar, leftPolar, cur_value)\n",
    "    "
   ]
  },
  {
   "cell_type": "code",
   "execution_count": 47,
   "metadata": {},
   "outputs": [],
   "source": [
    "def plotPolar(left, right, value):\n",
    "    fig, ax1 = plt.subplots()\n",
    "    fig.set_figheight(1)\n",
    "    \n",
    "\n",
    "    if abs(value)>10:\n",
    "        fig.set_figwidth(20)\n",
    "        ar = np.arange(-20,21)   \n",
    "    else:\n",
    "        fig.set_figwidth(10)\n",
    "        ar = np.arange(-10,11)\n",
    "    ax1.plot(ar, np.zeros_like(ar) + 0, '.')\n",
    "    ax1.plot(value, 0, 'd', linewidth=2, markersize=20, color='r')\n",
    "    ax1.set_ylabel(left, color='b',rotation=0, size=20, labelpad=50)\n",
    "    ax1.set_yticks([])\n",
    "    ax1.set_xticks(ar)\n",
    "    ax1.spines['right'].set_visible(False)\n",
    "    ax1.spines['top'].set_visible(False)\n",
    "    ax1.spines['left'].set_visible(False)\n",
    "    ax1.spines['bottom'].set_visible(False)\n",
    "\n",
    "    ax2 = ax1.twinx()\n",
    "    ax2.set_ylabel(right, color='r',rotation=0, size=20, labelpad=50)\n",
    "    ax2.set_yticks([])\n",
    "    ax1.grid(False)\n",
    "    ax2.grid(False)\n",
    "    ax2.spines['right'].set_visible(False)\n",
    "    ax2.spines['top'].set_visible(False)\n",
    "    ax2.spines['left'].set_visible(False)\n",
    "    ax2.spines['bottom'].set_visible(False)\n",
    "    \n",
    "    \n",
    "    \n",
    "    fig.tight_layout()\n",
    "    plt.show()"
   ]
  },
  {
   "cell_type": "code",
   "execution_count": 48,
   "metadata": {},
   "outputs": [
    {
     "name": "stdout",
     "output_type": "stream",
     "text": [
      "-3.773441\n"
     ]
    },
    {
     "data": {
      "image/png": "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\n",
      "text/plain": [
       "<Figure size 720x72 with 2 Axes>"
      ]
     },
     "metadata": {
      "needs_background": "light"
     },
     "output_type": "display_data"
    },
    {
     "name": "stdout",
     "output_type": "stream",
     "text": [
      "-3.1740084\n"
     ]
    },
    {
     "data": {
      "image/png": "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\n",
      "text/plain": [
       "<Figure size 720x72 with 2 Axes>"
      ]
     },
     "metadata": {
      "needs_background": "light"
     },
     "output_type": "display_data"
    },
    {
     "name": "stdout",
     "output_type": "stream",
     "text": [
      "2.8078587\n"
     ]
    },
    {
     "data": {
      "image/png": "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\n",
      "text/plain": [
       "<Figure size 720x72 with 2 Axes>"
      ]
     },
     "metadata": {
      "needs_background": "light"
     },
     "output_type": "display_data"
    },
    {
     "name": "stdout",
     "output_type": "stream",
     "text": [
      "2.0278883\n"
     ]
    },
    {
     "data": {
      "image/png": "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\n",
      "text/plain": [
       "<Figure size 720x72 with 2 Axes>"
      ]
     },
     "metadata": {
      "needs_background": "light"
     },
     "output_type": "display_data"
    },
    {
     "name": "stdout",
     "output_type": "stream",
     "text": [
      "2.0063808\n"
     ]
    },
    {
     "data": {
      "image/png": "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\n",
      "text/plain": [
       "<Figure size 720x72 with 2 Axes>"
      ]
     },
     "metadata": {
      "needs_background": "light"
     },
     "output_type": "display_data"
    },
    {
     "name": "stdout",
     "output_type": "stream",
     "text": [
      "1.771153\n"
     ]
    },
    {
     "data": {
      "image/png": "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\n",
      "text/plain": [
       "<Figure size 720x72 with 2 Axes>"
      ]
     },
     "metadata": {
      "needs_background": "light"
     },
     "output_type": "display_data"
    },
    {
     "name": "stdout",
     "output_type": "stream",
     "text": [
      "-1.5544347\n"
     ]
    },
    {
     "data": {
      "image/png": "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\n",
      "text/plain": [
       "<Figure size 720x72 with 2 Axes>"
      ]
     },
     "metadata": {
      "needs_background": "light"
     },
     "output_type": "display_data"
    },
    {
     "name": "stdout",
     "output_type": "stream",
     "text": [
      "-1.3898716\n"
     ]
    },
    {
     "data": {
      "image/png": "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\n",
      "text/plain": [
       "<Figure size 720x72 with 2 Axes>"
      ]
     },
     "metadata": {
      "needs_background": "light"
     },
     "output_type": "display_data"
    },
    {
     "name": "stdout",
     "output_type": "stream",
     "text": [
      "-1.3884294\n"
     ]
    },
    {
     "data": {
      "image/png": "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\n",
      "text/plain": [
       "<Figure size 720x72 with 2 Axes>"
      ]
     },
     "metadata": {
      "needs_background": "light"
     },
     "output_type": "display_data"
    },
    {
     "name": "stdout",
     "output_type": "stream",
     "text": [
      "-1.329575\n"
     ]
    },
    {
     "data": {
      "image/png": "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\n",
      "text/plain": [
       "<Figure size 720x72 with 2 Axes>"
      ]
     },
     "metadata": {
      "needs_background": "light"
     },
     "output_type": "display_data"
    }
   ],
   "source": [
    "getMeaningOfWord(\"water\",orthogonal_antonymy_vector, word2vecPolar, 10 )"
   ]
  },
  {
   "cell_type": "code",
   "execution_count": 49,
   "metadata": {},
   "outputs": [
    {
     "name": "stdout",
     "output_type": "stream",
     "text": [
      "b''\n",
      "finished sentiment task\n"
     ]
    }
   ],
   "source": [
    "######### Task specific code....\n",
    "command_list = ['python3', \n",
    "                    r'C:\\Users\\Jan\\Desktop\\PraktikumSS20\\POLAR-master\\Downstream Task\\TREC\\classify_task.py',\n",
    "                     std_nrml_embedding_path,\n",
    "                     '2',\n",
    "                     r'C:\\Users\\Jan\\Desktop\\PraktikumSS20\\POLAR-master\\Downstream Task\\TREC\\data\\qa_train_X.pickle',\n",
    "                     r'C:\\Users\\Jan\\Desktop\\PraktikumSS20\\POLAR-master\\Downstream Task\\TREC\\data\\qa_train_y.pickle',\n",
    "                     r'C:\\Users\\Jan\\Desktop\\PraktikumSS20\\POLAR-master\\Downstream Task\\TREC\\data\\qa_val_X.pickle',\n",
    "                     r'C:\\Users\\Jan\\Desktop\\PraktikumSS20\\POLAR-master\\Downstream Task\\TREC\\data\\qa_val_y.pickle',\n",
    "                     r'C:\\Users\\Jan\\Desktop\\PraktikumSS20\\POLAR-master\\Downstream Task\\TREC\\data\\qa_test_X.pickle',\n",
    "                     r'C:\\Users\\Jan\\Desktop\\PraktikumSS20\\POLAR-master\\Downstream Task\\TREC\\data\\qa_test_y.pickle'\n",
    "                    ]\n",
    "\n",
    "\n",
    "\n",
    "result = subprocess.run(command_list, stdout=subprocess.PIPE, shell=True)\n",
    "print(result.stdout)\n",
    "print('finished sentiment task')\n",
    "################\n",
    "del temp_model\n",
    "    \n",
    "os.remove(std_nrml_embedding_path)\n",
    "os.remove(embedding_path)"
   ]
  },
  {
   "cell_type": "code",
   "execution_count": null,
   "metadata": {},
   "outputs": [],
   "source": []
  }
 ],
 "metadata": {
  "kernelspec": {
   "display_name": "Python 3",
   "language": "python",
   "name": "python3"
  },
  "language_info": {
   "codemirror_mode": {
    "name": "ipython",
    "version": 3
   },
   "file_extension": ".py",
   "mimetype": "text/x-python",
   "name": "python",
   "nbconvert_exporter": "python",
   "pygments_lexer": "ipython3",
   "version": "3.7.4"
  }
 },
 "nbformat": 4,
 "nbformat_minor": 2
}
