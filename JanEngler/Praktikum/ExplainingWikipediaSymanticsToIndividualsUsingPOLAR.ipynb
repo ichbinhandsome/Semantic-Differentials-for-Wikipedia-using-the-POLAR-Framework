{
 "cells": [
  {
   "cell_type": "markdown",
   "metadata": {},
   "source": [
    "# Forschungspraktikum SS20 \n",
    "# Semantic Differentials for Wikipedia using the POLAR Framework\n",
    "\n",
    "\n",
    "The POLAR Framework is a method that enables Interpretability for pre-trained word embeddings. The goal of this project is to produce word embeddings from a Wikipedia dataset, and deploy the POLAR framework to different categories of words (e.g. Countries, Politicians, Music, etc) in order to explain the semantic associations behind concepts on Wikipedia. An evaluation setup should assess the quality of the semantic differentials produced."
   ]
  },
  {
   "cell_type": "code",
   "execution_count": 1,
   "metadata": {},
   "outputs": [],
   "source": [
    "\n",
    "import pathlib\n",
    "import matplotlib.pyplot as plt\n",
    "import pandas as pd\n",
    "import numpy as np\n",
    "import multiprocessing\n",
    "from gensim.corpora.wikicorpus import WikiCorpus #https://radimrehurek.com/gensim/corpora/wikicorpus.html\n",
    "from gensim.models.word2vec import Word2Vec"
   ]
  },
  {
   "cell_type": "markdown",
   "metadata": {},
   "source": [
    "# Only run next cell if a new Wikipedia dataset is loaded"
   ]
  },
  {
   "cell_type": "code",
   "execution_count": 3,
   "metadata": {},
   "outputs": [
    {
     "name": "stdout",
     "output_type": "stream",
     "text": [
      "Check if its your first time running this NodeBook\n"
     ]
    },
    {
     "data": {
      "application/vnd.jupyter.widget-view+json": {
       "model_id": "2126d49a9f4846218c0191a3e7deef94",
       "version_major": 2,
       "version_minor": 0
      },
      "text/plain": [
       "interactive(children=(Checkbox(value=True, description='trainNewModel'), Output()), _dom_classes=('widget-inte…"
      ]
     },
     "metadata": {},
     "output_type": "display_data"
    }
   ],
   "source": [
    "from ipywidgets import interact, interactive, fixed, interact_manual\n",
    "\n",
    "def myFunction(trainNewModel):\n",
    "    return trainNewModel\n",
    "print(\"Check if its your first time running this NodeBook\")\n",
    "trainNewModel=interact(myFunction, trainNewModel=True);"
   ]
  },
  {
   "cell_type": "code",
   "execution_count": 16,
   "metadata": {},
   "outputs": [
    {
     "name": "stderr",
     "output_type": "stream",
     "text": [
      "/opt/anaconda3/lib/python3.7/site-packages/gensim/interfaces.py:96: UserWarning: corpus.save() stores only the (tiny) iteration object in memory; to serialize the actual corpus content, use e.g. MmCorpus.serialize(corpus)\n",
      "  \"corpus.save() stores only the (tiny) iteration object in memory; \"\n"
     ]
    }
   ],
   "source": [
    "trainNewModel=True\n",
    "if trainNewModel==True:\n",
    "    wiki = WikiCorpus(r\"DataSets/enwiki-20200401-pages-articles1.xml-p1p30303.bz2\", \n",
    "                  lemmatize=False, dictionary={})\n",
    "    #stores the preprocessed dataset, which reduces runtime for the future\n",
    "    wiki.save('SavedWord2Vec/wiki.corpus')\n",
    "    \n",
    "    sentences = list(wiki.get_texts()) #Iterate over the dump, yielding a list of tokens for each article that passed the length and namespace filtering.\n",
    "\n"
   ]
  },
  {
   "cell_type": "markdown",
   "metadata": {},
   "source": [
    "size: The number of dimensions of the embeddings and the default is 100.\n",
    "\n",
    "window: The maximum distance between a target word and words around the target word. The default window is 5.\n",
    "\n",
    "min_count: The minimum count of words to consider when training the model; words with occurrence less than this \n",
    "count will be ignored. The default for min_count is 5.\n",
    "\n",
    "workers: The number of partitions during training and the default workers is 3.\n",
    "\n",
    "sg: The training algorithm, either CBOW(0) or skip gram(1). The default training algorithm is CBOW."
   ]
  },
  {
   "cell_type": "code",
   "execution_count": 17,
   "metadata": {},
   "outputs": [
    {
     "name": "stdout",
     "output_type": "stream",
     "text": [
      "Training Word2Vec model ...\n",
      "Finished Training\n"
     ]
    }
   ],
   "source": [
    "### Compute the Word2Vec model usint following parameters#\n",
    "# Currently using CBOW for testing because of performance issues of skip gram on my laptop #\n",
    "if trainNewModel==True:\n",
    "    print(\"Training Word2Vec model ...\")\n",
    "    params = {'size': 300, 'window': 5, 'min_count': 5, \n",
    "          'workers': max(1, multiprocessing.cpu_count() - 1), 'sample': 1E-3,'sg' : 1}\n",
    "    word2vec = Word2Vec(sentences, **params)\n",
    "    ### Save Word2Vec model to file ###\n",
    "    word2vec.save('SavedWord2Vec/wiki.word2vec.model')\n",
    "    print(\"Finished Training\")\n",
    "else:\n",
    "    ### Loading finished Word2Vec model to memory from file ###\n",
    "    print(\"Loading Word2Vec model from file...\")\n",
    "    word2vec = Word2Vec.load('SavedWord2Vec/wiki.word2vec.model')\n",
    "    print(\"Finished Loading\")\n"
   ]
  },
  {
   "cell_type": "markdown",
   "metadata": {},
   "source": [
    "## King- Man + Woman = Queen?"
   ]
  },
  {
   "cell_type": "code",
   "execution_count": 18,
   "metadata": {},
   "outputs": [],
   "source": [
    "def similarityNameVector(vec, name, model):\n",
    "    \n",
    "    cosineSimilarity = np.dot(vec, model.wv[name])/(np.linalg.norm(vec)* np.linalg.norm(model.wv[name]))\n",
    "    return cosineSimilarity\n",
    "\n",
    "#print(similarityNameVector(ourQueen,'queen'))\n",
    "\n"
   ]
  },
  {
   "cell_type": "code",
   "execution_count": 19,
   "metadata": {},
   "outputs": [
    {
     "name": "stdout",
     "output_type": "stream",
     "text": [
      "Smiliarity of king and queen: 0.6234725\n",
      "Smiliarity of transformed king and queen: 0.57965255\n",
      "The most similar words to out transformation of King to Queen are:\n"
     ]
    },
    {
     "data": {
      "text/plain": [
       "[('king', 0.7423334717750549),\n",
       " ('queen', 0.5796525478363037),\n",
       " ('woman', 0.517516016960144),\n",
       " ('regnant', 0.5111746788024902),\n",
       " ('isabeau', 0.5028153657913208),\n",
       " ('throne', 0.5016829967498779),\n",
       " ('consort', 0.4985124170780182),\n",
       " ('chlothar', 0.48926517367362976),\n",
       " ('electress', 0.48813995718955994),\n",
       " ('theodelinda', 0.4879298210144043)]"
      ]
     },
     "execution_count": 19,
     "metadata": {},
     "output_type": "execute_result"
    }
   ],
   "source": [
    "print(\"Smiliarity of king and queen:\", word2vec.wv.similarity('king', 'queen'))\n",
    "ourQueen= word2vec.wv['king'] - word2vec.wv['man'] + word2vec.wv['woman']\n",
    "print(\"Smiliarity of transformed king and queen:\", similarityNameVector(ourQueen,'queen',word2vec))\n",
    "\n",
    "print(\"The most similar words to out transformation of King to Queen are:\")\n",
    "word2vec.wv.most_similar(positive=[ourQueen], topn=10) # cosine similarity\n",
    "#word2vec.wv.most_similar(positive=[\"king\"], topn=10)\n",
    "\n"
   ]
  },
  {
   "cell_type": "code",
   "execution_count": 20,
   "metadata": {},
   "outputs": [
    {
     "name": "stdout",
     "output_type": "stream",
     "text": [
      "The most similar words to out transformation of France to Japan are:\n"
     ]
    },
    {
     "data": {
      "text/plain": [
       "[('tokyo', 0.7715462446212769),\n",
       " ('japan', 0.7495639324188232),\n",
       " ('osaka', 0.6108940839767456),\n",
       " ('nagoya', 0.5861287117004395),\n",
       " ('kyushu', 0.5758974552154541),\n",
       " ('hyōgo', 0.5652197003364563),\n",
       " ('miyagi', 0.5611051321029663),\n",
       " ('ehime', 0.5560809373855591),\n",
       " ('saitama', 0.5548993349075317),\n",
       " ('ryukyu', 0.5532717704772949)]"
      ]
     },
     "execution_count": 20,
     "metadata": {},
     "output_type": "execute_result"
    }
   ],
   "source": [
    "ourJapan= word2vec.wv['france'] - word2vec.wv['paris'] + word2vec.wv['tokyo']\n",
    "print(\"The most similar words to out transformation of France to Japan are:\")\n",
    "word2vec.wv.most_similar(positive=[ourJapan], topn=10) # cosine similarity\n",
    "#word2vec.wv.most_similar(positive=[\"king\"], topn=10)"
   ]
  },
  {
   "cell_type": "markdown",
   "metadata": {},
   "source": [
    "## Usefull functions:\n",
    "\n",
    "word2vec.wv.similarity('star', 'hollywood')  \n",
    "word2vec.wv.most_similar('afghanistan')[:20]"
   ]
  },
  {
   "cell_type": "code",
   "execution_count": 21,
   "metadata": {},
   "outputs": [
    {
     "data": {
      "image/png": "[encoded data removed]",
      "text/plain": [
       "<Figure size 432x288 with 1 Axes>"
      ]
     },
     "metadata": {
      "needs_background": "light"
     },
     "output_type": "display_data"
    }
   ],
   "source": [
    "from sklearn.manifold import TSNE\n",
    "def display_closestwords_tsnescatterplot(model, word, size):\n",
    "    \n",
    "    arr = np.empty((0,size), dtype='f')\n",
    "    word_labels = [word]\n",
    "    close_words = model.wv.similar_by_word(word)\n",
    "    #print(arr)\n",
    "    #print(np.array([model[word]]))\n",
    "    arr = np.append(arr, np.array([model.wv[word]]), axis=0)\n",
    "    \n",
    "    for wrd_score in close_words:\n",
    "        wrd_vector = model.wv[wrd_score[0]]\n",
    "        word_labels.append(wrd_score[0])\n",
    "        arr = np.append(arr, np.array([wrd_vector]), axis=0)\n",
    "        \n",
    "    tsne = TSNE(n_components=2, random_state=0)\n",
    "    np.set_printoptions(suppress=True)\n",
    "    Y = tsne.fit_transform(arr)\n",
    "    x_coords = Y[:, 0]\n",
    "    y_coords = Y[:, 1]\n",
    "    plt.scatter(x_coords, y_coords)\n",
    "    for label, x, y in zip(word_labels, x_coords, y_coords):\n",
    "        plt.annotate(label, xy=(x, y), xytext=(0, 0), textcoords='offset points')\n",
    "        plt.xlim(x_coords.min()+0.00005, x_coords.max()+0.00005)\n",
    "        plt.ylim(y_coords.min()+0.00005, y_coords.max()+0.00005)\n",
    "    plt.show()\n",
    "\n",
    "    \n",
    "display_closestwords_tsnescatterplot(word2vec, 'trump', 300) "
   ]
  },
  {
   "cell_type": "markdown",
   "metadata": {},
   "source": [
    "# Online training / Resuming training\n",
    "\n",
    "Advanced users can load a model and continue training it with more sentences and new vocabulary words:\n",
    "\n",
    "model = gensim.models.Word2Vec.load(temporary_filepath)\n",
    "more_sentences = [\n",
    "    ['Advanced', 'users', 'can', 'load', 'a', 'model',\n",
    "     'and', 'continue', 'training', 'it', 'with', 'more', 'sentences']\n",
    "]\n",
    "model.build_vocab(more_sentences, update=True)\n",
    "model.train(more_sentences, total_examples=model.corpus_count, epochs=model.iter)\n",
    "\n",
    "cleaning up temporary file\n",
    "import os\n",
    "os.remove(temporary_filepath)"
   ]
  },
  {
   "cell_type": "code",
   "execution_count": null,
   "metadata": {},
   "outputs": [],
   "source": []
  },
  {
   "cell_type": "markdown",
   "metadata": {},
   "source": [
    "## POLAR Framework code (https://github.com/Sandipan99/POLAR) :"
   ]
  },
  {
   "cell_type": "code",
   "execution_count": null,
   "metadata": {},
   "outputs": [],
   "source": []
  },
  {
   "cell_type": "code",
   "execution_count": 22,
   "metadata": {},
   "outputs": [],
   "source": [
    "import numpy as np\n",
    "import gensim\n",
    "from numpy import linalg\n",
    "\n",
    "from sklearn.metrics.pairwise import cosine_similarity\n",
    "from tqdm import tqdm_notebook as tqdm\n",
    "import time\n",
    "from random import shuffle\n",
    "import sys\n",
    "import nltk \n",
    "from nltk.corpus import wordnet \n",
    "import gc\n",
    "from collections import defaultdict\n",
    "import random\n",
    "import json\n",
    "import os\n",
    "\n",
    "from gensim.scripts.glove2word2vec import glove2word2vec\n",
    "from gensim.test.utils import datapath, get_tmpfile\n",
    "\n",
    "from gensim.test.utils import datapath\n",
    "#%load_ext autotime"
   ]
  },
  {
   "cell_type": "code",
   "execution_count": 23,
   "metadata": {},
   "outputs": [],
   "source": [
    "current_model=model = word2vec"
   ]
  },
  {
   "cell_type": "code",
   "execution_count": 24,
   "metadata": {},
   "outputs": [
    {
     "name": "stderr",
     "output_type": "stream",
     "text": [
      "/opt/anaconda3/lib/python3.7/site-packages/ipykernel_launcher.py:9: DeprecationWarning: Call to deprecated `__contains__` (Method will be removed in 4.0.0, use self.wv.__contains__() instead).\n",
      "  if __name__ == '__main__':\n",
      "/opt/anaconda3/lib/python3.7/site-packages/ipykernel_launcher.py:19: DeprecationWarning: Call to deprecated `__contains__` (Method will be removed in 4.0.0, use self.wv.__contains__() instead).\n",
      "/opt/anaconda3/lib/python3.7/site-packages/ipykernel_launcher.py:28: DeprecationWarning: Call to deprecated `__contains__` (Method will be removed in 4.0.0, use self.wv.__contains__() instead).\n",
      "/opt/anaconda3/lib/python3.7/site-packages/ipykernel_launcher.py:37: DeprecationWarning: Call to deprecated `__contains__` (Method will be removed in 4.0.0, use self.wv.__contains__() instead).\n"
     ]
    }
   ],
   "source": [
    "list_antonym = []\n",
    "\n",
    "with open(r'Antonym_sets/LenciBenotto.val') as fp:\n",
    "    for line in fp:\n",
    "        parts = line.split()\n",
    "        if parts[3]=='antonym':\n",
    "            word1 = parts[0].split('-')[0]\n",
    "            word2 = parts[1].split('-')[0]\n",
    "            if word1 in current_model and word2 in current_model:\n",
    "                list_antonym.append((word1.strip().lower(), word2.strip().lower()))\n",
    "\n",
    "\n",
    "with open(r'Antonym_sets/LenciBenotto.test') as fp:\n",
    "    for line in fp:\n",
    "        parts = line.split()\n",
    "        if parts[3]=='antonym':\n",
    "            word1 = parts[0].split('-')[0]\n",
    "            word2 = parts[1].split('-')[0]\n",
    "            if word1 in current_model and word2 in current_model:\n",
    "                list_antonym.append((word1.strip().lower(), word2.strip().lower()))\n",
    "                \n",
    "with open(r'Antonym_sets/EVALution.val') as fp:\n",
    "    for line in fp:\n",
    "        parts = line.split()\n",
    "        if parts[3]=='antonym':\n",
    "            word1 = parts[0].split('-')[0]\n",
    "            word2 = parts[1].split('-')[0]\n",
    "            if word1 in current_model and word2 in current_model:\n",
    "                list_antonym.append((word1.strip().lower(), word2.strip().lower()))\n",
    "                \n",
    "with open(r'Antonym_sets/EVALution.test') as fp:\n",
    "    for line in fp:\n",
    "        parts = line.split()\n",
    "        if parts[3]=='antonym':\n",
    "            word1 = parts[0].split('-')[0]\n",
    "            word2 = parts[1].split('-')[0]\n",
    "            if word1 in current_model and word2 in current_model:\n",
    "                list_antonym.append((word1.strip().lower(), word2.strip().lower()))\n",
    "                \n",
    "                \n",
    "list_antonym = list(dict.fromkeys(list_antonym).keys())"
   ]
  },
  {
   "cell_type": "code",
   "execution_count": 25,
   "metadata": {},
   "outputs": [
    {
     "name": "stdout",
     "output_type": "stream",
     "text": [
      "[('implicate', 'exclude'), ('assertion', 'rejection'), ('terminal', 'beginning'), ('lop', 'secure'), ('pastor', 'libertine'), ('pocket', 'hook'), ('orbital', 'stationary'), ('evidence', 'disprove'), ('psychological', 'biological'), ('preparedness', 'unprepared'), ('saturation', 'dehydration'), ('geologic', 'biologic'), ('accessibility', 'secured'), ('fight', 'agree'), ('lump', 'smooth'), ('double', 'half'), ('training', 'forgetting'), ('determined', 'negligent'), ('velocity', 'still'), ('shield', 'vulnerable'), ('measurement', 'guess'), ('iconic', 'ordinary'), ('thump', 'caress'), ('stretcher', 'compressor'), ('allude', 'distract'), ('cemetery', 'birthplace'), ('corrupt', 'sanctify'), ('cameraman', 'actor'), ('knowledgeable', 'uninformed'), ('screech', 'talk'), ('hedge', 'squander'), ('aggregate', 'please'), ('constrict', 'open'), ('make', 'break'), ('normative', 'descriptive'), ('inscribe', 'polish'), ('bulge', 'hollow'), ('edit', 'expand'), ('sensory', 'numb'), ('immobilize', 'move'), ('iodine', 'water'), ('innovator', 'follower'), ('arachnid', 'serpent'), ('coupling', 'divorce'), ('zone', 'free'), ('caretaker', 'stranger'), ('admiration', 'loathing'), ('pneumatic', 'clear'), ('amalgamate', 'separate'), ('arbor', 'wasteland')]\n",
      "2955\n"
     ]
    }
   ],
   "source": [
    "print(list_antonym[0:50])\n",
    "print(len(list_antonym))"
   ]
  },
  {
   "cell_type": "code",
   "execution_count": 26,
   "metadata": {},
   "outputs": [
    {
     "name": "stdout",
     "output_type": "stream",
     "text": [
      "defaultdict(<class 'list'>, {})\n"
     ]
    },
    {
     "data": {
      "application/vnd.jupyter.widget-view+json": {
       "model_id": "95ef601ed5324f2c823d80347e5454f2",
       "version_major": 2,
       "version_minor": 0
      },
      "text/plain": [
       "HBox(children=(IntProgress(value=0, max=2955), HTML(value='')))"
      ]
     },
     "metadata": {},
     "output_type": "display_data"
    },
    {
     "name": "stdout",
     "output_type": "stream",
     "text": [
      "\n"
     ]
    },
    {
     "data": {
      "application/vnd.jupyter.widget-view+json": {
       "model_id": "f112405933fa42228418daa65c491a21",
       "version_major": 2,
       "version_minor": 0
      },
      "text/plain": [
       "HBox(children=(IntProgress(value=0, max=1409), HTML(value='')))"
      ]
     },
     "metadata": {},
     "output_type": "display_data"
    },
    {
     "name": "stdout",
     "output_type": "stream",
     "text": [
      "\n"
     ]
    },
    {
     "data": {
      "application/vnd.jupyter.widget-view+json": {
       "model_id": "88af98498b914b4587d47b22a18307ff",
       "version_major": 2,
       "version_minor": 0
      },
      "text/plain": [
       "HBox(children=(IntProgress(value=0, max=1409), HTML(value='')))"
      ]
     },
     "metadata": {},
     "output_type": "display_data"
    },
    {
     "name": "stdout",
     "output_type": "stream",
     "text": [
      "\n",
      "[('exclude', 'inscribe'), ('assertion', 'lazy'), ('beginning', 'terminal'), ('lop', 'secure'), ('libertine', 'pastor'), ('hook', 'pocket'), ('orbital', 'stable'), ('disprove', 'document'), ('biological', 'psychological'), ('preparedness', 'unprepared'), ('dehydration', 'saturation'), ('biologic', 'geologic'), ('accessibility', 'secured'), ('agree', 'crab'), ('lump', 'spread'), ('double', 'indivisible'), ('forgetting', 'training'), ('determined', 'lazy'), ('still', 'velocity'), ('shield', 'vulnerable'), ('guess', 'measurement'), ('iconic', 'ordinary'), ('caress', 'punch'), ('compressor', 'stretcher'), ('allude', 'declare'), ('birthplace', 'cemetery'), ('corrupt', 'honor'), ('actor', 'cameraman'), ('knowledgeable', 'naive'), ('screech', 'talk'), ('hedge', 'plain'), ('aggregate', 'please'), ('constrict', 'free'), ('break', 'work'), ('descriptive', 'normative'), ('inscribe', 'polish'), ('bulge', 'thin'), ('edit', 'include'), ('numb', 'sensory'), ('immobilize', 'tour'), ('iodine', 'water'), ('follower', 'innovator'), ('arachnid', 'fly'), ('coupling', 'solitude'), ('free', 'stockade'), ('caretaker', 'continual'), ('admiration', 'hate'), ('clear', 'thunder'), ('amalgamate', 'parse'), ('arbor', 'barren'), ('arboreal', 'urban'), ('disconnection', 'intercourse'), ('journey', 'remain'), ('decentralize', 'streamline'), ('concise', 'redundant'), ('brush', 'hedge'), ('disperse', 'lump'), ('abuser', 'caretaker'), ('boredom', 'party'), ('confer', 'retrieve'), ('cow', 'lobster'), ('metamorphosis', 'unchanged'), ('kiwi', 'potato'), ('blueberry', 'raspberry'), ('mystical', 'normal'), ('absolve', 'bill'), ('initial', 'terminal'), ('fan', 'still'), ('defamation', 'promotional'), ('philosophical', 'unreasonable'), ('flick', 'punch'), ('cameraman', 'subject'), ('genuine', 'superficial'), ('picture', 'write'), ('poor', 'shah'), ('bragging', 'humble'), ('cemetery', 'nursery'), ('appealing', 'gross'), ('argue', 'confer'), ('muddle', 'organise'), ('accountant', 'musician'), ('crazy', 'rationale'), ('rest', 'tire'), ('metropolitan', 'rural'), ('civic', 'external'), ('abstain', 'try'), ('cure', 'diagnose'), ('copycat', 'innovator'), ('assailant', 'caretaker'), ('porcupine', 'zebra'), ('humble', 'owed'), ('factual', 'gauge'), ('spiral', 'straighten'), ('experience', 'new'), ('physical', 'psychiatric'), ('complicate', 'plain'), ('sleet', 'snowball'), ('orange', 'tomato'), ('boom', 'decay'), ('groove', 'invalidate'), ('citation', 'warning'), ('fatalistic', 'open'), ('chemical', 'sweet'), ('contaminate', 'purity'), ('disciplinary', 'free'), ('confine', 'release'), ('caffeine', 'marijuana'), ('pneumatic', 'shapeless'), ('interpret', 'misinterpret'), ('auditory', 'deaf'), ('construe', 'keep'), ('condemn', 'pardon'), ('consume', 'power'), ('congestive', 'digestive'), ('bird', 'human'), ('clam', 'open'), ('deconstruct', 'structure'), ('leaflet', 'novel'), ('conjunct', 'esoteric'), ('disclose', 'secrete'), ('presentment', 'surprise'), ('dim', 'twinkle'), ('abuse', 'protect'), ('aware', 'naivety'), ('linguistic', 'silent'), ('estimate', 'gauge'), ('end', 'spring'), ('distasteful', 'sensory'), ('doing', 'training'), ('erase', 'tabulate'), ('condenser', 'stretcher'), ('incandescent', 'tallow'), ('mislead', 'redirect'), ('countryside', 'township'), ('gauge', 'ignore'), ('critique', 'guess'), ('settle', 'tour'), ('conceal', 'disclose'), ('directionless', 'helm'), ('anarchist', 'shah'), ('heal', 'kill'), ('fixer', 'wrecker'), ('polish', 'scratch'), ('avoid', 'tour'), ('abdicate', 'challenge'), ('barley', 'weed'), ('fiscal', 'unable'), ('atmospheric', 'geologic'), ('supervised', 'unsupervised'), ('affix', 'lop'), ('open', 'zone'), ('thump', 'whine'), ('endemic', 'foreign'), ('dodge', 'inscribe'), ('catalogue', 'disorder'), ('obituary', 'parody'), ('naivety', 'wise'), ('audition', 'avoid'), ('planet', 'satellite'), ('intoxicate', 'sober'), ('emotional', 'reserved'), ('correct', 'miss'), ('cole', 'mineral'), ('flower', 'stem'), ('coil', 'spring'), ('able', 'invalid'), ('forget', 'pine'), ('muscular', 'neural'), ('boastful', 'humble'), ('chair', 'table'), ('despotic', 'fair'), ('digestive', 'unhealthy'), ('calculated', 'pneumatic'), ('dirty', 'evidence'), ('stout', 'thin'), ('distress', 'groove'), ('artist', 'plebeian'), ('better', 'corrupt'), ('automated', 'manual'), ('dumb', 'philosophical'), ('specific', 'vague'), ('court', 'repel'), ('insured', 'uninsured'), ('coriander', 'none'), ('chap', 'enemy'), ('crab', 'joy'), ('meaningless', 'rationale'), ('thankful', 'ungrateful'), ('hurricane', 'sandstorm'), ('fancy', 'plain'), ('concealment', 'presentment'), ('normal', 'psychiatric'), ('emptiness', 'saturation'), ('lean', 'stout'), ('randomize', 'tabulate'), ('compass', 'lost'), ('invade', 'protect'), ('cleanse', 'corrupt'), ('dull', 'polish'), ('innovator', 'traditionalist'), ('awaken', 'tire'), ('straightforward', 'symbolic'), ('buff', 'knitwear'), ('processed', 'unrefined'), ('potpourri', 'skunk'), ('exoteric', 'mystical'), ('historic', 'insignificant'), ('fashion', 'taste'), ('innate', 'training'), ('pardon', 'punish'), ('fish', 'mammal'), ('terminal', 'unfinished'), ('slider', 'stationary'), ('extrasensory', 'sensory'), ('divide', 'sum'), ('complete', 'piece'), ('immortal', 'mortal'), ('emperor', 'peasant'), ('advantageous', 'disadvantageous'), ('unsupervised', 'watched'), ('tribal', 'universal'), ('cod', 'shark'), ('estimation', 'measurement'), ('pasture', 'stockade'), ('resting', 'training'), ('pristine', 'unclean'), ('boring', 'climatic'), ('park', 'ride'), ('ignore', 'nose'), ('bop', 'sit'), ('prime', 'worst'), ('dust', 'stone'), ('pulmonary', 'systemic'), ('fact', 'story'), ('chastity', 'sexuality'), ('create', 'kill'), ('mantle', 'window'), ('current', 'historic'), ('antimatter', 'matter'), ('instructive', 'unclear'), ('halter', 'release'), ('grape', 'kiwi'), ('nationality', 'solitude'), ('aircraft', 'car'), ('chicken', 'turkey'), ('beeline', 'zigzag'), ('inhabit', 'vacate'), ('gross', 'polite'), ('loner', 'tribal'), ('lawful', 'unlawful'), ('disjoint', 'joint'), ('birth', 'die'), ('unite', 'zone'), ('confirmed', 'unconfirmed'), ('soft', 'stone'), ('accidental', 'intentional'), ('invalid', 'true'), ('invalidate', 'support'), ('pad', 'stone'), ('combine', 'tear'), ('invent', 'replicate'), ('spring', 'squat'), ('unicorn', 'zebra'), ('beat', 'strum'), ('implicate', 'simplify'), ('encrypt', 'interpret'), ('automatic', 'manual'), ('irrational', 'rationale'), ('confuse', 'structure'), ('cooperation', 'rivalry'), ('neglect', 'training'), ('consist', 'undo'), ('partial', 'whole'), ('disadvantageous', 'good'), ('sink', 'uplift'), ('moan', 'screech'), ('irregularly', 'quarterly'), ('denial', 'psychology'), ('deadpan', 'emotional'), ('block', 'fan'), ('matter', 'nothing'), ('confusing', 'instructive'), ('quit', 'try'), ('drop', 'pyramid'), ('fungus', 'iodine'), ('pastime', 'toil'), ('blind', 'corneal'), ('educator', 'learner'), ('copier', 'innovator'), ('export', 'import'), ('rationale', 'senseless'), ('disassemble', 'edit'), ('hiding', 'presentment'), ('exceptional', 'modal'), ('alleviation', 'starting'), ('carnivore', 'omnivore'), ('ground', 'skyline'), ('skunk', 'tie'), ('annual', 'quarterly'), ('start', 'terminal'), ('tap', 'thump'), ('airless', 'pneumatic'), ('country', 'metropolitan'), ('grow', 'trim'), ('pine', 'progress'), ('commitment', 'detachment'), ('impossible', 'probable'), ('chat', 'presentment'), ('leaf', 'leaflet'), ('evidence', 'miss'), ('impure', 'pure'), ('intercourse', 'isolation'), ('dependent', 'unsupervised'), ('known', 'unknown'), ('ignorance', 'training'), ('excitable', 'tame'), ('slowness', 'velocity'), ('congruence', 'contradiction'), ('cyclonic', 'placid'), ('lose', 'skunk'), ('shout', 'whisper'), ('documentary', 'parody'), ('rain', 'sun'), ('flood', 'sandstorm'), ('set', 'slam'), ('scribe', 'talk'), ('solidify', 'whisk'), ('symphonic', 'untuned'), ('convict', 'pardon'), ('harmful', 'pathological'), ('hole', 'pocket'), ('indeterminate', 'nationality'), ('flask', 'vat'), ('enable', 'immobilize'), ('guide', 'swat'), ('psychiatric', 'well'), ('balanced', 'psychiatric'), ('deduce', 'scramble'), ('encore', 'over'), ('deteriorate', 'make'), ('asexuality', 'sexuality'), ('detest', 'fancy'), ('saturation', 'solid'), ('pocket', 'rock'), ('settled', 'tribal'), ('lowest', 'prime'), ('collection', 'distribution'), ('trombone', 'trumpet'), ('discourage', 'uplift'), ('battle', 'treat'), ('opening', 'pocket'), ('give', 'pocket'), ('document', 'forget'), ('shoreline', 'skyline'), ('smooth', 'trouble'), ('agreement', 'contradiction'), ('goodbye', 'hello'), ('rub', 'scratch'), ('affirm', 'evidence'), ('hush', 'pontificate'), ('confident', 'neural'), ('maze', 'understanding'), ('ingrate', 'thankful'), ('pathological', 'proper'), ('maximum', 'minimum'), ('idle', 'recreation'), ('bottom', 'halter'), ('eternal', 'mortal'), ('ambiguity', 'commitment'), ('trivial', 'vital'), ('extravagant', 'thrifty'), ('mate', 'split'), ('flock', 'pastor'), ('improbable', 'probable'), ('cerebral', 'emotional'), ('extricate', 'implicate'), ('glare', 'wink'), ('conservative', 'nihilistic'), ('completeness', 'emptiness'), ('desert', 'saloon'), ('pontificate', 'quiet'), ('fight', 'nice'), ('fee', 'free'), ('bothered', 'unaffected'), ('elephant', 'plant'), ('face', 'hedge'), ('leopard', 'zebra'), ('photographic', 'ugly'), ('aft', 'helm'), ('born', 'uterine'), ('saloon', 'teahouse'), ('locality', 'nationality'), ('exonerate', 'implicate'), ('postal', 'verbal'), ('kill', 'revive'), ('quiet', 'thunder'), ('annoy', 'rub'), ('queen', 'shah'), ('bible', 'geologic'), ('dry', 'river'), ('purity', 'sexuality'), ('flat', 'hill'), ('republicans', 'workforce'), ('barrel', 'flask'), ('contrast', 'copy'), ('bare', 'shield'), ('repel', 'structure'), ('rivalry', 'unity'), ('careless', 'provident'), ('devolve', 'evolve'), ('cloud', 'stone'), ('harmony', 'rivalry'), ('assume', 'evidence'), ('pet', 'swat'), ('oppose', 'trim'), ('promotional', 'reserved'), ('apathetic', 'excitable'), ('mindless', 'philosophical'), ('germ', 'iodine'), ('pedantic', 'poetic'), ('alert', 'conceal'), ('individual', 'workforce'), ('audio', 'leaflet'), ('scatter', 'zone'), ('lengthen', 'tabulate'), ('episodic', 'orbital'), ('dead', 'immortal'), ('decline', 'try'), ('nasal', 'uterine'), ('demolish', 'polish'), ('arrival', 'journey'), ('contradiction', 'verification'), ('training', 'untrained'), ('knitwear', 'underwear'), ('petite', 'stout'), ('funded', 'impoverished'), ('meaninglessness', 'symbolism'), ('power', 'weak'), ('stroll', 'tour'), ('prostate', 'uterine'), ('indispensable', 'trash'), ('abstinence', 'intercourse'), ('concentration', 'distribution'), ('medicinal', 'psychology'), ('modal', 'still'), ('compress', 'pyramid'), ('bump', 'groove'), ('omnivore', 'vegan'), ('lessen', 'snowball'), ('slow', 'whisk'), ('cut', 'power'), ('calm', 'fan'), ('drag', 'whisk'), ('listen', 'pontificate'), ('inferior', 'prime'), ('covered', 'uninsured'), ('forward', 'vague'), ('punch', 'stroke'), ('fall', 'raise'), ('layperson', 'pastor'), ('closure', 'split'), ('explicit', 'vague'), ('democratic', 'despotic'), ('leisure', 'rush'), ('mend', 'split'), ('cluster', 'zone'), ('lower', 'pyramid'), ('organized', 'unstructured'), ('land', 'oceanic'), ('nihilistic', 'positive'), ('mountainous', 'oceanic'), ('geologic', 'plastic'), ('hopeful', 'nihilistic'), ('dimensional', 'static'), ('church', 'saloon'), ('bill', 'coin'), ('affected', 'unaffected'), ('actual', 'symbolic'), ('singular', 'tribal'), ('morphological', 'spiritual'), ('meaningful', 'nihilistic'), ('praise', 'slam'), ('buy', 'free'), ('satisfactory', 'unsatisfactory'), ('arrive', 'leave'), ('hat', 'mantle'), ('dissonant', 'symphonic'), ('parting', 'rendezvous'), ('sexless', 'sexuality'), ('ink', 'paper'), ('continue', 'redirect'), ('blacken', 'picture'), ('moon', 'planet'), ('dispersion', 'distribution'), ('manual', 'visual'), ('division', 'intercourse'), ('rainstorm', 'sandstorm'), ('deprivation', 'sensory'), ('depleted', 'funded'), ('irregular', 'normative'), ('associative', 'friendly'), ('differentiate', 'replicate'), ('cube', 'pyramid'), ('flatter', 'pontificate'), ('lavish', 'thrifty'), ('chatter', 'psychology'), ('unconfirmed', 'verified'), ('massive', 'weightless'), ('depressing', 'excitable'), ('chaos', 'compass'), ('tour', 'wander'), ('perfume', 'skunk'), ('question', 'symbolism'), ('rumour', 'truth'), ('audience', 'presentment'), ('recreation', 'work'), ('helm', 'rear'), ('slim', 'stout'), ('harsh', 'symphonic'), ('detract', 'sum'), ('useless', 'vital'), ('join', 'separation'), ('legal', 'unlawful'), ('temporary', 'terminal'), ('forgettable', 'iconic'), ('dismiss', 'ink'), ('distort', 'picture'), ('unnecessary', 'vital'), ('education', 'ignorance'), ('split', 'union'), ('medicine', 'tsetse'), ('desertion', 'stockade'), ('weighted', 'weightless'), ('certain', 'uninsured'), ('pastor', 'satanist'), ('distribution', 'single'), ('aridity', 'saturation'), ('tomato', 'township'), ('exact', 'vague'), ('abstract', 'photographic'), ('impartial', 'partial'), ('forever', 'wink'), ('spontaneous', 'taxonomic'), ('whisper', 'yell'), ('prohibition', 'saloon'), ('blandness', 'sensory'), ('flute', 'trombone'), ('mundane', 'mystical'), ('realism', 'symbolism'), ('destroy', 'fancy'), ('township', 'unincorporated'), ('refined', 'unrefined'), ('align', 'contrast'), ('parody', 'truth'), ('deep', 'short'), ('apparent', 'symbolic'), ('stationary', 'velocity'), ('bartering', 'fiscal'), ('halve', 'replicate'), ('clean', 'gross'), ('drama', 'parody'), ('literal', 'poetic'), ('herbivore', 'omnivore'), ('spirituality', 'taxonomic'), ('foot', 'head'), ('aid', 'skunk'), ('close', 'punch'), ('empty', 'matter'), ('average', 'iconic'), ('resonate', 'single'), ('nose', 'speed'), ('noticed', 'unnoticed'), ('faithful', 'skunk'), ('defend', 'implicate'), ('performing', 'training'), ('deaf', 'sensitive'), ('rigid', 'stretcher'), ('biblical', 'scientific'), ('clash', 'groove'), ('climatic', 'trivial'), ('musician', 'mute'), ('acceptable', 'unsatisfactory'), ('bowl', 'plate'), ('kiss', 'punch'), ('mastery', 'naivety'), ('futuristic', 'historic'), ('foreground', 'skyline'), ('none', 'skyline'), ('expensive', 'thrifty'), ('rural', 'township'), ('preferred', 'unfavorable'), ('pointless', 'symbolism'), ('profound', 'superficial'), ('snowball', 'water'), ('depress', 'pyramid'), ('structured', 'unstructured'), ('corroborate', 'invalidate'), ('single', 'tribal'), ('bore', 'intoxicate'), ('animals', 'nationality'), ('skyline', 'submarine'), ('fiery', 'oceanic'), ('expose', 'shield'), ('unemployment', 'workforce'), ('peaceful', 'sandstorm'), ('favorable', 'unfavorable'), ('pure', 'unrefined'), ('pat', 'rub'), ('clearness', 'sandstorm'), ('progressive', 'stable'), ('arbitrary', 'intentional'), ('poetic', 'rambling'), ('aggressor', 'caretaker'), ('achieve', 'lose'), ('inertia', 'velocity'), ('sand', 'stone'), ('ion', 'neutron'), ('taxonomic', 'unclassified'), ('pouch', 'uterine'), ('flawed', 'stone'), ('piano', 'trombone'), ('loaf', 'toil'), ('lumbar', 'pulmonary'), ('debonair', 'unrefined'), ('blindfold', 'compass'), ('parse', 'sum'), ('hold', 'spring'), ('builder', 'wrecker'), ('enliven', 'immobilize'), ('aggravation', 'alleviation'), ('astronomic', 'geologic'), ('follow', 'helm'), ('openness', 'stockade'), ('chin', 'foot'), ('salon', 'saloon'), ('extend', 'lop'), ('detoxify', 'intoxicate'), ('rendezvous', 'separate'), ('flashback', 'innovator'), ('diagnose', 'forget'), ('air', 'matter'), ('constant', 'orbital'), ('representative', 'unassociated'), ('curable', 'terminal'), ('alley', 'maze'), ('connect', 'divorce'), ('clown', 'educator'), ('stillness', 'stretcher'), ('famous', 'unknown'), ('ant', 'elephant'), ('fade', 'twinkle'), ('pyramid', 'weary'), ('disarray', 'preparedness'), ('avoidance', 'intercourse'), ('dispersal', 'rendezvous'), ('mental', 'pulmonary'), ('drain', 'power'), ('nonsense', 'rationale'), ('bureaucrat', 'musician'), ('darken', 'twinkle'), ('hearth', 'mantle'), ('commoner', 'emperor'), ('quarterly', 'yearly'), ('maintain', 'redirect'), ('abandon', 'hedge'), ('downfall', 'prime'), ('celibacy', 'intercourse'), ('loathe', 'pine'), ('depart', 'rendezvous'), ('mess', 'organise'), ('peach', 'tomato'), ('linear', 'orbital'), ('business', 'recreation'), ('critic', 'musician'), ('homage', 'parody'), ('ignorant', 'knowledgeable'), ('add', 'trim'), ('field', 'forest'), ('proportionate', 'unbalanced'), ('cynicism', 'naivety'), ('discordant', 'symphonic'), ('fluid', 'stone'), ('fictional', 'historic'), ('oceanic', 'shallow'), ('construct', 'deteriorate'), ('comply', 'helm'), ('dryness', 'saturation'), ('accept', 'critique'), ('increase', 'pine'), ('australian', 'kiwi'), ('human', 'zebra'), ('glance', 'tour'), ('acquittal', 'presentment'), ('symbolic', 'useless'), ('minor', 'prime'), ('delete', 'document'), ('blunt', 'hone'), ('monotone', 'poetic'), ('unimportant', 'vital'), ('frog', 'tsetse'), ('artichoke', 'kiwi'), ('alone', 'representative'), ('explained', 'pathological'), ('customize', 'replicate'), ('recognized', 'unnoticed'), ('fireball', 'snowball'), ('protect', 'punch'), ('destructive', 'instructive'), ('creator', 'wrecker'), ('abstraction', 'symbolism'), ('heed', 'wink'), ('layman', 'pastor'), ('phagocyte', 'virus'), ('clutter', 'organise'), ('bankrupt', 'funded'), ('fabric', 'knitwear'), ('be', 'picture'), ('gripper', 'slider'), ('inactivate', 'power'), ('economics', 'psychology'), ('criminal', 'pastor'), ('recoverable', 'unrecoverable'), ('flatten', 'pyramid'), ('seen', 'unnoticed'), ('cultured', 'unrefined'), ('antineutron', 'neutron'), ('iron', 'weaken'), ('cleansed', 'unclean'), ('confirmation', 'contradiction'), ('get', 'snowball'), ('ceo', 'workforce'), ('facilitate', 'redirect'), ('blend', 'contrast'), ('hesitation', 'rationale'), ('psychology', 'reality'), ('paucity', 'saturation'), ('dislike', 'pine'), ('lone', 'tribal'), ('even', 'uneven'), ('blurry', 'photographic'), ('left', 'right'), ('provident', 'wasteful'), ('subtract', 'tabulate'), ('adhere', 'lop'), ('space', 'zone'), ('backward', 'progressive'), ('relax', 'work'), ('unrelated', 'uterine'), ('cynical', 'unaffected'), ('lost', 'recoverable'), ('blot', 'ink'), ('symmetrical', 'uneven'), ('accountable', 'despotic'), ('freestyle', 'structure'), ('sit', 'spring'), ('atypical', 'representative'), ('ethereal', 'geologic'), ('excuse', 'rationale'), ('friendship', 'rivalry'), ('irrelevant', 'matter'), ('citizen', 'emperor'), ('heavy', 'weightless'), ('configure', 'disjoint'), ('allow', 'edit'), ('restaurant', 'saloon'), ('stay', 'tour'), ('athlete', 'musician'), ('shirk', 'toil'), ('earthy', 'oceanic'), ('management', 'workforce'), ('arm', 'disarm'), ('breathless', 'pulmonary'), ('range', 'stockade'), ('stare', 'wink'), ('intentional', 'unintentional'), ('hone', 'lose'), ('puddle', 'snowball'), ('peasant', 'shah'), ('build', 'tear'), ('freedom', 'stockade'), ('hate', 'pine'), ('fold', 'whisk'), ('make', 'nature'), ('ladybug', 'zebra'), ('arrogant', 'humble'), ('bonus', 'fee'), ('solo', 'symphonic'), ('skinny', 'stout'), ('consolidation', 'distribution'), ('read', 'watch'), ('fire', 'ink'), ('learned', 'naivety'), ('okay', 'unsatisfactory'), ('defile', 'uplift'), ('regal', 'unrefined'), ('unemployed', 'workforce'), ('widen', 'wink'), ('broken', 'funded'), ('apple', 'orange'), ('opportunity', 'shield'), ('silence', 'talk'), ('insert', 'strum'), ('deceased', 'mortal'), ('thrifty', 'wasteful'), ('full', 'hunger'), ('bang', 'strum'), ('box', 'maze'), ('overlook', 'resonate'), ('bag', 'flask'), ('enlarge', 'trim'), ('flyer', 'slider'), ('incidental', 'indispensable'), ('straighten', 'zigzag'), ('destroyed', 'recoverable'), ('dispensable', 'indispensable'), ('probable', 'unlikely'), ('sandstorm', 'sunshine'), ('agnostic', 'pastor'), ('stagnation', 'velocity'), ('obviousness', 'symbolism'), ('boil', 'ice'), ('big', 'compact'), ('recognize', 'unknown'), ('crowd', 'small'), ('sing', 'talk'), ('retire', 'work'), ('assemble', 'break'), ('attach', 'separate'), ('gentleman', 'player'), ('care', 'mean'), ('compact', 'huge'), ('sound', 'vision'), ('misunderstand', 'understand'), ('capital', 'small'), ('meet', 'pass'), ('modern', 'past'), ('appear', 'leave'), ('east', 'west'), ('blue', 'cloud'), ('melt', 'solid'), ('paper', 'rock'), ('press', 'pull'), ('fly', 'land'), ('breakfast', 'dinner'), ('black', 'light'), ('boy', 'female'), ('lip', 'nose'), ('road', 'street'), ('age', 'young'), ('decorate', 'plain'), ('mountain', 'plain'), ('happy', 'mean'), ('run', 'stop'), ('help', 'hurt'), ('house', 'tent'), ('have', 'miss'), ('life', 'mortal'), ('stiff', 'stretch'), ('brave', 'yellow'), ('practice', 'test'), ('fear', 'safe'), ('aluminium', 'tin'), ('back', 'main'), ('hard', 'simple'), ('negative', 'profit'), ('bright', 'smart'), ('column', 'row'), ('fail', 'success'), ('dirt', 'soap'), ('stone', 'water'), ('different', 'same'), ('homosexual', 'straight'), ('answer', 'pass'), ('ghost', 'real'), ('horizontal', 'vertical'), ('center', 'side'), ('pattern', 'plain'), ('race', 'slow'), ('use', 'waste'), ('loose', 'win'), ('fragile', 'strong'), ('animal', 'bug'), ('muscle', 'weak'), ('marriage', 'separation'), ('pressure', 'support'), ('busy', 'relax'), ('far', 'short'), ('pass', 'stop'), ('little', 'tall'), ('enter', 'exit'), ('bad', 'ideal'), ('cry', 'talk'), ('right', 'wrong'), ('keep', 'trade'), ('drink', 'solid'), ('low', 'tall'), ('communism', 'freedom'), ('stop', 'walk'), ('smart', 'thick'), ('recycle', 'waste'), ('healthy', 'weak'), ('save', 'waste'), ('male', 'woman'), ('home', 'work'), ('blow', 'create'), ('chill', 'heat'), ('heart', 'mind'), ('bottle', 'can'), ('hot', 'snow'), ('coin', 'note'), ('music', 'speech'), ('gun', 'knife'), ('depression', 'happiness'), ('dark', 'flash'), ('pay', 'steal'), ('nobody', 'person'), ('enemy', 'like'), ('float', 'sink'), ('copy', 'cut'), ('evil', 'nice'), ('enjoyment', 'pain'), ('down', 'rise'), ('move', 'stable'), ('edge', 'middle'), ('high', 'short'), ('collar', 'hem'), ('push', 'raise'), ('pepper', 'salt'), ('alphabet', 'count'), ('eye', 'hear'), ('adult', 'small'), ('defeat', 'success'), ('carpet', 'floor'), ('dress', 'strip'), ('good', 'poison'), ('door', 'hole'), ('silent', 'talk'), ('learn', 'stupid'), ('they', 'you'), ('floor', 'sky'), ('bounce', 'roll'), ('hide', 'see'), ('gentle', 'wild'), ('fat', 'health'), ('happen', 'peace'), ('earth', 'sea'), ('hour', 'second'), ('act', 'real'), ('real', 'test'), ('plan', 'surprise'), ('awake', 'rest'), ('lace', 'silk'), ('laugh', 'tear'), ('happiness', 'sadness'), ('past', 'present'), ('divine', 'nasty'), ('liquid', 'matter'), ('offspring', 'parent'), ('familiar', 'new'), ('gent', 'lady'), ('contract', 'grow'), ('burn', 'ice'), ('bone', 'flesh'), ('peace', 'violent'), ('garden', 'home'), ('history', 'news'), ('adventure', 'safe'), ('customer', 'worker'), ('cheap', 'value'), ('branch', 'join'), ('energy', 'lazy'), ('mistake', 'right'), ('slice', 'whole'), ('catch', 'free'), ('begin', 'middle'), ('credit', 'tax'), ('ceiling', 'wall'), ('courage', 'fear'), ('religion', 'science'), ('stale', 'sweet'), ('bold', 'shy'), ('action', 'rest'), ('north', 'west'), ('descend', 'rise'), ('fun', 'work'), ('donkey', 'horse'), ('log', 'stick'), ('strength', 'weak'), ('freeze', 'heat'), ('pleasure', 'unhappiness'), ('light', 'sound'), ('irritate', 'please'), ('metal', 'paper'), ('department', 'whole'), ('color', 'dull'), ('long', 'second'), ('ocean', 'sky'), ('bring', 'empty'), ('bolt', 'slow'), ('sick', 'well'), ('baby', 'old'), ('comfort', 'hard'), ('contain', 'out'), ('antique', 'new'), ('coward', 'noble'), ('night', 'sun'), ('drive', 'sit'), ('bitch', 'dog'), ('dance', 'sit'), ('perfect', 'rubbish'), ('salt', 'sugar'), ('rush', 'slow'), ('leave', 'reach'), ('hill', 'plain'), ('farm', 'town'), ('juice', 'milk'), ('heterosexual', 'homosexual'), ('comfortable', 'fear'), ('balance', 'prejudice'), ('machine', 'person'), ('escape', 'prison'), ('cool', 'geek'), ('charge', 'payment'), ('beautiful', 'plain'), ('roll', 'stop'), ('harvest', 'plant'), ('lie', 'rise'), ('squash', 'stretch'), ('cup', 'plate'), ('bitter', 'sugar'), ('private', 'see'), ('fur', 'scale'), ('off', 'work'), ('refuse', 'take'), ('fast', 'slow'), ('reduce', 'up'), ('look', 'touch'), ('late', 'present'), ('shade', 'sun'), ('excite', 'relax'), ('continent', 'sea'), ('rock', 'water'), ('glass', 'metal'), ('plant', 'rock'), ('corn', 'hay'), ('bed', 'seat'), ('innocent', 'trouble'), ('hall', 'room'), ('plain', 'unique'), ('chapter', 'page'), ('compound', 'simple'), ('lake', 'pond'), ('ascend', 'fall'), ('crime', 'justice'), ('active', 'tire'), ('benefit', 'punishment'), ('spot', 'stripe'), ('birthday', 'death'), ('nice', 'rank'), ('know', 'mystery'), ('cold', 'familiar'), ('everything', 'part'), ('song', 'talk'), ('butch', 'gentle'), ('play', 'rest'), ('honesty', 'lie'), ('hollow', 'solid'), ('body', 'leg'), ('middle', 'side'), ('grass', 'water'), ('bumpy', 'level'), ('anger', 'happy'), ('rapid', 'slow'), ('taste', 'vision'), ('professor', 'student'), ('injure', 'praise'), ('sky', 'water'), ('letter', 'number'), ('meat', 'plant'), ('cover', 'discover'), ('joy', 'pain'), ('nothing', 'play'), ('lift', 'press'), ('aisle', 'seat'), ('hear', 'see'), ('can', 'jar'), ('character', 'dull'), ('industry', 'nature'), ('milk', 'water'), ('blade', 'handle'), ('accident', 'purpose'), ('base', 'crown'), ('design', 'destroy'), ('student', 'teacher'), ('mobile', 'stationary'), ('hobby', 'work'), ('committee', 'individual'), ('joint', 'separate'), ('discover', 'loose'), ('closet', 'out'), ('fool', 'smart'), ('exercise', 'rest'), ('blood', 'bone'), ('boss', 'worker'), ('bush', 'tree'), ('lot', 'small'), ('snow', 'sun'), ('damage', 'protect'), ('water', 'wood'), ('advance', 'back'), ('bath', 'shower'), ('ear', 'mouth'), ('game', 'work'), ('sour', 'sugar'), ('number', 'word'), ('sharp', 'thick'), ('die', 'life'), ('future', 'history'), ('captain', 'follower'), ('erect', 'soft'), ('touch', 'vision'), ('slip', 'stand'), ('extinguish', 'light'), ('growth', 'reduce'), ('fork', 'knife'), ('everyone', 'nobody'), ('jog', 'walk'), ('all', 'piece'), ('wall', 'window'), ('same', 'unique'), ('affection', 'dislike'), ('call', 'text'), ('paint', 'paper'), ('heat', 'shade'), ('gay', 'straight'), ('bedroom', 'kitchen'), ('seat', 'stand'), ('ordinary', 'weird'), ('belief', 'fact'), ('strong', 'vulnerable'), ('useful', 'waste'), ('female', 'son'), ('divorce', 'engage'), ('foolish', 'smart'), ('company', 'loneliness'), ('ice', 'steam'), ('leg', 'toe'), ('mineral', 'vegetable'), ('dwell', 'move'), ('concentrate', 'distribute'), ('lady', 'men'), ('brake', 'pedal'), ('might', 'weak'), ('girl', 'he'), ('alive', 'disease'), ('disease', 'well'), ('funeral', 'party'), ('ferment', 'sweet'), ('mystery', 'open'), ('it', 'we'), ('pale', 'tan'), ('show', 'watch'), ('man', 'wife'), ('rise', 'sunset'), ('mild', 'violent'), ('head', 'rear'), ('common', 'royal'), ('marine', 'navy'), ('new', 'use'), ('miss', 'see'), ('day', 'morning'), ('disgust', 'nice'), ('city', 'nature'), ('gold', 'rubbish'), ('steal', 'trade'), ('rough', 'silk'), ('lazy', 'work'), ('important', 'useless'), ('soap', 'water'), ('finger', 'foot'), ('due', 'give'), ('pain', 'relief'), ('seed', 'tree'), ('mean', 'nice'), ('bullet', 'safe'), ('food', 'poison'), ('large', 'little'), ('conflict', 'peace'), ('art', 'ugly'), ('relaxation', 'work'), ('charm', 'dull'), ('gas', 'solid'), ('copper', 'iron'), ('test', 'work'), ('heel', 'toe'), ('cd', 'record'), ('complex', 'plain'), ('party', 'work'), ('stitch', 'tear'), ('animate', 'live'), ('bow', 'pluck'), ('positive', 'uncertain'), ('outside', 'room'), ('potato', 'rice'), ('quality', 'rubbish'), ('morning', 'night'), ('minute', 'second'), ('one', 'zero'), ('poison', 'safe'), ('leak', 'seal'), ('safe', 'trouble'), ('he', 'woman'), ('detail', 'general'), ('performance', 'practice'), ('club', 'diamond'), ('expand', 'reduce'), ('come', 'leave'), ('false', 'science'), ('chain', 'free'), ('oil', 'water'), ('steel', 'weak'), ('climb', 'fall'), ('crop', 'expand'), ('sheep', 'wolf'), ('benevolent', 'evil'), ('naughty', 'nice'), ('group', 'person'), ('straight', 'turn'), ('kind', 'mean'), ('control', 'free'), ('exist', 'nothing'), ('dash', 'dot'), ('enjoy', 'hate'), ('record', 'tape'), ('intelligent', 'stupid'), ('bleach', 'stain'), ('huge', 'small'), ('draw', 'trace'), ('pull', 'reach'), ('standard', 'strange'), ('want', 'waste'), ('gate', 'wall'), ('army', 'marine'), ('powerful', 'vulnerable'), ('intense', 'mild'), ('lyric', 'tune'), ('law', 'theory'), ('school', 'work'), ('screen', 'stage'), ('old', 'young'), ('solid', 'soup'), ('magic', 'science'), ('line', 'point'), ('crook', 'level'), ('delight', 'unhappy'), ('bull', 'chicken'), ('office', 'outside'), ('rule', 'subject'), ('idea', 'material'), ('dream', 'real'), ('money', 'payment'), ('loud', 'soft'), ('family', 'friend'), ('interior', 'outside'), ('separation', 'union'), ('cloudy', 'sunshine'), ('cement', 'mortar'), ('choose', 'refuse'), ('change', 'stable'), ('electron', 'neutron'), ('curve', 'square'), ('bark', 'bite'), ('punishment', 'reward'), ('movie', 'play'), ('arithmetic', 'read'), ('crater', 'hill'), ('stand', 'walk'), ('lightning', 'thunder'), ('energetic', 'lazy'), ('class', 'teacher'), ('plate', 'table'), ('flow', 'stop'), ('bat', 'field'), ('talk', 'write'), ('simple', 'smart'), ('root', 'trunk'), ('pupil', 'teacher'), ('thick', 'thin'), ('darkness', 'sunshine'), ('labor', 'machine'), ('sign', 'talk'), ('story', 'truth'), ('reward', 'stick'), ('book', 'film'), ('parent', 'son'), ('bread', 'meat'), ('short', 'tall'), ('beef', 'chicken'), ('elevator', 'stair'), ('cell', 'freedom'), ('satisfaction', 'unhappy'), ('hurt', 'protect'), ('cavity', 'fill'), ('vacation', 'work'), ('circle', 'line'), ('grind', 'play'), ('hatred', 'love'), ('exchange', 'keep'), ('beach', 'sea'), ('stretch', 'tight'), ('noise', 'silent'), ('store', 'trade'), ('bloom', 'die'), ('gum', 'tooth'), ('beauty', 'ugly'), ('garbage', 'valuable'), ('movement', 'quiet'), ('valuable', 'waste'), ('pan', 'pot'), ('enlightenment', 'ignorance'), ('confirm', 'question'), ('cat', 'mouse'), ('generous', 'mean'), ('both', 'one'), ('fine', 'pain'), ('great', 'less'), ('hardware', 'software'), ('beer', 'wine'), ('attic', 'basement'), ('forest', 'plain'), ('coffee', 'tea'), ('confidence', 'fear'), ('everybody', 'nobody'), ('object', 'person'), ('confusion', 'peace'), ('alcohol', 'water'), ('health', 'sick'), ('duck', 'stand'), ('shoe', 'sock'), ('handle', 'spout'), ('shadow', 'sun'), ('kitten', 'puppy'), ('sidewalk', 'street'), ('ride', 'walk'), ('decide', 'think'), ('father', 'offspring'), ('affair', 'spouse'), ('problem', 'solution'), ('fortune', 'trouble'), ('sickness', 'well'), ('dog', 'kitten'), ('me', 'you'), ('men', 'woman'), ('lemon', 'orange'), ('hail', 'rain'), ('nasty', 'respect'), ('sight', 'taste'), ('trip', 'vacation'), ('pretend', 'real'), ('river', 'sea'), ('see', 'touch'), ('mature', 'young'), ('speak', 'write'), ('needle', 'thread'), ('bear', 'lion'), ('admire', 'dislike'), ('bind', 'loose'), ('boyfriend', 'girl'), ('spit', 'swallow'), ('friend', 'strange'), ('drown', 'swim'), ('hit', 'miss'), ('factory', 'farm'), ('cigarette', 'pipe'), ('bike', 'car'), ('flight', 'walk'), ('hostility', 'peace'), ('imagination', 'real'), ('fraud', 'true'), ('fix', 'mobile'), ('sleep', 'wake'), ('green', 'red'), ('tell', 'watch'), ('love', 'war'), ('angel', 'evil'), ('radio', 'tv'), ('bathroom', 'bedroom'), ('sister', 'son'), ('friendly', 'mean'), ('we', 'you'), ('sea', 'sky'), ('hop', 'jump'), ('armor', 'clothe'), ('cheese', 'milk'), ('defense', 'prosecution'), ('general', 'unique'), ('kindness', 'mean'), ('original', 'reproduction'), ('death', 'exist'), ('error', 'perfect'), ('royal', 'subject'), ('brass', 'silver'), ('child', 'old'), ('cotton', 'wool'), ('doctor', 'patient'), ('god', 'mortal'), ('china', 'japan'), ('fasten', 'loose'), ('material', 'spirit')]\n"
     ]
    }
   ],
   "source": [
    "similarity_matrix = defaultdict(list)\n",
    "print(similarity_matrix)\n",
    "for each_pair in tqdm(list_antonym):\n",
    "    word1 = each_pair[0]\n",
    "    word2 = each_pair[1]\n",
    "    #print(each_pair)\n",
    "    #print(word1 < word2)\n",
    "    \n",
    "    if word1 < word2: ## welches wort länger ist\n",
    "        similarity_matrix[word1].append(word2)                  #defaultdict(<class 'list'>, {'exclude': ['inscribe']})\n",
    "        #print(similarity_matrix)\n",
    "    else:\n",
    "        similarity_matrix[word2].append(word1)\n",
    "    \n",
    "all_similarity = defaultdict(dict)\n",
    "for each_key in tqdm(similarity_matrix):\n",
    "    for each_value in similarity_matrix[each_key]:\n",
    "#         cosine_similarity([current_model[each_key]]\n",
    "        all_similarity[each_key][each_value] = abs(cosine_similarity([current_model.wv[each_key]],[current_model.wv[each_value]])[0][0])\n",
    "        #print(current_model[each_key])\n",
    "        #print(current_model[each_value])\n",
    "        #print(all_similarity[each_key][each_value])\n",
    "       \n",
    "final_antonym_list = []\n",
    "for index_counter, each_key in enumerate(tqdm(all_similarity)):\n",
    "#     print(each_key,all_similarity[each_key])\n",
    "    listofTuples = sorted(all_similarity[each_key].items() ,  key=lambda x: x[1])\n",
    "    #print(listofTuples)\n",
    "    final_antonym_list.append((each_key, listofTuples[0][0]))\n",
    " \n",
    "print(final_antonym_list)\n",
    "\n",
    "list_antonym = final_antonym_list"
   ]
  },
  {
   "cell_type": "code",
   "execution_count": 27,
   "metadata": {},
   "outputs": [
    {
     "name": "stdout",
     "output_type": "stream",
     "text": [
      "1409\n"
     ]
    }
   ],
   "source": [
    "print(len(list_antonym))"
   ]
  },
  {
   "cell_type": "code",
   "execution_count": 28,
   "metadata": {},
   "outputs": [],
   "source": [
    "num_antonym = 50#1468"
   ]
  },
  {
   "cell_type": "code",
   "execution_count": 29,
   "metadata": {},
   "outputs": [
    {
     "name": "stdout",
     "output_type": "stream",
     "text": [
      "(1409, 300)\n"
     ]
    }
   ],
   "source": [
    "## Find the antonym difference vectors\n",
    "antonymy_vector = []\n",
    "for each_word_pair in list_antonym:\n",
    "    antonymy_vector.append(current_model.wv[each_word_pair[0]]- current_model.wv[each_word_pair[1]])\n",
    "antonymy_vector = np.array(antonymy_vector)\n",
    "print(antonymy_vector.shape)"
   ]
  },
  {
   "cell_type": "code",
   "execution_count": 30,
   "metadata": {},
   "outputs": [
    {
     "name": "stdout",
     "output_type": "stream",
     "text": [
      "('beginning', 'terminal')\n"
     ]
    }
   ],
   "source": [
    "print(list_antonym[2])"
   ]
  },
  {
   "cell_type": "markdown",
   "metadata": {},
   "source": [
    "## Subset Dimension Selection Method"
   ]
  },
  {
   "cell_type": "code",
   "execution_count": 31,
   "metadata": {},
   "outputs": [
    {
     "data": {
      "application/vnd.jupyter.widget-view+json": {
       "model_id": "6037d9228e51497c9f51669bb0f8c7ed",
       "version_major": 2,
       "version_minor": 0
      },
      "text/plain": [
       "HBox(children=(IntProgress(value=0, max=1409), HTML(value='')))"
      ]
     },
     "metadata": {},
     "output_type": "display_data"
    },
    {
     "name": "stdout",
     "output_type": "stream",
     "text": [
      "\n"
     ]
    }
   ],
   "source": [
    "import random\n",
    "\n",
    "from scipy.spatial.distance import cosine as scipy_cosine\n",
    "random.seed(42)\n",
    "\n",
    "t1 = np.array(antonymy_vector)\n",
    "dimension_similarity_matrix = defaultdict(dict)\n",
    "for index_1, each_dim1 in enumerate(tqdm(t1)):\n",
    "    for index_2, each_dim2 in enumerate(t1):\n",
    "        dimension_similarity_matrix[index_1][index_2] = abs(1-scipy_cosine(each_dim1, each_dim2))\n",
    "        \n",
    "        \n",
    "def get_set_score(final_list, each_dim):\n",
    "    final_output = 0.0\n",
    "    for each_vec in final_list:\n",
    "        final_output += dimension_similarity_matrix[each_vec][each_dim]\n",
    "    return final_output/(len(final_list))\n",
    "        \n",
    "def select_subset_dimension(dim_vector, num_dim):\n",
    "    working_list = np.array(dim_vector)\n",
    "    \n",
    "    working_position_index = [i for i in range(working_list.shape[0])]\n",
    "    final_position_index = []\n",
    "    \n",
    "\n",
    "    print('working list is ready, shape', working_list.shape)\n",
    "    sel_dim = random.randrange(0, working_list.shape[0])\n",
    "\n",
    "    final_position_index.append(sel_dim)\n",
    "    \n",
    "    working_position_index.remove(sel_dim)\n",
    "\n",
    "    \n",
    "    for test_count in tqdm(range(num_dim-1)):\n",
    "        min_dim = None\n",
    "        min_score = 1000\n",
    "        for temp_index, each_dim in enumerate(working_position_index):\n",
    "#             print(each_dim)\n",
    "            temp_score = get_set_score(final_position_index, each_dim)\n",
    "            if temp_score< min_score:\n",
    "                min_score= temp_score\n",
    "                min_dim = each_dim\n",
    "        print(test_count,min_dim)\n",
    "        final_position_index.append(min_dim)\n",
    "        working_position_index.remove(min_dim)\n",
    "#         print(working_list.shape, len(final_list))\n",
    "    return final_position_index"
   ]
  },
  {
   "cell_type": "markdown",
   "metadata": {},
   "source": [
    "## Generate the ORTHOGONAL DIMENSION Order"
   ]
  },
  {
   "cell_type": "markdown",
   "metadata": {},
   "source": [
    "## Generate the ORTHOGONAL DIMENSION Order"
   ]
  },
  {
   "cell_type": "code",
   "execution_count": 32,
   "metadata": {},
   "outputs": [
    {
     "name": "stdout",
     "output_type": "stream",
     "text": [
      "working list is ready, shape (1409, 300)\n"
     ]
    },
    {
     "data": {
      "application/vnd.jupyter.widget-view+json": {
       "model_id": "d6bc918dfe504b79ad20f55314351abd",
       "version_major": 2,
       "version_minor": 0
      },
      "text/plain": [
       "HBox(children=(IntProgress(value=0, max=49), HTML(value='')))"
      ]
     },
     "metadata": {},
     "output_type": "display_data"
    },
    {
     "name": "stdout",
     "output_type": "stream",
     "text": [
      "0 528\n",
      "1 636\n",
      "2 188\n",
      "3 351\n",
      "4 453\n",
      "5 554\n",
      "6 1293\n",
      "7 1245\n",
      "8 1102\n",
      "9 535\n",
      "10 484\n",
      "11 1246\n",
      "12 382\n",
      "13 83\n",
      "14 1373\n",
      "15 1129\n",
      "16 940\n",
      "17 1071\n",
      "18 571\n",
      "19 616\n",
      "20 139\n",
      "21 1350\n",
      "22 582\n",
      "23 874\n",
      "24 155\n",
      "25 1081\n",
      "26 1387\n",
      "27 1386\n",
      "28 712\n",
      "29 1128\n",
      "30 213\n",
      "31 830\n",
      "32 1359\n",
      "33 834\n",
      "34 281\n",
      "35 974\n",
      "36 263\n",
      "37 1323\n",
      "38 891\n",
      "39 769\n",
      "40 1400\n",
      "41 1099\n",
      "42 1009\n",
      "43 933\n",
      "44 1197\n",
      "45 917\n",
      "46 888\n",
      "47 733\n",
      "48 552\n",
      "\n",
      "(50,)\n",
      "[1309  528  636  188  351  453  554 1293 1245 1102  535  484 1246  382\n",
      "   83 1373 1129  940 1071  571  616  139 1350  582  874  155 1081 1387\n",
      " 1386  712 1128  213  830 1359  834  281  974  263 1323  891  769 1400\n",
      " 1099 1009  933 1197  917  888  733  552]\n"
     ]
    }
   ],
   "source": [
    "num_antonym = 50\n",
    "orthogonal_antonymy_vector =np.array(select_subset_dimension(antonymy_vector, num_antonym))  \n",
    "print(orthogonal_antonymy_vector.shape)\n",
    "print(orthogonal_antonymy_vector)"
   ]
  },
  {
   "cell_type": "markdown",
   "metadata": {},
   "source": [
    "## Generate the RANDOM DIMENSION Order"
   ]
  },
  {
   "cell_type": "markdown",
   "metadata": {},
   "source": [
    "## Generate the RANDOM DIMENSION Order"
   ]
  },
  {
   "cell_type": "code",
   "execution_count": 33,
   "metadata": {},
   "outputs": [
    {
     "name": "stdout",
     "output_type": "stream",
     "text": [
      "1409\n"
     ]
    }
   ],
   "source": [
    "random_antonym_vector = [i for i in range(len(antonymy_vector))]\n",
    "random.shuffle(random_antonym_vector)\n",
    "print(len(random_antonym_vector))"
   ]
  },
  {
   "cell_type": "markdown",
   "metadata": {},
   "source": [
    "## Generate the MAXIMUM VARIANCE DIMENSION Order"
   ]
  },
  {
   "cell_type": "markdown",
   "metadata": {},
   "source": [
    "## Generate the MAXIMUM VARIANCE DIMENSION Order"
   ]
  },
  {
   "cell_type": "code",
   "execution_count": 34,
   "metadata": {},
   "outputs": [
    {
     "name": "stdout",
     "output_type": "stream",
     "text": [
      "The embedding size is 1409\n"
     ]
    },
    {
     "data": {
      "application/vnd.jupyter.widget-view+json": {
       "model_id": "aafcc162c75f4ee5bf52548cb8420298",
       "version_major": 2,
       "version_minor": 0
      },
      "text/plain": [
       "HBox(children=(IntProgress(value=0, max=147612), HTML(value='')))"
      ]
     },
     "metadata": {},
     "output_type": "display_data"
    },
    {
     "name": "stderr",
     "output_type": "stream",
     "text": [
      "/opt/anaconda3/lib/python3.7/site-packages/ipykernel_launcher.py:14: DeprecationWarning: Call to deprecated `__getitem__` (Method will be removed in 4.0.0, use self.wv.__getitem__() instead).\n",
      "  \n"
     ]
    },
    {
     "name": "stdout",
     "output_type": "stream",
     "text": [
      "\n",
      "147612\n"
     ]
    }
   ],
   "source": [
    "embedding_size = antonymy_vector.shape[0]   \n",
    "print('The embedding size is', embedding_size)\n",
    "\n",
    "\n",
    "variance_antonymy_vector_inverse = np.linalg.pinv(np.transpose(antonymy_vector))\n",
    "\n",
    "embedding_matrix = []\n",
    "\n",
    "\n",
    "total_words = 0\n",
    "for each_word in tqdm(current_model.wv.vocab):\n",
    "    total_words += 1\n",
    "\n",
    "    new_vector = np.matmul(variance_antonymy_vector_inverse,current_model[each_word])\n",
    "    \n",
    "    embedding_matrix.append(new_vector)\n",
    "print(total_words)"
   ]
  },
  {
   "cell_type": "code",
   "execution_count": 35,
   "metadata": {},
   "outputs": [],
   "source": [
    "del new_vector"
   ]
  },
  {
   "cell_type": "code",
   "execution_count": 36,
   "metadata": {},
   "outputs": [
    {
     "data": {
      "application/vnd.jupyter.widget-view+json": {
       "model_id": "285a3c149c6449c6a25f9332f15b8ed5",
       "version_major": 2,
       "version_minor": 0
      },
      "text/plain": [
       "HBox(children=(IntProgress(value=0, max=1409), HTML(value='')))"
      ]
     },
     "metadata": {},
     "output_type": "display_data"
    },
    {
     "name": "stdout",
     "output_type": "stream",
     "text": [
      "\n"
     ]
    }
   ],
   "source": [
    "variance_list = []\n",
    "\n",
    "embedding_matrix = np.array(embedding_matrix)\n",
    "\n",
    "for each_dimension in tqdm(range(embedding_matrix.shape[1])):\n",
    "    variance_list.append(np.var(embedding_matrix[:,each_dimension]))"
   ]
  },
  {
   "cell_type": "code",
   "execution_count": 37,
   "metadata": {},
   "outputs": [],
   "source": [
    "variance_antonymy_vector = [each for each in sorted(range(len(variance_list)), key=lambda i: variance_list[i], reverse=True)]"
   ]
  },
  {
   "cell_type": "code",
   "execution_count": 38,
   "metadata": {},
   "outputs": [],
   "source": [
    "del embedding_matrix"
   ]
  },
  {
   "cell_type": "code",
   "execution_count": 39,
   "metadata": {},
   "outputs": [],
   "source": [
    "del variance_list"
   ]
  },
  {
   "cell_type": "markdown",
   "metadata": {},
   "source": [
    "# Transformation to polar space"
   ]
  },
  {
   "cell_type": "markdown",
   "metadata": {},
   "source": [
    "# Transformation to polar space"
   ]
  },
  {
   "cell_type": "code",
   "execution_count": 40,
   "metadata": {},
   "outputs": [],
   "source": [
    "def transform_to_antonym_space(current_model, output_file_path, binary, current_antonymy_vector_inverse):\n",
    "    embedding_size = orthogonal_antonymy_vector.shape[0] #current_antonymy_vector_inverse.shape[0]   ##CHANGE THIS ACCORDINGLY!!!\n",
    "    print('New model size is',len(current_model.wv.vocab), embedding_size)\n",
    "\n",
    "    temp_file = None\n",
    "    \n",
    "    if binary:\n",
    "        temp_file = open(output_file_path,'wb')\n",
    "        temp_file.write(str.encode(str(len(current_model.wv.vocab))+' '+str(embedding_size)+'\\n'))\n",
    "    else:\n",
    "        temp_file = open(output_file_path,'w')\n",
    "        temp_file.write(str(len(current_model.wv.vocab))+' '+str(embedding_size)+'\\n')\n",
    "\n",
    "    total_words = 0\n",
    "    for each_word in tqdm(current_model.wv.vocab):\n",
    "        total_words += 1\n",
    "        if binary:\n",
    "            temp_file.write(str.encode(each_word+' '))\n",
    "        else:\n",
    "            temp_file.write(each_word+' ')\n",
    "\n",
    "        new_vector = np.matmul(current_antonymy_vector_inverse,current_model[each_word])\n",
    "\n",
    "        new_vector = new_vector/linalg.norm(new_vector)\n",
    "\n",
    "        \n",
    "        \n",
    "        if binary:\n",
    "            temp_file.write(new_vector)\n",
    "            temp_file.write(str.encode('\\n'))\n",
    "        else:\n",
    "            temp_file.write(str(new_vector))\n",
    "            temp_file.write('\\n')\n",
    "\n",
    "\n",
    "    temp_file.close()\n",
    "\n"
   ]
  },
  {
   "cell_type": "markdown",
   "metadata": {},
   "source": [
    "# Standard normal transform "
   ]
  },
  {
   "cell_type": "code",
   "execution_count": 41,
   "metadata": {},
   "outputs": [],
   "source": [
    "def standard_normal_dist_model(model, new_filename):\n",
    "    embedding_matrix = []\n",
    "    embedding_vocab = []\n",
    "\n",
    "    temp_file = open(new_filename,'wb')\n",
    "    temp_file.write(str.encode(str(model.vectors.shape[0])+' '+str(model.vectors.shape[1])+'\\n'))\n",
    "    \n",
    "    for each_word in tqdm(model.wv.vocab):\n",
    "        embedding_matrix.append(model[each_word])\n",
    "        embedding_vocab.append(each_word)\n",
    "    \n",
    "    embedding_matrix = np.array(embedding_matrix)\n",
    "    \n",
    "    print('The shape of embedding matrix is {}'.format(embedding_matrix.shape))\n",
    "    \n",
    "    norm_embedding_matrix = (embedding_matrix - embedding_matrix.mean(0))/ embedding_matrix.std(0)\n",
    "    \n",
    "    for word_counter, each_word in enumerate(tqdm(embedding_vocab)):\n",
    "#         assert each_word==embedding_vocab[word_counter],'Not matching!!!'\n",
    "        \n",
    "        temp_file.write(str.encode(each_word+' '))\n",
    "        new_vector = norm_embedding_matrix[word_counter]\n",
    "        temp_file.write(new_vector)\n",
    "        temp_file.write(str.encode('\\n'))\n",
    "        \n",
    "    del embedding_matrix\n",
    "    del embedding_vocab\n",
    "    temp_file.close()"
   ]
  },
  {
   "cell_type": "markdown",
   "metadata": {},
   "source": [
    "## Compute the task score for different dimension size"
   ]
  },
  {
   "cell_type": "code",
   "execution_count": 42,
   "metadata": {},
   "outputs": [],
   "source": [
    "def generate_embedding_path(current_model, embedding_path, binary, antonym_vector, curr_dim):\n",
    "    curr_antonym_vector = antonymy_vector[antonym_vector[:curr_dim]]\n",
    "    curr_antonymy_vector_inverse = np.linalg.pinv(np.transpose(curr_antonym_vector))\n",
    "    transform_to_antonym_space(current_model, embedding_path, binary,curr_antonymy_vector_inverse)"
   ]
  },
  {
   "cell_type": "code",
   "execution_count": 43,
   "metadata": {},
   "outputs": [],
   "source": [
    "import subprocess\n",
    "#dim_size = 500 # Number of POLAR dimenions\n",
    "antonym_vector_method = orthogonal_antonymy_vector#random_antonym_vector # orthogonal_antonymy_vector, variance_antonymy_vector"
   ]
  },
  {
   "cell_type": "code",
   "execution_count": 44,
   "metadata": {},
   "outputs": [
    {
     "name": "stdout",
     "output_type": "stream",
     "text": [
      "New model size is 147612 50\n"
     ]
    },
    {
     "data": {
      "application/vnd.jupyter.widget-view+json": {
       "model_id": "e4b79f882218401cb445f766f977d050",
       "version_major": 2,
       "version_minor": 0
      },
      "text/plain": [
       "HBox(children=(IntProgress(value=0, max=147612), HTML(value='')))"
      ]
     },
     "metadata": {},
     "output_type": "display_data"
    },
    {
     "name": "stderr",
     "output_type": "stream",
     "text": [
      "/opt/anaconda3/lib/python3.7/site-packages/ipykernel_launcher.py:22: DeprecationWarning: Call to deprecated `__getitem__` (Method will be removed in 4.0.0, use self.wv.__getitem__() instead).\n"
     ]
    },
    {
     "name": "stdout",
     "output_type": "stream",
     "text": [
      "\n",
      "loading the model\n",
      "loading done..\n"
     ]
    },
    {
     "name": "stderr",
     "output_type": "stream",
     "text": [
      "/opt/anaconda3/lib/python3.7/site-packages/ipykernel_launcher.py:8: DeprecationWarning: Call to deprecated `wv` (Attribute will be removed in 4.0.0, use self instead).\n",
      "  \n"
     ]
    },
    {
     "data": {
      "application/vnd.jupyter.widget-view+json": {
       "model_id": "87d8e86d6ea144d595df62c770b64ca0",
       "version_major": 2,
       "version_minor": 0
      },
      "text/plain": [
       "HBox(children=(IntProgress(value=0, max=147612), HTML(value='')))"
      ]
     },
     "metadata": {},
     "output_type": "display_data"
    },
    {
     "name": "stdout",
     "output_type": "stream",
     "text": [
      "\n",
      "The shape of embedding matrix is (147612, 50)\n"
     ]
    },
    {
     "data": {
      "application/vnd.jupyter.widget-view+json": {
       "model_id": "b4cc994cca73456cb67dab17b9a3c6d3",
       "version_major": 2,
       "version_minor": 0
      },
      "text/plain": [
       "HBox(children=(IntProgress(value=0, max=147612), HTML(value='')))"
      ]
     },
     "metadata": {},
     "output_type": "display_data"
    },
    {
     "name": "stdout",
     "output_type": "stream",
     "text": [
      "\n"
     ]
    }
   ],
   "source": [
    "curr_dim = len(antonym_vector_method)#dim_size\n",
    "\n",
    "embedding_path = r'polarEmbedding'+str(curr_dim)+'.bin'\n",
    "generate_embedding_path(current_model, embedding_path,True,antonym_vector_method, curr_dim)\n",
    "\n",
    "print('loading the model')\n",
    "temp_model = gensim.models.KeyedVectors.load_word2vec_format(embedding_path, binary=True)\n",
    "print('loading done..')\n",
    "\n",
    "std_nrml_embedding_path = r'polarEmbedding'+str(curr_dim)+'_StdNrml.bin'\n",
    "standard_normal_dist_model(temp_model, std_nrml_embedding_path)\n",
    "\n"
   ]
  },
  {
   "cell_type": "markdown",
   "metadata": {},
   "source": [
    "## Our Testing"
   ]
  },
  {
   "cell_type": "code",
   "execution_count": 45,
   "metadata": {},
   "outputs": [
    {
     "name": "stdout",
     "output_type": "stream",
     "text": [
      "Finished Loading\n"
     ]
    }
   ],
   "source": [
    "#curr_dim=500\n",
    "path=r'polarEmbedding'+str(curr_dim)+'_StdNrml.bin'\n",
    "#f = open(path, \"r+b\")\n",
    "#f.seek(0)\n",
    "#print(f)\n",
    "word2vecPolar = gensim.models.KeyedVectors.load_word2vec_format(path, binary=True)\n",
    "print(\"Finished Loading\")"
   ]
  },
  {
   "cell_type": "code",
   "execution_count": 46,
   "metadata": {},
   "outputs": [
    {
     "data": {
      "text/plain": [
       "(50,)"
      ]
     },
     "execution_count": 46,
     "metadata": {},
     "output_type": "execute_result"
    }
   ],
   "source": [
    "word2vecPolar[\"test\"].shape"
   ]
  },
  {
   "cell_type": "code",
   "execution_count": 47,
   "metadata": {},
   "outputs": [
    {
     "data": {
      "text/plain": [
       "[('elizabeth', 0.6422714591026306),\n",
       " ('king', 0.6234725713729858),\n",
       " ('isabeau', 0.6121804714202881),\n",
       " ('ranavalona', 0.6099308133125305),\n",
       " ('margrethe', 0.6072167158126831),\n",
       " ('salote', 0.5936083793640137),\n",
       " ('consort', 0.5914666652679443),\n",
       " ('boleyn', 0.5876452922821045),\n",
       " ('regnant', 0.5866461992263794),\n",
       " ('isabella', 0.5862259864807129)]"
      ]
     },
     "execution_count": 47,
     "metadata": {},
     "output_type": "execute_result"
    }
   ],
   "source": [
    "word2vec.wv.most_similar(positive=[\"queen\"], topn=10)"
   ]
  },
  {
   "cell_type": "code",
   "execution_count": 48,
   "metadata": {},
   "outputs": [
    {
     "name": "stderr",
     "output_type": "stream",
     "text": [
      "/opt/anaconda3/lib/python3.7/site-packages/ipykernel_launcher.py:1: DeprecationWarning: Call to deprecated `wv` (Attribute will be removed in 4.0.0, use self instead).\n",
      "  \"\"\"Entry point for launching an IPython kernel.\n"
     ]
    },
    {
     "data": {
      "text/plain": [
       "[('dunne', 0.6469331383705139),\n",
       " ('bauer', 0.6240968704223633),\n",
       " ('britt', 0.6171437501907349),\n",
       " ('haden', 0.6099597215652466),\n",
       " ('unger', 0.6065317392349243),\n",
       " ('mcgowan', 0.6034077405929565),\n",
       " ('liza', 0.6021282076835632),\n",
       " ('linda', 0.5909505486488342),\n",
       " ('bernadette', 0.5881332159042358),\n",
       " ('joanie', 0.5838892459869385)]"
      ]
     },
     "execution_count": 48,
     "metadata": {},
     "output_type": "execute_result"
    }
   ],
   "source": [
    "word2vecPolar.wv.most_similar(positive=[\"angela\"], topn=10)"
   ]
  },
  {
   "cell_type": "code",
   "execution_count": 49,
   "metadata": {},
   "outputs": [
    {
     "name": "stdout",
     "output_type": "stream",
     "text": [
      "The most similar words to out transformation of France to Japan are:\n"
     ]
    },
    {
     "data": {
      "text/plain": [
       "[('king', 0.6730219125747681),\n",
       " ('wives', 0.632933497428894),\n",
       " ('chaplain', 0.602401614189148),\n",
       " ('adelin', 0.5985189080238342),\n",
       " ('isabeau', 0.598315417766571),\n",
       " ('cynan', 0.5928754806518555),\n",
       " ('mpande', 0.5925252437591553),\n",
       " ('abdication', 0.5902350544929504),\n",
       " ('battenberg', 0.588743269443512),\n",
       " ('mingyi', 0.5829972624778748)]"
      ]
     },
     "execution_count": 49,
     "metadata": {},
     "output_type": "execute_result"
    }
   ],
   "source": [
    "ourTokyo= word2vecPolar['king'] - word2vecPolar['man'] + word2vecPolar['woman']\n",
    "print(\"The most similar words to out transformation of France to Japan are:\")\n",
    "word2vecPolar.most_similar(positive=[ourTokyo], topn=10) # cosine similarity\n",
    "#word2vec.wv.most_similar(positive=[\"king\"], topn=10)"
   ]
  },
  {
   "cell_type": "code",
   "execution_count": 50,
   "metadata": {},
   "outputs": [
    {
     "name": "stdout",
     "output_type": "stream",
     "text": [
      "1166\n",
      "('common', 'royal')\n"
     ]
    }
   ],
   "source": [
    "#print(list_antonym)\n",
    "count=0\n",
    "for i in list_antonym:\n",
    "    #print(type(i))\n",
    "    if i == ('common', 'royal'):\n",
    "        print(count)\n",
    "    count+=1\n",
    "print(list_antonym[1166])"
   ]
  },
  {
   "cell_type": "code",
   "execution_count": 51,
   "metadata": {},
   "outputs": [
    {
     "data": {
      "text/plain": [
       "array([1309,  528,  636,  188,  351,  453,  554, 1293, 1245, 1102,  535,\n",
       "        484, 1246,  382,   83, 1373, 1129,  940, 1071,  571,  616,  139,\n",
       "       1350,  582,  874,  155, 1081, 1387, 1386,  712, 1128,  213,  830,\n",
       "       1359,  834,  281,  974,  263, 1323,  891,  769, 1400, 1099, 1009,\n",
       "        933, 1197,  917,  888,  733,  552])"
      ]
     },
     "execution_count": 51,
     "metadata": {},
     "output_type": "execute_result"
    }
   ],
   "source": [
    "orthogonal_antonymy_vector"
   ]
  },
  {
   "cell_type": "code",
   "execution_count": 52,
   "metadata": {},
   "outputs": [
    {
     "name": "stdout",
     "output_type": "stream",
     "text": [
      "('stretch', 'tight')\n",
      "('education', 'ignorance')\n",
      "('detoxify', 'intoxicate')\n",
      "('hurricane', 'sandstorm')\n",
      "('give', 'pocket')\n",
      "('listen', 'pontificate')\n",
      "('deep', 'short')\n",
      "('book', 'film')\n",
      "('lyric', 'tune')\n",
      "('blood', 'bone')\n",
      "('distribution', 'single')\n",
      "('arrive', 'leave')\n",
      "('law', 'theory')\n",
      "('fee', 'free')\n",
      "('metropolitan', 'rural')\n",
      "('cigarette', 'pipe')\n",
      "('same', 'unique')\n",
      "('bounce', 'roll')\n",
      "('anger', 'happy')\n",
      "('noticed', 'unnoticed')\n",
      "('ion', 'neutron')\n",
      "('anarchist', 'shah')\n",
      "('dog', 'kitten')\n",
      "('bowl', 'plate')\n",
      "('horizontal', 'vertical')\n",
      "('obituary', 'parody')\n",
      "('nothing', 'play')\n",
      "('sister', 'son')\n",
      "('bathroom', 'bedroom')\n",
      "('phagocyte', 'virus')\n",
      "('wall', 'window')\n",
      "('extrasensory', 'sensory')\n",
      "('compact', 'huge')\n",
      "('river', 'sea')\n",
      "('meet', 'pass')\n",
      "('confusing', 'instructive')\n",
      "('begin', 'middle')\n",
      "('beat', 'strum')\n",
      "('both', 'one')\n",
      "('cry', 'talk')\n",
      "('management', 'workforce')\n",
      "('royal', 'subject')\n",
      "('closet', 'out')\n",
      "('perfect', 'rubbish')\n",
      "('dress', 'strip')\n",
      "('party', 'work')\n",
      "('float', 'sink')\n",
      "('little', 'tall')\n",
      "('hesitation', 'rationale')\n",
      "('align', 'contrast')\n"
     ]
    }
   ],
   "source": [
    "for i in orthogonal_antonymy_vector:\n",
    "    print(list_antonym[i])"
   ]
  },
  {
   "cell_type": "code",
   "execution_count": 53,
   "metadata": {},
   "outputs": [
    {
     "name": "stdout",
     "output_type": "stream",
     "text": [
      "[ 1.2102041   0.7581533   1.3748008  -0.34474754  0.5274994   0.37725416\n",
      "  1.9020171   0.09485922 -0.6912016   2.1473606  -0.7792769  -0.3664923\n",
      "  0.4407928  -1.0588706  -1.0448052  -1.1511118   1.001032    0.46194398\n",
      "  0.03625355  0.9743986  -0.42772096 -0.2891685   0.2306617  -1.00256\n",
      " -0.78664064 -0.8664881   0.8028133  -0.14620614  1.1420616   1.7096393\n",
      " -0.42896435 -0.2834356  -1.3913168   0.09419071  0.5670788   0.01446837\n",
      "  0.26767296  0.86108714  0.16002348  0.04139027  0.14620781  0.00667229\n",
      "  0.1225685  -1.0028999  -1.0063103  -1.1985328   0.3312035  -0.71557474\n",
      " -0.22499683 -0.45097092]\n",
      "2.1473606\n",
      "('blood', 'bone')\n",
      "1.9020171\n",
      "('deep', 'short')\n",
      "1.7096393\n",
      "('phagocyte', 'virus')\n",
      "-1.3913168\n",
      "('compact', 'huge')\n",
      "1.3748008\n",
      "('detoxify', 'intoxicate')\n"
     ]
    }
   ],
   "source": [
    "#print(word2vecPolar[\"screenshot\"])\n",
    "word=word2vecPolar[\"water\"]\n",
    "print(word)\n",
    "#print(list_antonym)\n",
    "#print(orthogonal_antonymy_vector)\n",
    "thisdict = {}\n",
    "\n",
    "#indexedList=[]\n",
    "for count, value in enumerate(word):\n",
    "    thisdict[count]= value\n",
    "#print(thisdict)\n",
    "\n",
    "sortedDic=sorted(thisdict.items(), key=lambda item: abs(item[1]))\n",
    "sortedDic.reverse()\n",
    "#print(sortedDic)\n",
    "for i in range(0,5):\n",
    "    cur_Index=sortedDic[i][0]\n",
    "    originalAntonymIndex=orthogonal_antonymy_vector[cur_Index]\n",
    "    #print(originalAntonymIndex)\n",
    "    print(sortedDic[i][1])\n",
    "    print(list_antonym[originalAntonymIndex])\n",
    "    #print(sortedDic[i])"
   ]
  },
  {
   "cell_type": "code",
   "execution_count": 54,
   "metadata": {},
   "outputs": [],
   "source": [
    "import matplotlib.pyplot as pp\n",
    "def getMeaningOfWord(strWord,antonymy_vector, model, numberPolar ):\n",
    "    #print(antonymy_vector)\n",
    "    word=model[strWord]\n",
    "    thisdict = {}\n",
    "    for count, value in enumerate(word):\n",
    "        thisdict[count]= value\n",
    "    sortedDic=sorted(thisdict.items(), key=lambda item: abs(item[1]))\n",
    "    sortedDic.reverse()\n",
    "   \n",
    "    for i in range(0,numberPolar):\n",
    "        cur_Index=sortedDic[i][0]\n",
    "        originalAntonymIndex=antonymy_vector[cur_Index]\n",
    "        #print(cur_Index)\n",
    "        #print(originalAntonymIndex)\n",
    "        #print(originalAntonymIndex)\n",
    "        print(sortedDic[i][1])\n",
    "        cur_value =sortedDic[i][1]\n",
    "        leftPolar=list_antonym[originalAntonymIndex][0]\n",
    "        rightPolar=list_antonym[originalAntonymIndex][1]\n",
    "        plotPolar(rightPolar, leftPolar, cur_value)\n",
    "    "
   ]
  },
  {
   "cell_type": "code",
   "execution_count": 55,
   "metadata": {},
   "outputs": [],
   "source": [
    "def plotPolar(left, right, value):\n",
    "    fig, ax1 = plt.subplots()\n",
    "    fig.set_figheight(1)\n",
    "    \n",
    "\n",
    "    if abs(value)>10:\n",
    "        fig.set_figwidth(20)\n",
    "        ar = np.arange(-20,21)   \n",
    "    else:\n",
    "        fig.set_figwidth(10)\n",
    "        ar = np.arange(-10,11)\n",
    "    ax1.plot(ar, np.zeros_like(ar) + 0, '.')\n",
    "    ax1.plot(value, 0, 'd', linewidth=2, markersize=20, color='r')\n",
    "    ax1.set_ylabel(left, color='b',rotation=0, size=20, labelpad=50)\n",
    "    ax1.set_yticks([])\n",
    "    ax1.set_xticks(ar)\n",
    "    ax1.spines['right'].set_visible(False)\n",
    "    ax1.spines['top'].set_visible(False)\n",
    "    ax1.spines['left'].set_visible(False)\n",
    "    ax1.spines['bottom'].set_visible(False)\n",
    "\n",
    "    ax2 = ax1.twinx()\n",
    "    ax2.set_ylabel(right, color='r',rotation=0, size=20, labelpad=50)\n",
    "    ax2.set_yticks([])\n",
    "    ax1.grid(False)\n",
    "    ax2.grid(False)\n",
    "    ax2.spines['right'].set_visible(False)\n",
    "    ax2.spines['top'].set_visible(False)\n",
    "    ax2.spines['left'].set_visible(False)\n",
    "    ax2.spines['bottom'].set_visible(False)\n",
    "    \n",
    "    \n",
    "    \n",
    "    fig.tight_layout()\n",
    "    plt.show()"
   ]
  },
  {
   "cell_type": "code",
   "execution_count": 59,
   "metadata": {},
   "outputs": [
    {
     "name": "stdout",
     "output_type": "stream",
     "text": [
      "-1.8167638\n"
     ]
    },
    {
     "data": {
      "image/png": "[encoded data removed]",
      "text/plain": [
       "<Figure size 720x72 with 2 Axes>"
      ]
     },
     "metadata": {
      "needs_background": "light"
     },
     "output_type": "display_data"
    },
    {
     "name": "stdout",
     "output_type": "stream",
     "text": [
      "1.6990504\n"
     ]
    },
    {
     "data": {
      "image/png": "[encoded data removed]",
      "text/plain": [
       "<Figure size 720x72 with 2 Axes>"
      ]
     },
     "metadata": {
      "needs_background": "light"
     },
     "output_type": "display_data"
    },
    {
     "name": "stdout",
     "output_type": "stream",
     "text": [
      "-1.4756956\n"
     ]
    },
    {
     "data": {
      "image/png": "[encoded data removed]",
      "text/plain": [
       "<Figure size 720x72 with 2 Axes>"
      ]
     },
     "metadata": {
      "needs_background": "light"
     },
     "output_type": "display_data"
    },
    {
     "name": "stdout",
     "output_type": "stream",
     "text": [
      "-1.4483595\n"
     ]
    },
    {
     "data": {
      "image/png": "[encoded data removed]",
      "text/plain": [
       "<Figure size 720x72 with 2 Axes>"
      ]
     },
     "metadata": {
      "needs_background": "light"
     },
     "output_type": "display_data"
    },
    {
     "name": "stdout",
     "output_type": "stream",
     "text": [
      "1.3713413\n"
     ]
    },
    {
     "data": {
      "image/png": "[encoded data removed]",
      "text/plain": [
       "<Figure size 720x72 with 2 Axes>"
      ]
     },
     "metadata": {
      "needs_background": "light"
     },
     "output_type": "display_data"
    },
    {
     "name": "stdout",
     "output_type": "stream",
     "text": [
      "1.3469172\n"
     ]
    },
    {
     "data": {
      "image/png": "[encoded data removed]",
      "text/plain": [
       "<Figure size 720x72 with 2 Axes>"
      ]
     },
     "metadata": {
      "needs_background": "light"
     },
     "output_type": "display_data"
    },
    {
     "name": "stdout",
     "output_type": "stream",
     "text": [
      "-1.1722696\n"
     ]
    },
    {
     "data": {
      "image/png": "[encoded data removed]",
      "text/plain": [
       "<Figure size 720x72 with 2 Axes>"
      ]
     },
     "metadata": {
      "needs_background": "light"
     },
     "output_type": "display_data"
    },
    {
     "name": "stdout",
     "output_type": "stream",
     "text": [
      "1.1343632\n"
     ]
    },
    {
     "data": {
      "image/png": "[encoded data removed]",
      "text/plain": [
       "<Figure size 720x72 with 2 Axes>"
      ]
     },
     "metadata": {
      "needs_background": "light"
     },
     "output_type": "display_data"
    },
    {
     "name": "stdout",
     "output_type": "stream",
     "text": [
      "1.0744792\n"
     ]
    },
    {
     "data": {
      "image/png": "[encoded data removed]",
      "text/plain": [
       "<Figure size 720x72 with 2 Axes>"
      ]
     },
     "metadata": {
      "needs_background": "light"
     },
     "output_type": "display_data"
    },
    {
     "name": "stdout",
     "output_type": "stream",
     "text": [
      "1.0703435\n"
     ]
    },
    {
     "data": {
      "image/png": "[encoded data removed]",
      "text/plain": [
       "<Figure size 720x72 with 2 Axes>"
      ]
     },
     "metadata": {
      "needs_background": "light"
     },
     "output_type": "display_data"
    }
   ],
   "source": [
    "getMeaningOfWord(\"metal\",orthogonal_antonymy_vector, word2vecPolar, 10 )"
   ]
  },
  {
   "cell_type": "code",
   "execution_count": 57,
   "metadata": {},
   "outputs": [
    {
     "name": "stdout",
     "output_type": "stream",
     "text": [
      "b''\n",
      "finished sentiment task\n"
     ]
    }
   ],
   "source": [
    "######### Task specific code....\n",
    "command_list = ['python3', \n",
    "                    r'C:\\Users\\Jan\\Desktop\\PraktikumSS20\\POLAR-master\\Downstream Task\\TREC\\classify_task.py',\n",
    "                     std_nrml_embedding_path,\n",
    "                     '2',\n",
    "                     r'C:\\Users\\Jan\\Desktop\\PraktikumSS20\\POLAR-master\\Downstream Task\\TREC\\data\\qa_train_X.pickle',\n",
    "                     r'C:\\Users\\Jan\\Desktop\\PraktikumSS20\\POLAR-master\\Downstream Task\\TREC\\data\\qa_train_y.pickle',\n",
    "                     r'C:\\Users\\Jan\\Desktop\\PraktikumSS20\\POLAR-master\\Downstream Task\\TREC\\data\\qa_val_X.pickle',\n",
    "                     r'C:\\Users\\Jan\\Desktop\\PraktikumSS20\\POLAR-master\\Downstream Task\\TREC\\data\\qa_val_y.pickle',\n",
    "                     r'C:\\Users\\Jan\\Desktop\\PraktikumSS20\\POLAR-master\\Downstream Task\\TREC\\data\\qa_test_X.pickle',\n",
    "                     r'C:\\Users\\Jan\\Desktop\\PraktikumSS20\\POLAR-master\\Downstream Task\\TREC\\data\\qa_test_y.pickle'\n",
    "                    ]\n",
    "\n",
    "\n",
    "\n",
    "result = subprocess.run(command_list, stdout=subprocess.PIPE, shell=True)\n",
    "print(result.stdout)\n",
    "print('finished sentiment task')\n",
    "################\n",
    "del temp_model\n",
    "    \n",
    "os.remove(std_nrml_embedding_path)\n",
    "os.remove(embedding_path)"
   ]
  },
  {
   "cell_type": "code",
   "execution_count": null,
   "metadata": {},
   "outputs": [],
   "source": []
  }
 ],
 "metadata": {
  "kernelspec": {
   "display_name": "Python 3",
   "language": "python",
   "name": "python3"
  },
  "language_info": {
   "codemirror_mode": {
    "name": "ipython",
    "version": 3
   },
   "file_extension": ".py",
   "mimetype": "text/x-python",
   "name": "python",
   "nbconvert_exporter": "python",
   "pygments_lexer": "ipython3",
   "version": "3.7.4"
  }
 },
 "nbformat": 4,
 "nbformat_minor": 2
}
